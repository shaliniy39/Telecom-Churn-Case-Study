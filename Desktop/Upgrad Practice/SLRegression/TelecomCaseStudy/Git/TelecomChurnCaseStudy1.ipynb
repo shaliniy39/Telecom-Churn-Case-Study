{
 "cells": [
  {
   "cell_type": "code",
   "execution_count": 3,
   "metadata": {},
   "outputs": [],
   "source": [
    "#import libraries\n",
    "import pandas as pd\n",
    "import numpy as np\n",
    "\n",
    "# For Visualisation\n",
    "import matplotlib.pyplot as plt\n",
    "import seaborn as sns\n",
    "%matplotlib inline"
   ]
  },
  {
   "cell_type": "code",
   "execution_count": 4,
   "metadata": {},
   "outputs": [
    {
     "data": {
      "text/html": [
       "<div>\n",
       "<style scoped>\n",
       "    .dataframe tbody tr th:only-of-type {\n",
       "        vertical-align: middle;\n",
       "    }\n",
       "\n",
       "    .dataframe tbody tr th {\n",
       "        vertical-align: top;\n",
       "    }\n",
       "\n",
       "    .dataframe thead th {\n",
       "        text-align: right;\n",
       "    }\n",
       "</style>\n",
       "<table border=\"1\" class=\"dataframe\">\n",
       "  <thead>\n",
       "    <tr style=\"text-align: right;\">\n",
       "      <th></th>\n",
       "      <th>mobile_number</th>\n",
       "      <th>circle_id</th>\n",
       "      <th>loc_og_t2o_mou</th>\n",
       "      <th>std_og_t2o_mou</th>\n",
       "      <th>loc_ic_t2o_mou</th>\n",
       "      <th>last_date_of_month_6</th>\n",
       "      <th>last_date_of_month_7</th>\n",
       "      <th>last_date_of_month_8</th>\n",
       "      <th>last_date_of_month_9</th>\n",
       "      <th>arpu_6</th>\n",
       "      <th>...</th>\n",
       "      <th>sachet_3g_9</th>\n",
       "      <th>fb_user_6</th>\n",
       "      <th>fb_user_7</th>\n",
       "      <th>fb_user_8</th>\n",
       "      <th>fb_user_9</th>\n",
       "      <th>aon</th>\n",
       "      <th>aug_vbc_3g</th>\n",
       "      <th>jul_vbc_3g</th>\n",
       "      <th>jun_vbc_3g</th>\n",
       "      <th>sep_vbc_3g</th>\n",
       "    </tr>\n",
       "  </thead>\n",
       "  <tbody>\n",
       "    <tr>\n",
       "      <th>0</th>\n",
       "      <td>7000842753</td>\n",
       "      <td>109</td>\n",
       "      <td>0.0</td>\n",
       "      <td>0.0</td>\n",
       "      <td>0.0</td>\n",
       "      <td>6/30/2014</td>\n",
       "      <td>7/31/2014</td>\n",
       "      <td>8/31/2014</td>\n",
       "      <td>9/30/2014</td>\n",
       "      <td>197.385</td>\n",
       "      <td>...</td>\n",
       "      <td>0</td>\n",
       "      <td>1.0</td>\n",
       "      <td>1.0</td>\n",
       "      <td>1.0</td>\n",
       "      <td>NaN</td>\n",
       "      <td>968</td>\n",
       "      <td>30.4</td>\n",
       "      <td>0.0</td>\n",
       "      <td>101.20</td>\n",
       "      <td>3.58</td>\n",
       "    </tr>\n",
       "    <tr>\n",
       "      <th>1</th>\n",
       "      <td>7001865778</td>\n",
       "      <td>109</td>\n",
       "      <td>0.0</td>\n",
       "      <td>0.0</td>\n",
       "      <td>0.0</td>\n",
       "      <td>6/30/2014</td>\n",
       "      <td>7/31/2014</td>\n",
       "      <td>8/31/2014</td>\n",
       "      <td>9/30/2014</td>\n",
       "      <td>34.047</td>\n",
       "      <td>...</td>\n",
       "      <td>0</td>\n",
       "      <td>NaN</td>\n",
       "      <td>1.0</td>\n",
       "      <td>1.0</td>\n",
       "      <td>NaN</td>\n",
       "      <td>1006</td>\n",
       "      <td>0.0</td>\n",
       "      <td>0.0</td>\n",
       "      <td>0.00</td>\n",
       "      <td>0.00</td>\n",
       "    </tr>\n",
       "    <tr>\n",
       "      <th>2</th>\n",
       "      <td>7001625959</td>\n",
       "      <td>109</td>\n",
       "      <td>0.0</td>\n",
       "      <td>0.0</td>\n",
       "      <td>0.0</td>\n",
       "      <td>6/30/2014</td>\n",
       "      <td>7/31/2014</td>\n",
       "      <td>8/31/2014</td>\n",
       "      <td>9/30/2014</td>\n",
       "      <td>167.690</td>\n",
       "      <td>...</td>\n",
       "      <td>0</td>\n",
       "      <td>NaN</td>\n",
       "      <td>NaN</td>\n",
       "      <td>NaN</td>\n",
       "      <td>1.0</td>\n",
       "      <td>1103</td>\n",
       "      <td>0.0</td>\n",
       "      <td>0.0</td>\n",
       "      <td>4.17</td>\n",
       "      <td>0.00</td>\n",
       "    </tr>\n",
       "    <tr>\n",
       "      <th>3</th>\n",
       "      <td>7001204172</td>\n",
       "      <td>109</td>\n",
       "      <td>0.0</td>\n",
       "      <td>0.0</td>\n",
       "      <td>0.0</td>\n",
       "      <td>6/30/2014</td>\n",
       "      <td>7/31/2014</td>\n",
       "      <td>8/31/2014</td>\n",
       "      <td>9/30/2014</td>\n",
       "      <td>221.338</td>\n",
       "      <td>...</td>\n",
       "      <td>0</td>\n",
       "      <td>NaN</td>\n",
       "      <td>NaN</td>\n",
       "      <td>NaN</td>\n",
       "      <td>NaN</td>\n",
       "      <td>2491</td>\n",
       "      <td>0.0</td>\n",
       "      <td>0.0</td>\n",
       "      <td>0.00</td>\n",
       "      <td>0.00</td>\n",
       "    </tr>\n",
       "    <tr>\n",
       "      <th>4</th>\n",
       "      <td>7000142493</td>\n",
       "      <td>109</td>\n",
       "      <td>0.0</td>\n",
       "      <td>0.0</td>\n",
       "      <td>0.0</td>\n",
       "      <td>6/30/2014</td>\n",
       "      <td>7/31/2014</td>\n",
       "      <td>8/31/2014</td>\n",
       "      <td>9/30/2014</td>\n",
       "      <td>261.636</td>\n",
       "      <td>...</td>\n",
       "      <td>0</td>\n",
       "      <td>0.0</td>\n",
       "      <td>NaN</td>\n",
       "      <td>NaN</td>\n",
       "      <td>NaN</td>\n",
       "      <td>1526</td>\n",
       "      <td>0.0</td>\n",
       "      <td>0.0</td>\n",
       "      <td>0.00</td>\n",
       "      <td>0.00</td>\n",
       "    </tr>\n",
       "  </tbody>\n",
       "</table>\n",
       "<p>5 rows × 226 columns</p>\n",
       "</div>"
      ],
      "text/plain": [
       "   mobile_number  circle_id  loc_og_t2o_mou  std_og_t2o_mou  loc_ic_t2o_mou  \\\n",
       "0     7000842753        109             0.0             0.0             0.0   \n",
       "1     7001865778        109             0.0             0.0             0.0   \n",
       "2     7001625959        109             0.0             0.0             0.0   \n",
       "3     7001204172        109             0.0             0.0             0.0   \n",
       "4     7000142493        109             0.0             0.0             0.0   \n",
       "\n",
       "  last_date_of_month_6 last_date_of_month_7 last_date_of_month_8  \\\n",
       "0            6/30/2014            7/31/2014            8/31/2014   \n",
       "1            6/30/2014            7/31/2014            8/31/2014   \n",
       "2            6/30/2014            7/31/2014            8/31/2014   \n",
       "3            6/30/2014            7/31/2014            8/31/2014   \n",
       "4            6/30/2014            7/31/2014            8/31/2014   \n",
       "\n",
       "  last_date_of_month_9   arpu_6     ...      sachet_3g_9  fb_user_6  \\\n",
       "0            9/30/2014  197.385     ...                0        1.0   \n",
       "1            9/30/2014   34.047     ...                0        NaN   \n",
       "2            9/30/2014  167.690     ...                0        NaN   \n",
       "3            9/30/2014  221.338     ...                0        NaN   \n",
       "4            9/30/2014  261.636     ...                0        0.0   \n",
       "\n",
       "   fb_user_7  fb_user_8  fb_user_9   aon  aug_vbc_3g  jul_vbc_3g  jun_vbc_3g  \\\n",
       "0        1.0        1.0        NaN   968        30.4         0.0      101.20   \n",
       "1        1.0        1.0        NaN  1006         0.0         0.0        0.00   \n",
       "2        NaN        NaN        1.0  1103         0.0         0.0        4.17   \n",
       "3        NaN        NaN        NaN  2491         0.0         0.0        0.00   \n",
       "4        NaN        NaN        NaN  1526         0.0         0.0        0.00   \n",
       "\n",
       "   sep_vbc_3g  \n",
       "0        3.58  \n",
       "1        0.00  \n",
       "2        0.00  \n",
       "3        0.00  \n",
       "4        0.00  \n",
       "\n",
       "[5 rows x 226 columns]"
      ]
     },
     "execution_count": 4,
     "metadata": {},
     "output_type": "execute_result"
    }
   ],
   "source": [
    "churn = pd.read_csv(\"telecom_churn_data.csv\")\n",
    "churn.head()"
   ]
  },
  {
   "cell_type": "code",
   "execution_count": 5,
   "metadata": {},
   "outputs": [
    {
     "name": "stdout",
     "output_type": "stream",
     "text": [
      "<class 'pandas.core.frame.DataFrame'>\n",
      "RangeIndex: 99999 entries, 0 to 99998\n",
      "Columns: 226 entries, mobile_number to sep_vbc_3g\n",
      "dtypes: float64(179), int64(35), object(12)\n",
      "memory usage: 172.4+ MB\n"
     ]
    }
   ],
   "source": [
    "churn.info()"
   ]
  },
  {
   "cell_type": "markdown",
   "metadata": {},
   "source": [
    "### DATA Understanding and Imputing Missing values"
   ]
  },
  {
   "cell_type": "markdown",
   "metadata": {},
   "source": [
    "#### Categorize data"
   ]
  },
  {
   "cell_type": "code",
   "execution_count": 6,
   "metadata": {},
   "outputs": [
    {
     "data": {
      "text/plain": [
       "['last_date_of_month_6',\n",
       " 'last_date_of_month_7',\n",
       " 'last_date_of_month_8',\n",
       " 'last_date_of_month_9',\n",
       " 'date_of_last_rech_6',\n",
       " 'date_of_last_rech_7',\n",
       " 'date_of_last_rech_8',\n",
       " 'date_of_last_rech_9',\n",
       " 'date_of_last_rech_data_6',\n",
       " 'date_of_last_rech_data_7',\n",
       " 'date_of_last_rech_data_8',\n",
       " 'date_of_last_rech_data_9']"
      ]
     },
     "execution_count": 6,
     "metadata": {},
     "output_type": "execute_result"
    }
   ],
   "source": [
    "#seperating category columns\n",
    "cat_cols =  churn.select_dtypes(include=[np.object]).columns.tolist()\n",
    "cat_cols"
   ]
  },
  {
   "cell_type": "code",
   "execution_count": 7,
   "metadata": {},
   "outputs": [
    {
     "data": {
      "text/plain": [
       "last_date_of_month_6            0\n",
       "last_date_of_month_7          601\n",
       "last_date_of_month_8         1100\n",
       "last_date_of_month_9         1659\n",
       "date_of_last_rech_6          1607\n",
       "date_of_last_rech_7          1767\n",
       "date_of_last_rech_8          3622\n",
       "date_of_last_rech_9          4760\n",
       "date_of_last_rech_data_6    74846\n",
       "date_of_last_rech_data_7    74428\n",
       "date_of_last_rech_data_8    73660\n",
       "date_of_last_rech_data_9    74077\n",
       "dtype: int64"
      ]
     },
     "execution_count": 7,
     "metadata": {},
     "output_type": "execute_result"
    }
   ],
   "source": [
    "#checking nulls in category columns\n",
    "churn[cat_cols].isnull().sum()"
   ]
  },
  {
   "cell_type": "markdown",
   "metadata": {},
   "source": [
    "Replacing missing values of date_of_last_rech columns with min date"
   ]
  },
  {
   "cell_type": "code",
   "execution_count": 9,
   "metadata": {},
   "outputs": [],
   "source": [
    "# #replace missing values of date of last recharge with 1st of 6th month\n",
    "\n",
    "churn.date_of_last_rech_6.fillna(value='6/1/2014',inplace=True)\n",
    "churn.date_of_last_rech_7.fillna(value='6/1/2014',inplace=True)\n",
    "churn.date_of_last_rech_8.fillna(value='6/1/2014',inplace=True)\n",
    "churn.date_of_last_rech_9.fillna(value='6/1/2014',inplace=True)"
   ]
  },
  {
   "cell_type": "code",
   "execution_count": 10,
   "metadata": {},
   "outputs": [],
   "source": [
    "#replace missing values of date of last recharge with 1st of 6th month\n",
    "\n",
    "churn.date_of_last_rech_data_6.fillna(value='6/1/2014',inplace=True)\n",
    "churn.date_of_last_rech_data_7.fillna(value='6/1/2014',inplace=True)\n",
    "churn.date_of_last_rech_data_8.fillna(value='6/1/2014',inplace=True)\n",
    "churn.date_of_last_rech_data_9.fillna(value='6/1/2014',inplace=True)\n"
   ]
  },
  {
   "cell_type": "code",
   "execution_count": 11,
   "metadata": {},
   "outputs": [],
   "source": [
    "#replace missing values of last date of month with end date of month\n",
    "\n",
    "churn.last_date_of_month_6.fillna(value='6/30/2014',inplace=True)\n",
    "churn.last_date_of_month_7.fillna(value='7/31/2014',inplace=True)\n",
    "churn.last_date_of_month_8.fillna(value='8/31/2014',inplace=True)\n",
    "churn.last_date_of_month_9.fillna(value='9/30/2014',inplace=True)\n"
   ]
  },
  {
   "cell_type": "code",
   "execution_count": 12,
   "metadata": {},
   "outputs": [],
   "source": [
    "#new feature for recharge: no. of days\n",
    "\n",
    "churn[\"rech_days_6\"] = (pd.to_datetime(churn.last_date_of_month_6) - pd.to_datetime(churn.date_of_last_rech_6)).dt.days\n",
    "churn[\"rech_days_7\"] = (pd.to_datetime(churn.last_date_of_month_7) - pd.to_datetime(churn.date_of_last_rech_7)).dt.days\n",
    "churn[\"rech_days_8\"] = (pd.to_datetime(churn.last_date_of_month_8) - pd.to_datetime(churn.date_of_last_rech_8)).dt.days\n",
    "churn[\"rech_days_9\"] = (pd.to_datetime(churn.last_date_of_month_9) - pd.to_datetime(churn.date_of_last_rech_9)).dt.days"
   ]
  },
  {
   "cell_type": "code",
   "execution_count": 13,
   "metadata": {},
   "outputs": [],
   "source": [
    "#new feature for recharge_data : no. of days\n",
    "\n",
    "churn[\"rech_data_days_6\"] = (pd.to_datetime(churn.last_date_of_month_6) - pd.to_datetime(churn.date_of_last_rech_data_6)).dt.days\n",
    "churn[\"rech_data_days_7\"] = (pd.to_datetime(churn.last_date_of_month_7) - pd.to_datetime(churn.date_of_last_rech_data_7)).dt.days\n",
    "churn[\"rech_data_days_8\"] = (pd.to_datetime(churn.last_date_of_month_8) - pd.to_datetime(churn.date_of_last_rech_data_8)).dt.days\n",
    "churn[\"rech_data_days_9\"] = (pd.to_datetime(churn.last_date_of_month_9) - pd.to_datetime(churn.date_of_last_rech_data_9)).dt.days\n"
   ]
  },
  {
   "cell_type": "code",
   "execution_count": 14,
   "metadata": {},
   "outputs": [
    {
     "name": "stdout",
     "output_type": "stream",
     "text": [
      "0     9\n",
      "1     1\n",
      "2    13\n",
      "3     2\n",
      "4     4\n",
      "Name: rech_days_6, dtype: int64\n",
      "0     9\n",
      "1    29\n",
      "2    29\n",
      "3    29\n",
      "4    26\n",
      "Name: rech_data_days_6, dtype: int64\n"
     ]
    }
   ],
   "source": [
    "print(churn[\"rech_days_6\"].head())\n",
    "print(churn[\"rech_data_days_6\"].head())"
   ]
  },
  {
   "cell_type": "code",
   "execution_count": 15,
   "metadata": {},
   "outputs": [],
   "source": [
    "#Drop all date columns, as we created no. of days for them\n",
    "\n",
    "churn.drop(cat_cols,axis = 1 ,inplace = True)\n"
   ]
  },
  {
   "cell_type": "code",
   "execution_count": 16,
   "metadata": {},
   "outputs": [],
   "source": [
    "#Drop Mobile number\n",
    "\n",
    "churn.drop(\"mobile_number\", axis = 1,inplace = True)"
   ]
  },
  {
   "cell_type": "code",
   "execution_count": 17,
   "metadata": {},
   "outputs": [
    {
     "data": {
      "text/plain": [
       "total_rech_num_6          0\n",
       "total_rech_num_7          0\n",
       "total_rech_num_8          0\n",
       "total_rech_num_9          0\n",
       "total_rech_amt_6          0\n",
       "total_rech_amt_7          0\n",
       "total_rech_amt_8          0\n",
       "total_rech_amt_9          0\n",
       "max_rech_amt_6            0\n",
       "max_rech_amt_7            0\n",
       "max_rech_amt_8            0\n",
       "max_rech_amt_9            0\n",
       "total_rech_data_6     74846\n",
       "total_rech_data_7     74428\n",
       "total_rech_data_8     73660\n",
       "total_rech_data_9     74077\n",
       "max_rech_data_6       74846\n",
       "max_rech_data_7       74428\n",
       "max_rech_data_8       73660\n",
       "max_rech_data_9       74077\n",
       "count_rech_2g_6       74846\n",
       "count_rech_2g_7       74428\n",
       "count_rech_2g_8       73660\n",
       "count_rech_2g_9       74077\n",
       "count_rech_3g_6       74846\n",
       "count_rech_3g_7       74428\n",
       "count_rech_3g_8       73660\n",
       "count_rech_3g_9       74077\n",
       "av_rech_amt_data_6    74846\n",
       "av_rech_amt_data_7    74428\n",
       "av_rech_amt_data_8    73660\n",
       "av_rech_amt_data_9    74077\n",
       "rech_days_6               0\n",
       "rech_days_7               0\n",
       "rech_days_8               0\n",
       "rech_days_9               0\n",
       "rech_data_days_6          0\n",
       "rech_data_days_7          0\n",
       "rech_data_days_8          0\n",
       "rech_data_days_9          0\n",
       "dtype: int64"
      ]
     },
     "execution_count": 17,
     "metadata": {},
     "output_type": "execute_result"
    }
   ],
   "source": [
    "#recharge statistics\n",
    "\n",
    "churn.filter(regex = 'rech').isnull().sum()"
   ]
  },
  {
   "cell_type": "markdown",
   "metadata": {},
   "source": [
    "Here the recharge date and recharge data are having same amount of nulls, this means the customer didnt recharge\n",
    "So replace nulls of recharge values with 0's"
   ]
  },
  {
   "cell_type": "code",
   "execution_count": 18,
   "metadata": {},
   "outputs": [],
   "source": [
    "#Replace recharge data nulls with 0's\n",
    "\n",
    "rech_list = churn.filter(regex = 'rech').columns\n",
    "\n",
    "churn[rech_list] = churn[rech_list].fillna(0)\n"
   ]
  },
  {
   "cell_type": "code",
   "execution_count": 19,
   "metadata": {},
   "outputs": [
    {
     "data": {
      "text/html": [
       "<div>\n",
       "<style scoped>\n",
       "    .dataframe tbody tr th:only-of-type {\n",
       "        vertical-align: middle;\n",
       "    }\n",
       "\n",
       "    .dataframe tbody tr th {\n",
       "        vertical-align: top;\n",
       "    }\n",
       "\n",
       "    .dataframe thead th {\n",
       "        text-align: right;\n",
       "    }\n",
       "</style>\n",
       "<table border=\"1\" class=\"dataframe\">\n",
       "  <thead>\n",
       "    <tr style=\"text-align: right;\">\n",
       "      <th></th>\n",
       "      <th>circle_id</th>\n",
       "      <th>loc_og_t2o_mou</th>\n",
       "      <th>std_og_t2o_mou</th>\n",
       "      <th>loc_ic_t2o_mou</th>\n",
       "      <th>arpu_6</th>\n",
       "      <th>arpu_7</th>\n",
       "      <th>arpu_8</th>\n",
       "      <th>arpu_9</th>\n",
       "      <th>onnet_mou_6</th>\n",
       "      <th>onnet_mou_7</th>\n",
       "      <th>...</th>\n",
       "      <th>jun_vbc_3g</th>\n",
       "      <th>sep_vbc_3g</th>\n",
       "      <th>rech_days_6</th>\n",
       "      <th>rech_days_7</th>\n",
       "      <th>rech_days_8</th>\n",
       "      <th>rech_days_9</th>\n",
       "      <th>rech_data_days_6</th>\n",
       "      <th>rech_data_days_7</th>\n",
       "      <th>rech_data_days_8</th>\n",
       "      <th>rech_data_days_9</th>\n",
       "    </tr>\n",
       "  </thead>\n",
       "  <tbody>\n",
       "    <tr>\n",
       "      <th>count</th>\n",
       "      <td>99999.0</td>\n",
       "      <td>98981.0</td>\n",
       "      <td>98981.0</td>\n",
       "      <td>98981.0</td>\n",
       "      <td>99999.000000</td>\n",
       "      <td>99999.000000</td>\n",
       "      <td>99999.000000</td>\n",
       "      <td>99999.000000</td>\n",
       "      <td>96062.000000</td>\n",
       "      <td>96140.000000</td>\n",
       "      <td>...</td>\n",
       "      <td>99999.000000</td>\n",
       "      <td>99999.000000</td>\n",
       "      <td>99999.000000</td>\n",
       "      <td>99999.000000</td>\n",
       "      <td>99999.000000</td>\n",
       "      <td>99999.000000</td>\n",
       "      <td>99999.000000</td>\n",
       "      <td>99999.000000</td>\n",
       "      <td>99999.000000</td>\n",
       "      <td>99999.000000</td>\n",
       "    </tr>\n",
       "    <tr>\n",
       "      <th>mean</th>\n",
       "      <td>109.0</td>\n",
       "      <td>0.0</td>\n",
       "      <td>0.0</td>\n",
       "      <td>0.0</td>\n",
       "      <td>282.987358</td>\n",
       "      <td>278.536648</td>\n",
       "      <td>279.154731</td>\n",
       "      <td>261.645069</td>\n",
       "      <td>132.395875</td>\n",
       "      <td>133.670805</td>\n",
       "      <td>...</td>\n",
       "      <td>60.021204</td>\n",
       "      <td>3.299373</td>\n",
       "      <td>6.263593</td>\n",
       "      <td>6.487305</td>\n",
       "      <td>8.648236</td>\n",
       "      <td>9.565586</td>\n",
       "      <td>24.459505</td>\n",
       "      <td>47.540415</td>\n",
       "      <td>70.050851</td>\n",
       "      <td>92.442704</td>\n",
       "    </tr>\n",
       "    <tr>\n",
       "      <th>std</th>\n",
       "      <td>0.0</td>\n",
       "      <td>0.0</td>\n",
       "      <td>0.0</td>\n",
       "      <td>0.0</td>\n",
       "      <td>328.439770</td>\n",
       "      <td>338.156291</td>\n",
       "      <td>344.474791</td>\n",
       "      <td>341.998630</td>\n",
       "      <td>297.207406</td>\n",
       "      <td>308.794148</td>\n",
       "      <td>...</td>\n",
       "      <td>253.938223</td>\n",
       "      <td>32.408353</td>\n",
       "      <td>6.747945</td>\n",
       "      <td>9.178788</td>\n",
       "      <td>17.052093</td>\n",
       "      <td>25.474138</td>\n",
       "      <td>8.925050</td>\n",
       "      <td>21.721550</td>\n",
       "      <td>35.329724</td>\n",
       "      <td>48.466593</td>\n",
       "    </tr>\n",
       "    <tr>\n",
       "      <th>min</th>\n",
       "      <td>109.0</td>\n",
       "      <td>0.0</td>\n",
       "      <td>0.0</td>\n",
       "      <td>0.0</td>\n",
       "      <td>-2258.709000</td>\n",
       "      <td>-2014.045000</td>\n",
       "      <td>-945.808000</td>\n",
       "      <td>-1899.505000</td>\n",
       "      <td>0.000000</td>\n",
       "      <td>0.000000</td>\n",
       "      <td>...</td>\n",
       "      <td>0.000000</td>\n",
       "      <td>0.000000</td>\n",
       "      <td>0.000000</td>\n",
       "      <td>0.000000</td>\n",
       "      <td>0.000000</td>\n",
       "      <td>0.000000</td>\n",
       "      <td>0.000000</td>\n",
       "      <td>0.000000</td>\n",
       "      <td>0.000000</td>\n",
       "      <td>0.000000</td>\n",
       "    </tr>\n",
       "    <tr>\n",
       "      <th>25%</th>\n",
       "      <td>109.0</td>\n",
       "      <td>0.0</td>\n",
       "      <td>0.0</td>\n",
       "      <td>0.0</td>\n",
       "      <td>93.411500</td>\n",
       "      <td>86.980500</td>\n",
       "      <td>84.126000</td>\n",
       "      <td>62.685000</td>\n",
       "      <td>7.380000</td>\n",
       "      <td>6.660000</td>\n",
       "      <td>...</td>\n",
       "      <td>0.000000</td>\n",
       "      <td>0.000000</td>\n",
       "      <td>1.000000</td>\n",
       "      <td>1.000000</td>\n",
       "      <td>1.000000</td>\n",
       "      <td>1.000000</td>\n",
       "      <td>29.000000</td>\n",
       "      <td>29.000000</td>\n",
       "      <td>27.000000</td>\n",
       "      <td>27.000000</td>\n",
       "    </tr>\n",
       "    <tr>\n",
       "      <th>50%</th>\n",
       "      <td>109.0</td>\n",
       "      <td>0.0</td>\n",
       "      <td>0.0</td>\n",
       "      <td>0.0</td>\n",
       "      <td>197.704000</td>\n",
       "      <td>191.640000</td>\n",
       "      <td>192.080000</td>\n",
       "      <td>176.849000</td>\n",
       "      <td>34.310000</td>\n",
       "      <td>32.330000</td>\n",
       "      <td>...</td>\n",
       "      <td>0.000000</td>\n",
       "      <td>0.000000</td>\n",
       "      <td>3.000000</td>\n",
       "      <td>4.000000</td>\n",
       "      <td>4.000000</td>\n",
       "      <td>2.000000</td>\n",
       "      <td>29.000000</td>\n",
       "      <td>60.000000</td>\n",
       "      <td>91.000000</td>\n",
       "      <td>121.000000</td>\n",
       "    </tr>\n",
       "    <tr>\n",
       "      <th>75%</th>\n",
       "      <td>109.0</td>\n",
       "      <td>0.0</td>\n",
       "      <td>0.0</td>\n",
       "      <td>0.0</td>\n",
       "      <td>371.060000</td>\n",
       "      <td>365.344500</td>\n",
       "      <td>369.370500</td>\n",
       "      <td>353.466500</td>\n",
       "      <td>118.740000</td>\n",
       "      <td>115.595000</td>\n",
       "      <td>...</td>\n",
       "      <td>0.000000</td>\n",
       "      <td>0.000000</td>\n",
       "      <td>10.000000</td>\n",
       "      <td>9.000000</td>\n",
       "      <td>7.000000</td>\n",
       "      <td>6.000000</td>\n",
       "      <td>29.000000</td>\n",
       "      <td>60.000000</td>\n",
       "      <td>91.000000</td>\n",
       "      <td>121.000000</td>\n",
       "    </tr>\n",
       "    <tr>\n",
       "      <th>max</th>\n",
       "      <td>109.0</td>\n",
       "      <td>0.0</td>\n",
       "      <td>0.0</td>\n",
       "      <td>0.0</td>\n",
       "      <td>27731.088000</td>\n",
       "      <td>35145.834000</td>\n",
       "      <td>33543.624000</td>\n",
       "      <td>38805.617000</td>\n",
       "      <td>7376.710000</td>\n",
       "      <td>8157.780000</td>\n",
       "      <td>...</td>\n",
       "      <td>11166.210000</td>\n",
       "      <td>2618.570000</td>\n",
       "      <td>29.000000</td>\n",
       "      <td>60.000000</td>\n",
       "      <td>91.000000</td>\n",
       "      <td>121.000000</td>\n",
       "      <td>29.000000</td>\n",
       "      <td>60.000000</td>\n",
       "      <td>91.000000</td>\n",
       "      <td>121.000000</td>\n",
       "    </tr>\n",
       "  </tbody>\n",
       "</table>\n",
       "<p>8 rows × 221 columns</p>\n",
       "</div>"
      ],
      "text/plain": [
       "       circle_id  loc_og_t2o_mou  std_og_t2o_mou  loc_ic_t2o_mou  \\\n",
       "count    99999.0         98981.0         98981.0         98981.0   \n",
       "mean       109.0             0.0             0.0             0.0   \n",
       "std          0.0             0.0             0.0             0.0   \n",
       "min        109.0             0.0             0.0             0.0   \n",
       "25%        109.0             0.0             0.0             0.0   \n",
       "50%        109.0             0.0             0.0             0.0   \n",
       "75%        109.0             0.0             0.0             0.0   \n",
       "max        109.0             0.0             0.0             0.0   \n",
       "\n",
       "             arpu_6        arpu_7        arpu_8        arpu_9   onnet_mou_6  \\\n",
       "count  99999.000000  99999.000000  99999.000000  99999.000000  96062.000000   \n",
       "mean     282.987358    278.536648    279.154731    261.645069    132.395875   \n",
       "std      328.439770    338.156291    344.474791    341.998630    297.207406   \n",
       "min    -2258.709000  -2014.045000   -945.808000  -1899.505000      0.000000   \n",
       "25%       93.411500     86.980500     84.126000     62.685000      7.380000   \n",
       "50%      197.704000    191.640000    192.080000    176.849000     34.310000   \n",
       "75%      371.060000    365.344500    369.370500    353.466500    118.740000   \n",
       "max    27731.088000  35145.834000  33543.624000  38805.617000   7376.710000   \n",
       "\n",
       "        onnet_mou_7        ...           jun_vbc_3g    sep_vbc_3g  \\\n",
       "count  96140.000000        ...         99999.000000  99999.000000   \n",
       "mean     133.670805        ...            60.021204      3.299373   \n",
       "std      308.794148        ...           253.938223     32.408353   \n",
       "min        0.000000        ...             0.000000      0.000000   \n",
       "25%        6.660000        ...             0.000000      0.000000   \n",
       "50%       32.330000        ...             0.000000      0.000000   \n",
       "75%      115.595000        ...             0.000000      0.000000   \n",
       "max     8157.780000        ...         11166.210000   2618.570000   \n",
       "\n",
       "        rech_days_6   rech_days_7   rech_days_8   rech_days_9  \\\n",
       "count  99999.000000  99999.000000  99999.000000  99999.000000   \n",
       "mean       6.263593      6.487305      8.648236      9.565586   \n",
       "std        6.747945      9.178788     17.052093     25.474138   \n",
       "min        0.000000      0.000000      0.000000      0.000000   \n",
       "25%        1.000000      1.000000      1.000000      1.000000   \n",
       "50%        3.000000      4.000000      4.000000      2.000000   \n",
       "75%       10.000000      9.000000      7.000000      6.000000   \n",
       "max       29.000000     60.000000     91.000000    121.000000   \n",
       "\n",
       "       rech_data_days_6  rech_data_days_7  rech_data_days_8  rech_data_days_9  \n",
       "count      99999.000000      99999.000000      99999.000000      99999.000000  \n",
       "mean          24.459505         47.540415         70.050851         92.442704  \n",
       "std            8.925050         21.721550         35.329724         48.466593  \n",
       "min            0.000000          0.000000          0.000000          0.000000  \n",
       "25%           29.000000         29.000000         27.000000         27.000000  \n",
       "50%           29.000000         60.000000         91.000000        121.000000  \n",
       "75%           29.000000         60.000000         91.000000        121.000000  \n",
       "max           29.000000         60.000000         91.000000        121.000000  \n",
       "\n",
       "[8 rows x 221 columns]"
      ]
     },
     "execution_count": 19,
     "metadata": {},
     "output_type": "execute_result"
    }
   ],
   "source": [
    "churn.describe()"
   ]
  },
  {
   "cell_type": "markdown",
   "metadata": {},
   "source": [
    "As there are more columns with only single value in it, will remove them"
   ]
  },
  {
   "cell_type": "code",
   "execution_count": 20,
   "metadata": {},
   "outputs": [
    {
     "data": {
      "text/plain": [
       "(99999, 12)"
      ]
     },
     "execution_count": 20,
     "metadata": {},
     "output_type": "execute_result"
    }
   ],
   "source": [
    "#List of Columns with only 1 value\n",
    "\n",
    "col_list = churn.loc[:,churn.apply(pd.Series.nunique) == 1]\n",
    "col_list.shape"
   ]
  },
  {
   "cell_type": "code",
   "execution_count": 21,
   "metadata": {},
   "outputs": [
    {
     "data": {
      "text/plain": [
       "(99999, 209)"
      ]
     },
     "execution_count": 21,
     "metadata": {},
     "output_type": "execute_result"
    }
   ],
   "source": [
    "#dropping columns with only 1 value\n",
    "\n",
    "churn.drop(col_list,axis = 1,inplace= True)\n",
    "churn.shape"
   ]
  },
  {
   "cell_type": "markdown",
   "metadata": {},
   "source": [
    "#### Recharge data statistics"
   ]
  },
  {
   "cell_type": "code",
   "execution_count": 22,
   "metadata": {},
   "outputs": [
    {
     "data": {
      "text/html": [
       "<div>\n",
       "<style scoped>\n",
       "    .dataframe tbody tr th:only-of-type {\n",
       "        vertical-align: middle;\n",
       "    }\n",
       "\n",
       "    .dataframe tbody tr th {\n",
       "        vertical-align: top;\n",
       "    }\n",
       "\n",
       "    .dataframe thead th {\n",
       "        text-align: right;\n",
       "    }\n",
       "</style>\n",
       "<table border=\"1\" class=\"dataframe\">\n",
       "  <thead>\n",
       "    <tr style=\"text-align: right;\">\n",
       "      <th></th>\n",
       "      <th>arpu_6</th>\n",
       "      <th>arpu_7</th>\n",
       "      <th>arpu_8</th>\n",
       "      <th>arpu_9</th>\n",
       "      <th>onnet_mou_6</th>\n",
       "      <th>onnet_mou_7</th>\n",
       "      <th>onnet_mou_8</th>\n",
       "      <th>onnet_mou_9</th>\n",
       "      <th>offnet_mou_6</th>\n",
       "      <th>offnet_mou_7</th>\n",
       "      <th>...</th>\n",
       "      <th>jun_vbc_3g</th>\n",
       "      <th>sep_vbc_3g</th>\n",
       "      <th>rech_days_6</th>\n",
       "      <th>rech_days_7</th>\n",
       "      <th>rech_days_8</th>\n",
       "      <th>rech_days_9</th>\n",
       "      <th>rech_data_days_6</th>\n",
       "      <th>rech_data_days_7</th>\n",
       "      <th>rech_data_days_8</th>\n",
       "      <th>rech_data_days_9</th>\n",
       "    </tr>\n",
       "    <tr>\n",
       "      <th>av_rech_amt_data_6</th>\n",
       "      <th></th>\n",
       "      <th></th>\n",
       "      <th></th>\n",
       "      <th></th>\n",
       "      <th></th>\n",
       "      <th></th>\n",
       "      <th></th>\n",
       "      <th></th>\n",
       "      <th></th>\n",
       "      <th></th>\n",
       "      <th></th>\n",
       "      <th></th>\n",
       "      <th></th>\n",
       "      <th></th>\n",
       "      <th></th>\n",
       "      <th></th>\n",
       "      <th></th>\n",
       "      <th></th>\n",
       "      <th></th>\n",
       "      <th></th>\n",
       "      <th></th>\n",
       "    </tr>\n",
       "  </thead>\n",
       "  <tbody>\n",
       "    <tr>\n",
       "      <th>1.0</th>\n",
       "      <td>29</td>\n",
       "      <td>29</td>\n",
       "      <td>29</td>\n",
       "      <td>29</td>\n",
       "      <td>29</td>\n",
       "      <td>29</td>\n",
       "      <td>28</td>\n",
       "      <td>26</td>\n",
       "      <td>29</td>\n",
       "      <td>29</td>\n",
       "      <td>...</td>\n",
       "      <td>29</td>\n",
       "      <td>29</td>\n",
       "      <td>29</td>\n",
       "      <td>29</td>\n",
       "      <td>29</td>\n",
       "      <td>29</td>\n",
       "      <td>29</td>\n",
       "      <td>29</td>\n",
       "      <td>29</td>\n",
       "      <td>29</td>\n",
       "    </tr>\n",
       "    <tr>\n",
       "      <th>2.0</th>\n",
       "      <td>4</td>\n",
       "      <td>4</td>\n",
       "      <td>4</td>\n",
       "      <td>4</td>\n",
       "      <td>4</td>\n",
       "      <td>4</td>\n",
       "      <td>4</td>\n",
       "      <td>4</td>\n",
       "      <td>4</td>\n",
       "      <td>4</td>\n",
       "      <td>...</td>\n",
       "      <td>4</td>\n",
       "      <td>4</td>\n",
       "      <td>4</td>\n",
       "      <td>4</td>\n",
       "      <td>4</td>\n",
       "      <td>4</td>\n",
       "      <td>4</td>\n",
       "      <td>4</td>\n",
       "      <td>4</td>\n",
       "      <td>4</td>\n",
       "    </tr>\n",
       "    <tr>\n",
       "      <th>3.0</th>\n",
       "      <td>3</td>\n",
       "      <td>3</td>\n",
       "      <td>3</td>\n",
       "      <td>3</td>\n",
       "      <td>3</td>\n",
       "      <td>3</td>\n",
       "      <td>3</td>\n",
       "      <td>3</td>\n",
       "      <td>3</td>\n",
       "      <td>3</td>\n",
       "      <td>...</td>\n",
       "      <td>3</td>\n",
       "      <td>3</td>\n",
       "      <td>3</td>\n",
       "      <td>3</td>\n",
       "      <td>3</td>\n",
       "      <td>3</td>\n",
       "      <td>3</td>\n",
       "      <td>3</td>\n",
       "      <td>3</td>\n",
       "      <td>3</td>\n",
       "    </tr>\n",
       "    <tr>\n",
       "      <th>5.0</th>\n",
       "      <td>19</td>\n",
       "      <td>19</td>\n",
       "      <td>19</td>\n",
       "      <td>19</td>\n",
       "      <td>18</td>\n",
       "      <td>19</td>\n",
       "      <td>19</td>\n",
       "      <td>18</td>\n",
       "      <td>18</td>\n",
       "      <td>19</td>\n",
       "      <td>...</td>\n",
       "      <td>19</td>\n",
       "      <td>19</td>\n",
       "      <td>19</td>\n",
       "      <td>19</td>\n",
       "      <td>19</td>\n",
       "      <td>19</td>\n",
       "      <td>19</td>\n",
       "      <td>19</td>\n",
       "      <td>19</td>\n",
       "      <td>19</td>\n",
       "    </tr>\n",
       "    <tr>\n",
       "      <th>6.0</th>\n",
       "      <td>4</td>\n",
       "      <td>4</td>\n",
       "      <td>4</td>\n",
       "      <td>4</td>\n",
       "      <td>4</td>\n",
       "      <td>4</td>\n",
       "      <td>3</td>\n",
       "      <td>3</td>\n",
       "      <td>4</td>\n",
       "      <td>4</td>\n",
       "      <td>...</td>\n",
       "      <td>4</td>\n",
       "      <td>4</td>\n",
       "      <td>4</td>\n",
       "      <td>4</td>\n",
       "      <td>4</td>\n",
       "      <td>4</td>\n",
       "      <td>4</td>\n",
       "      <td>4</td>\n",
       "      <td>4</td>\n",
       "      <td>4</td>\n",
       "    </tr>\n",
       "  </tbody>\n",
       "</table>\n",
       "<p>5 rows × 208 columns</p>\n",
       "</div>"
      ],
      "text/plain": [
       "                    arpu_6  arpu_7  arpu_8  arpu_9  onnet_mou_6  onnet_mou_7  \\\n",
       "av_rech_amt_data_6                                                             \n",
       "1.0                     29      29      29      29           29           29   \n",
       "2.0                      4       4       4       4            4            4   \n",
       "3.0                      3       3       3       3            3            3   \n",
       "5.0                     19      19      19      19           18           19   \n",
       "6.0                      4       4       4       4            4            4   \n",
       "\n",
       "                    onnet_mou_8  onnet_mou_9  offnet_mou_6  offnet_mou_7  \\\n",
       "av_rech_amt_data_6                                                         \n",
       "1.0                          28           26            29            29   \n",
       "2.0                           4            4             4             4   \n",
       "3.0                           3            3             3             3   \n",
       "5.0                          19           18            18            19   \n",
       "6.0                           3            3             4             4   \n",
       "\n",
       "                          ...         jun_vbc_3g  sep_vbc_3g  rech_days_6  \\\n",
       "av_rech_amt_data_6        ...                                               \n",
       "1.0                       ...                 29          29           29   \n",
       "2.0                       ...                  4           4            4   \n",
       "3.0                       ...                  3           3            3   \n",
       "5.0                       ...                 19          19           19   \n",
       "6.0                       ...                  4           4            4   \n",
       "\n",
       "                    rech_days_7  rech_days_8  rech_days_9  rech_data_days_6  \\\n",
       "av_rech_amt_data_6                                                            \n",
       "1.0                          29           29           29                29   \n",
       "2.0                           4            4            4                 4   \n",
       "3.0                           3            3            3                 3   \n",
       "5.0                          19           19           19                19   \n",
       "6.0                           4            4            4                 4   \n",
       "\n",
       "                    rech_data_days_7  rech_data_days_8  rech_data_days_9  \n",
       "av_rech_amt_data_6                                                        \n",
       "1.0                               29                29                29  \n",
       "2.0                                4                 4                 4  \n",
       "3.0                                3                 3                 3  \n",
       "5.0                               19                19                19  \n",
       "6.0                                4                 4                 4  \n",
       "\n",
       "[5 rows x 208 columns]"
      ]
     },
     "execution_count": 22,
     "metadata": {},
     "output_type": "execute_result"
    }
   ],
   "source": [
    "churn[churn.av_rech_amt_data_6 != 0].groupby(\"av_rech_amt_data_6\").count().head()"
   ]
  },
  {
   "cell_type": "code",
   "execution_count": 23,
   "metadata": {},
   "outputs": [
    {
     "data": {
      "text/html": [
       "<div>\n",
       "<style scoped>\n",
       "    .dataframe tbody tr th:only-of-type {\n",
       "        vertical-align: middle;\n",
       "    }\n",
       "\n",
       "    .dataframe tbody tr th {\n",
       "        vertical-align: top;\n",
       "    }\n",
       "\n",
       "    .dataframe thead th {\n",
       "        text-align: right;\n",
       "    }\n",
       "</style>\n",
       "<table border=\"1\" class=\"dataframe\">\n",
       "  <thead>\n",
       "    <tr style=\"text-align: right;\">\n",
       "      <th></th>\n",
       "      <th>arpu_6</th>\n",
       "      <th>arpu_7</th>\n",
       "      <th>arpu_8</th>\n",
       "      <th>arpu_9</th>\n",
       "      <th>onnet_mou_6</th>\n",
       "      <th>onnet_mou_7</th>\n",
       "      <th>onnet_mou_8</th>\n",
       "      <th>onnet_mou_9</th>\n",
       "      <th>offnet_mou_6</th>\n",
       "      <th>offnet_mou_7</th>\n",
       "      <th>...</th>\n",
       "      <th>jun_vbc_3g</th>\n",
       "      <th>sep_vbc_3g</th>\n",
       "      <th>rech_days_6</th>\n",
       "      <th>rech_days_7</th>\n",
       "      <th>rech_days_8</th>\n",
       "      <th>rech_days_9</th>\n",
       "      <th>rech_data_days_6</th>\n",
       "      <th>rech_data_days_7</th>\n",
       "      <th>rech_data_days_8</th>\n",
       "      <th>rech_data_days_9</th>\n",
       "    </tr>\n",
       "    <tr>\n",
       "      <th>total_rech_data_6</th>\n",
       "      <th></th>\n",
       "      <th></th>\n",
       "      <th></th>\n",
       "      <th></th>\n",
       "      <th></th>\n",
       "      <th></th>\n",
       "      <th></th>\n",
       "      <th></th>\n",
       "      <th></th>\n",
       "      <th></th>\n",
       "      <th></th>\n",
       "      <th></th>\n",
       "      <th></th>\n",
       "      <th></th>\n",
       "      <th></th>\n",
       "      <th></th>\n",
       "      <th></th>\n",
       "      <th></th>\n",
       "      <th></th>\n",
       "      <th></th>\n",
       "      <th></th>\n",
       "    </tr>\n",
       "  </thead>\n",
       "  <tbody>\n",
       "    <tr>\n",
       "      <th>1.0</th>\n",
       "      <td>13309</td>\n",
       "      <td>13309</td>\n",
       "      <td>13309</td>\n",
       "      <td>13309</td>\n",
       "      <td>12896</td>\n",
       "      <td>12683</td>\n",
       "      <td>12398</td>\n",
       "      <td>12164</td>\n",
       "      <td>12896</td>\n",
       "      <td>12683</td>\n",
       "      <td>...</td>\n",
       "      <td>13309</td>\n",
       "      <td>13309</td>\n",
       "      <td>13309</td>\n",
       "      <td>13309</td>\n",
       "      <td>13309</td>\n",
       "      <td>13309</td>\n",
       "      <td>13309</td>\n",
       "      <td>13309</td>\n",
       "      <td>13309</td>\n",
       "      <td>13309</td>\n",
       "    </tr>\n",
       "    <tr>\n",
       "      <th>2.0</th>\n",
       "      <td>5186</td>\n",
       "      <td>5186</td>\n",
       "      <td>5186</td>\n",
       "      <td>5186</td>\n",
       "      <td>5075</td>\n",
       "      <td>4999</td>\n",
       "      <td>4866</td>\n",
       "      <td>4743</td>\n",
       "      <td>5075</td>\n",
       "      <td>4999</td>\n",
       "      <td>...</td>\n",
       "      <td>5186</td>\n",
       "      <td>5186</td>\n",
       "      <td>5186</td>\n",
       "      <td>5186</td>\n",
       "      <td>5186</td>\n",
       "      <td>5186</td>\n",
       "      <td>5186</td>\n",
       "      <td>5186</td>\n",
       "      <td>5186</td>\n",
       "      <td>5186</td>\n",
       "    </tr>\n",
       "    <tr>\n",
       "      <th>3.0</th>\n",
       "      <td>2065</td>\n",
       "      <td>2065</td>\n",
       "      <td>2065</td>\n",
       "      <td>2065</td>\n",
       "      <td>2031</td>\n",
       "      <td>2006</td>\n",
       "      <td>1947</td>\n",
       "      <td>1901</td>\n",
       "      <td>2031</td>\n",
       "      <td>2006</td>\n",
       "      <td>...</td>\n",
       "      <td>2065</td>\n",
       "      <td>2065</td>\n",
       "      <td>2065</td>\n",
       "      <td>2065</td>\n",
       "      <td>2065</td>\n",
       "      <td>2065</td>\n",
       "      <td>2065</td>\n",
       "      <td>2065</td>\n",
       "      <td>2065</td>\n",
       "      <td>2065</td>\n",
       "    </tr>\n",
       "    <tr>\n",
       "      <th>4.0</th>\n",
       "      <td>1335</td>\n",
       "      <td>1335</td>\n",
       "      <td>1335</td>\n",
       "      <td>1335</td>\n",
       "      <td>1328</td>\n",
       "      <td>1301</td>\n",
       "      <td>1273</td>\n",
       "      <td>1223</td>\n",
       "      <td>1328</td>\n",
       "      <td>1301</td>\n",
       "      <td>...</td>\n",
       "      <td>1335</td>\n",
       "      <td>1335</td>\n",
       "      <td>1335</td>\n",
       "      <td>1335</td>\n",
       "      <td>1335</td>\n",
       "      <td>1335</td>\n",
       "      <td>1335</td>\n",
       "      <td>1335</td>\n",
       "      <td>1335</td>\n",
       "      <td>1335</td>\n",
       "    </tr>\n",
       "    <tr>\n",
       "      <th>5.0</th>\n",
       "      <td>808</td>\n",
       "      <td>808</td>\n",
       "      <td>808</td>\n",
       "      <td>808</td>\n",
       "      <td>798</td>\n",
       "      <td>785</td>\n",
       "      <td>758</td>\n",
       "      <td>744</td>\n",
       "      <td>798</td>\n",
       "      <td>785</td>\n",
       "      <td>...</td>\n",
       "      <td>808</td>\n",
       "      <td>808</td>\n",
       "      <td>808</td>\n",
       "      <td>808</td>\n",
       "      <td>808</td>\n",
       "      <td>808</td>\n",
       "      <td>808</td>\n",
       "      <td>808</td>\n",
       "      <td>808</td>\n",
       "      <td>808</td>\n",
       "    </tr>\n",
       "  </tbody>\n",
       "</table>\n",
       "<p>5 rows × 208 columns</p>\n",
       "</div>"
      ],
      "text/plain": [
       "                   arpu_6  arpu_7  arpu_8  arpu_9  onnet_mou_6  onnet_mou_7  \\\n",
       "total_rech_data_6                                                             \n",
       "1.0                 13309   13309   13309   13309        12896        12683   \n",
       "2.0                  5186    5186    5186    5186         5075         4999   \n",
       "3.0                  2065    2065    2065    2065         2031         2006   \n",
       "4.0                  1335    1335    1335    1335         1328         1301   \n",
       "5.0                   808     808     808     808          798          785   \n",
       "\n",
       "                   onnet_mou_8  onnet_mou_9  offnet_mou_6  offnet_mou_7  \\\n",
       "total_rech_data_6                                                         \n",
       "1.0                      12398        12164         12896         12683   \n",
       "2.0                       4866         4743          5075          4999   \n",
       "3.0                       1947         1901          2031          2006   \n",
       "4.0                       1273         1223          1328          1301   \n",
       "5.0                        758          744           798           785   \n",
       "\n",
       "                         ...         jun_vbc_3g  sep_vbc_3g  rech_days_6  \\\n",
       "total_rech_data_6        ...                                               \n",
       "1.0                      ...              13309       13309        13309   \n",
       "2.0                      ...               5186        5186         5186   \n",
       "3.0                      ...               2065        2065         2065   \n",
       "4.0                      ...               1335        1335         1335   \n",
       "5.0                      ...                808         808          808   \n",
       "\n",
       "                   rech_days_7  rech_days_8  rech_days_9  rech_data_days_6  \\\n",
       "total_rech_data_6                                                            \n",
       "1.0                      13309        13309        13309             13309   \n",
       "2.0                       5186         5186         5186              5186   \n",
       "3.0                       2065         2065         2065              2065   \n",
       "4.0                       1335         1335         1335              1335   \n",
       "5.0                        808          808          808               808   \n",
       "\n",
       "                   rech_data_days_7  rech_data_days_8  rech_data_days_9  \n",
       "total_rech_data_6                                                        \n",
       "1.0                           13309             13309             13309  \n",
       "2.0                            5186              5186              5186  \n",
       "3.0                            2065              2065              2065  \n",
       "4.0                            1335              1335              1335  \n",
       "5.0                             808               808               808  \n",
       "\n",
       "[5 rows x 208 columns]"
      ]
     },
     "execution_count": 23,
     "metadata": {},
     "output_type": "execute_result"
    }
   ],
   "source": [
    "churn[churn.total_rech_data_6 != 0].groupby(\"total_rech_data_6\").count().head()"
   ]
  },
  {
   "cell_type": "code",
   "execution_count": 24,
   "metadata": {},
   "outputs": [
    {
     "data": {
      "text/html": [
       "<div>\n",
       "<style scoped>\n",
       "    .dataframe tbody tr th:only-of-type {\n",
       "        vertical-align: middle;\n",
       "    }\n",
       "\n",
       "    .dataframe tbody tr th {\n",
       "        vertical-align: top;\n",
       "    }\n",
       "\n",
       "    .dataframe thead th {\n",
       "        text-align: right;\n",
       "    }\n",
       "</style>\n",
       "<table border=\"1\" class=\"dataframe\">\n",
       "  <thead>\n",
       "    <tr style=\"text-align: right;\">\n",
       "      <th></th>\n",
       "      <th>arpu_6</th>\n",
       "      <th>arpu_7</th>\n",
       "      <th>arpu_8</th>\n",
       "      <th>arpu_9</th>\n",
       "      <th>onnet_mou_6</th>\n",
       "      <th>onnet_mou_7</th>\n",
       "      <th>onnet_mou_8</th>\n",
       "      <th>onnet_mou_9</th>\n",
       "      <th>offnet_mou_6</th>\n",
       "      <th>offnet_mou_7</th>\n",
       "      <th>...</th>\n",
       "      <th>jun_vbc_3g</th>\n",
       "      <th>sep_vbc_3g</th>\n",
       "      <th>rech_days_6</th>\n",
       "      <th>rech_days_7</th>\n",
       "      <th>rech_days_8</th>\n",
       "      <th>rech_days_9</th>\n",
       "      <th>rech_data_days_6</th>\n",
       "      <th>rech_data_days_7</th>\n",
       "      <th>rech_data_days_8</th>\n",
       "      <th>rech_data_days_9</th>\n",
       "    </tr>\n",
       "    <tr>\n",
       "      <th>max_rech_data_6</th>\n",
       "      <th></th>\n",
       "      <th></th>\n",
       "      <th></th>\n",
       "      <th></th>\n",
       "      <th></th>\n",
       "      <th></th>\n",
       "      <th></th>\n",
       "      <th></th>\n",
       "      <th></th>\n",
       "      <th></th>\n",
       "      <th></th>\n",
       "      <th></th>\n",
       "      <th></th>\n",
       "      <th></th>\n",
       "      <th></th>\n",
       "      <th></th>\n",
       "      <th></th>\n",
       "      <th></th>\n",
       "      <th></th>\n",
       "      <th></th>\n",
       "      <th></th>\n",
       "    </tr>\n",
       "  </thead>\n",
       "  <tbody>\n",
       "    <tr>\n",
       "      <th>1.0</th>\n",
       "      <td>45</td>\n",
       "      <td>45</td>\n",
       "      <td>45</td>\n",
       "      <td>45</td>\n",
       "      <td>45</td>\n",
       "      <td>45</td>\n",
       "      <td>43</td>\n",
       "      <td>41</td>\n",
       "      <td>45</td>\n",
       "      <td>45</td>\n",
       "      <td>...</td>\n",
       "      <td>45</td>\n",
       "      <td>45</td>\n",
       "      <td>45</td>\n",
       "      <td>45</td>\n",
       "      <td>45</td>\n",
       "      <td>45</td>\n",
       "      <td>45</td>\n",
       "      <td>45</td>\n",
       "      <td>45</td>\n",
       "      <td>45</td>\n",
       "    </tr>\n",
       "    <tr>\n",
       "      <th>5.0</th>\n",
       "      <td>21</td>\n",
       "      <td>21</td>\n",
       "      <td>21</td>\n",
       "      <td>21</td>\n",
       "      <td>20</td>\n",
       "      <td>21</td>\n",
       "      <td>20</td>\n",
       "      <td>19</td>\n",
       "      <td>20</td>\n",
       "      <td>21</td>\n",
       "      <td>...</td>\n",
       "      <td>21</td>\n",
       "      <td>21</td>\n",
       "      <td>21</td>\n",
       "      <td>21</td>\n",
       "      <td>21</td>\n",
       "      <td>21</td>\n",
       "      <td>21</td>\n",
       "      <td>21</td>\n",
       "      <td>21</td>\n",
       "      <td>21</td>\n",
       "    </tr>\n",
       "    <tr>\n",
       "      <th>8.0</th>\n",
       "      <td>163</td>\n",
       "      <td>163</td>\n",
       "      <td>163</td>\n",
       "      <td>163</td>\n",
       "      <td>163</td>\n",
       "      <td>159</td>\n",
       "      <td>156</td>\n",
       "      <td>149</td>\n",
       "      <td>163</td>\n",
       "      <td>159</td>\n",
       "      <td>...</td>\n",
       "      <td>163</td>\n",
       "      <td>163</td>\n",
       "      <td>163</td>\n",
       "      <td>163</td>\n",
       "      <td>163</td>\n",
       "      <td>163</td>\n",
       "      <td>163</td>\n",
       "      <td>163</td>\n",
       "      <td>163</td>\n",
       "      <td>163</td>\n",
       "    </tr>\n",
       "    <tr>\n",
       "      <th>9.0</th>\n",
       "      <td>5</td>\n",
       "      <td>5</td>\n",
       "      <td>5</td>\n",
       "      <td>5</td>\n",
       "      <td>5</td>\n",
       "      <td>4</td>\n",
       "      <td>3</td>\n",
       "      <td>2</td>\n",
       "      <td>5</td>\n",
       "      <td>4</td>\n",
       "      <td>...</td>\n",
       "      <td>5</td>\n",
       "      <td>5</td>\n",
       "      <td>5</td>\n",
       "      <td>5</td>\n",
       "      <td>5</td>\n",
       "      <td>5</td>\n",
       "      <td>5</td>\n",
       "      <td>5</td>\n",
       "      <td>5</td>\n",
       "      <td>5</td>\n",
       "    </tr>\n",
       "    <tr>\n",
       "      <th>13.0</th>\n",
       "      <td>14</td>\n",
       "      <td>14</td>\n",
       "      <td>14</td>\n",
       "      <td>14</td>\n",
       "      <td>14</td>\n",
       "      <td>14</td>\n",
       "      <td>14</td>\n",
       "      <td>13</td>\n",
       "      <td>14</td>\n",
       "      <td>14</td>\n",
       "      <td>...</td>\n",
       "      <td>14</td>\n",
       "      <td>14</td>\n",
       "      <td>14</td>\n",
       "      <td>14</td>\n",
       "      <td>14</td>\n",
       "      <td>14</td>\n",
       "      <td>14</td>\n",
       "      <td>14</td>\n",
       "      <td>14</td>\n",
       "      <td>14</td>\n",
       "    </tr>\n",
       "  </tbody>\n",
       "</table>\n",
       "<p>5 rows × 208 columns</p>\n",
       "</div>"
      ],
      "text/plain": [
       "                 arpu_6  arpu_7  arpu_8  arpu_9  onnet_mou_6  onnet_mou_7  \\\n",
       "max_rech_data_6                                                             \n",
       "1.0                  45      45      45      45           45           45   \n",
       "5.0                  21      21      21      21           20           21   \n",
       "8.0                 163     163     163     163          163          159   \n",
       "9.0                   5       5       5       5            5            4   \n",
       "13.0                 14      14      14      14           14           14   \n",
       "\n",
       "                 onnet_mou_8  onnet_mou_9  offnet_mou_6  offnet_mou_7  \\\n",
       "max_rech_data_6                                                         \n",
       "1.0                       43           41            45            45   \n",
       "5.0                       20           19            20            21   \n",
       "8.0                      156          149           163           159   \n",
       "9.0                        3            2             5             4   \n",
       "13.0                      14           13            14            14   \n",
       "\n",
       "                       ...         jun_vbc_3g  sep_vbc_3g  rech_days_6  \\\n",
       "max_rech_data_6        ...                                               \n",
       "1.0                    ...                 45          45           45   \n",
       "5.0                    ...                 21          21           21   \n",
       "8.0                    ...                163         163          163   \n",
       "9.0                    ...                  5           5            5   \n",
       "13.0                   ...                 14          14           14   \n",
       "\n",
       "                 rech_days_7  rech_days_8  rech_days_9  rech_data_days_6  \\\n",
       "max_rech_data_6                                                            \n",
       "1.0                       45           45           45                45   \n",
       "5.0                       21           21           21                21   \n",
       "8.0                      163          163          163               163   \n",
       "9.0                        5            5            5                 5   \n",
       "13.0                      14           14           14                14   \n",
       "\n",
       "                 rech_data_days_7  rech_data_days_8  rech_data_days_9  \n",
       "max_rech_data_6                                                        \n",
       "1.0                            45                45                45  \n",
       "5.0                            21                21                21  \n",
       "8.0                           163               163               163  \n",
       "9.0                             5                 5                 5  \n",
       "13.0                           14                14                14  \n",
       "\n",
       "[5 rows x 208 columns]"
      ]
     },
     "execution_count": 24,
     "metadata": {},
     "output_type": "execute_result"
    }
   ],
   "source": [
    "churn[churn.max_rech_data_6 != 0].groupby(\"max_rech_data_6\").count().head()\n"
   ]
  },
  {
   "cell_type": "code",
   "execution_count": 25,
   "metadata": {},
   "outputs": [
    {
     "data": {
      "text/plain": [
       "arpu_3g_6                  arpu_3g_6\n",
       "arpu_3g_7                  arpu_3g_7\n",
       "arpu_3g_8                  arpu_3g_8\n",
       "arpu_2g_6                  arpu_2g_6\n",
       "arpu_2g_7                  arpu_2g_7\n",
       "arpu_2g_8                  arpu_2g_8\n",
       "night_pck_user_6    night_pck_user_6\n",
       "night_pck_user_7    night_pck_user_7\n",
       "night_pck_user_8    night_pck_user_8\n",
       "fb_user_6                  fb_user_6\n",
       "fb_user_7                  fb_user_7\n",
       "fb_user_8                  fb_user_8\n",
       "Name: column_name, dtype: object"
      ]
     },
     "execution_count": 25,
     "metadata": {},
     "output_type": "execute_result"
    }
   ],
   "source": [
    "#columns with missing value > 30%\n",
    "\n",
    "missing_percent = (churn.isnull().sum()/churn.shape[0])*100\n",
    "\n",
    "columns = churn.columns\n",
    "\n",
    "missing_value_df = pd.DataFrame({'column_name': columns,\n",
    "                                 'percent_missing': missing_percent})\n",
    "\n",
    "drop_col = missing_value_df.loc[(missing_value_df[\"column_name\"].str.contains('_9')==False) & (missing_value_df[\"percent_missing\"] > 30.0)][\"column_name\"]\n",
    "drop_col"
   ]
  },
  {
   "cell_type": "code",
   "execution_count": 26,
   "metadata": {},
   "outputs": [
    {
     "data": {
      "text/plain": [
       "(99999, 197)"
      ]
     },
     "execution_count": 26,
     "metadata": {},
     "output_type": "execute_result"
    }
   ],
   "source": [
    "#removing columns with missing values > 30%\n",
    "\n",
    "churn.drop(drop_col, axis=1, inplace=True)\n",
    "churn.shape"
   ]
  },
  {
   "cell_type": "code",
   "execution_count": 27,
   "metadata": {},
   "outputs": [
    {
     "data": {
      "text/plain": [
       "(99999, 197)"
      ]
     },
     "execution_count": 27,
     "metadata": {},
     "output_type": "execute_result"
    }
   ],
   "source": [
    "churn.shape"
   ]
  },
  {
   "cell_type": "markdown",
   "metadata": {},
   "source": [
    "### Data Preparation"
   ]
  },
  {
   "cell_type": "markdown",
   "metadata": {},
   "source": [
    "#### selecting high value customers\n"
   ]
  },
  {
   "cell_type": "code",
   "execution_count": 28,
   "metadata": {},
   "outputs": [],
   "source": [
    "#selecting high value customers\n",
    "\n",
    "total_data_rech_6 =  (churn.total_rech_data_6 * churn.av_rech_amt_data_6)  \n",
    "\n",
    "total_data_rech_7 = (churn.total_rech_data_7 * churn.av_rech_amt_data_7)\n",
    "\n",
    "total_data_rech_7 = total_data_rech_7.fillna(0)\n",
    "total_data_rech_6 = total_data_rech_6.fillna(0)\n",
    "\n",
    "amt_rech = churn.total_rech_amt_6 + churn.total_rech_amt_7 + total_data_rech_6 + total_data_rech_7 \n"
   ]
  },
  {
   "cell_type": "code",
   "execution_count": 29,
   "metadata": {},
   "outputs": [],
   "source": [
    "#percentile of 70\n",
    "\n",
    "pc70 = np.percentile(amt_rech, 70.0)"
   ]
  },
  {
   "cell_type": "code",
   "execution_count": 30,
   "metadata": {},
   "outputs": [
    {
     "data": {
      "text/plain": [
       "(30001, 197)"
      ]
     },
     "execution_count": 30,
     "metadata": {},
     "output_type": "execute_result"
    }
   ],
   "source": [
    "high_val_cust = churn[amt_rech >= pc70]\n",
    "high_val_cust.shape"
   ]
  },
  {
   "cell_type": "markdown",
   "metadata": {},
   "source": [
    "#### Labelling Churn"
   ]
  },
  {
   "cell_type": "code",
   "execution_count": 31,
   "metadata": {},
   "outputs": [
    {
     "name": "stderr",
     "output_type": "stream",
     "text": [
      "C:\\Users\\Ajit Shalini\\Anaconda3\\lib\\site-packages\\ipykernel_launcher.py:5: SettingWithCopyWarning: \n",
      "A value is trying to be set on a copy of a slice from a DataFrame.\n",
      "Try using .loc[row_indexer,col_indexer] = value instead\n",
      "\n",
      "See the caveats in the documentation: http://pandas.pydata.org/pandas-docs/stable/indexing.html#indexing-view-versus-copy\n",
      "  \"\"\"\n"
     ]
    }
   ],
   "source": [
    "#churned customers (churn=1, else 0) \n",
    "high_val_cust['churn'] = np.where(high_val_cust[['total_ic_mou_9','total_og_mou_9','vol_2g_mb_9','vol_3g_mb_9']]\n",
    "                                     .sum(axis=1) == 0, \n",
    "                                   1,\n",
    "                                   0)"
   ]
  },
  {
   "cell_type": "code",
   "execution_count": 32,
   "metadata": {},
   "outputs": [
    {
     "data": {
      "text/plain": [
       "0     1\n",
       "7     1\n",
       "8     0\n",
       "21    0\n",
       "23    0\n",
       "Name: churn, dtype: int32"
      ]
     },
     "execution_count": 32,
     "metadata": {},
     "output_type": "execute_result"
    }
   ],
   "source": [
    "high_val_cust['churn'].head()"
   ]
  },
  {
   "cell_type": "code",
   "execution_count": 33,
   "metadata": {},
   "outputs": [
    {
     "name": "stderr",
     "output_type": "stream",
     "text": [
      "C:\\Users\\Ajit Shalini\\Anaconda3\\lib\\site-packages\\pandas\\core\\frame.py:3697: SettingWithCopyWarning: \n",
      "A value is trying to be set on a copy of a slice from a DataFrame\n",
      "\n",
      "See the caveats in the documentation: http://pandas.pydata.org/pandas-docs/stable/indexing.html#indexing-view-versus-copy\n",
      "  errors=errors)\n"
     ]
    }
   ],
   "source": [
    "drop_cols = [col for col in high_val_cust.columns if '_9' in col]\n",
    "high_val_cust.drop(drop_cols, axis=1, inplace=True)"
   ]
  },
  {
   "cell_type": "code",
   "execution_count": 34,
   "metadata": {},
   "outputs": [
    {
     "data": {
      "text/plain": [
       "(30001, 147)"
      ]
     },
     "execution_count": 34,
     "metadata": {},
     "output_type": "execute_result"
    }
   ],
   "source": [
    "high_val_cust.shape"
   ]
  },
  {
   "cell_type": "code",
   "execution_count": 35,
   "metadata": {},
   "outputs": [
    {
     "data": {
      "text/plain": [
       "Text(0.5,1,'Churn Distribution')"
      ]
     },
     "execution_count": 35,
     "metadata": {},
     "output_type": "execute_result"
    },
    {
     "data": {
      "image/png": "[encoded data removed]",
      "text/plain": [
       "<Figure size 360x360 with 1 Axes>"
      ]
     },
     "metadata": {},
     "output_type": "display_data"
    }
   ],
   "source": [
    "ax = (high_val_cust['churn'].value_counts()*100.0 /len(high_val_cust)).plot.pie(autopct='%.1f%%', labels = ['No', 'Yes'],figsize =(5,5), fontsize = 12 ) \n",
    "\n",
    "ax.set_ylabel('Churn',fontsize = 12)\n",
    "ax.set_title('Churn Distribution', fontsize = 12)"
   ]
  },
  {
   "cell_type": "markdown",
   "metadata": {},
   "source": [
    "There are only 8.1 % churn case, which shows an highly imbalanced data\n",
    "we have to go for other evaluation metrics to find accuracy like AUC of ROC,PRAUC"
   ]
  },
  {
   "cell_type": "code",
   "execution_count": 36,
   "metadata": {},
   "outputs": [
    {
     "data": {
      "text/plain": [
       "1497"
      ]
     },
     "execution_count": 36,
     "metadata": {},
     "output_type": "execute_result"
    }
   ],
   "source": [
    "#rows with null values\n",
    "len(high_val_cust[high_val_cust.isnull().sum(axis = 1) > 5])"
   ]
  },
  {
   "cell_type": "code",
   "execution_count": 37,
   "metadata": {},
   "outputs": [
    {
     "data": {
      "text/plain": [
       "1497"
      ]
     },
     "execution_count": 37,
     "metadata": {},
     "output_type": "execute_result"
    }
   ],
   "source": [
    "len(high_val_cust[high_val_cust.isnull().sum(axis = 1) > 10])"
   ]
  },
  {
   "cell_type": "markdown",
   "metadata": {},
   "source": [
    "There are 1497 rows with nulls compared to 30001, which is less"
   ]
  },
  {
   "cell_type": "code",
   "execution_count": 38,
   "metadata": {},
   "outputs": [
    {
     "data": {
      "text/plain": [
       "1174"
      ]
     },
     "execution_count": 38,
     "metadata": {},
     "output_type": "execute_result"
    }
   ],
   "source": [
    "high_val_cust.isnull().sum().max()"
   ]
  },
  {
   "cell_type": "code",
   "execution_count": 39,
   "metadata": {},
   "outputs": [
    {
     "data": {
      "text/plain": [
       "(30001, 147)"
      ]
     },
     "execution_count": 39,
     "metadata": {},
     "output_type": "execute_result"
    }
   ],
   "source": [
    "high_val_cust.shape"
   ]
  },
  {
   "cell_type": "markdown",
   "metadata": {},
   "source": [
    "The max no. of Na's in any columns is 1174 which are very low compared to 30000 records they are only few NA's remained replacing them with 0's"
   ]
  },
  {
   "cell_type": "code",
   "execution_count": 40,
   "metadata": {},
   "outputs": [
    {
     "name": "stderr",
     "output_type": "stream",
     "text": [
      "C:\\Users\\Ajit Shalini\\Anaconda3\\lib\\site-packages\\pandas\\core\\frame.py:3790: SettingWithCopyWarning: \n",
      "A value is trying to be set on a copy of a slice from a DataFrame\n",
      "\n",
      "See the caveats in the documentation: http://pandas.pydata.org/pandas-docs/stable/indexing.html#indexing-view-versus-copy\n",
      "  downcast=downcast, **kwargs)\n"
     ]
    }
   ],
   "source": [
    "high_val_cust.fillna(0,axis = 1,inplace = True)"
   ]
  },
  {
   "cell_type": "markdown",
   "metadata": {},
   "source": [
    "### EDA"
   ]
  },
  {
   "cell_type": "code",
   "execution_count": 41,
   "metadata": {},
   "outputs": [
    {
     "name": "stderr",
     "output_type": "stream",
     "text": [
      "C:\\Users\\Ajit Shalini\\Anaconda3\\lib\\site-packages\\ipykernel_launcher.py:2: SettingWithCopyWarning: \n",
      "A value is trying to be set on a copy of a slice from a DataFrame.\n",
      "Try using .loc[row_indexer,col_indexer] = value instead\n",
      "\n",
      "See the caveats in the documentation: http://pandas.pydata.org/pandas-docs/stable/indexing.html#indexing-view-versus-copy\n",
      "  \n",
      "C:\\Users\\Ajit Shalini\\Anaconda3\\lib\\site-packages\\pandas\\core\\frame.py:3697: SettingWithCopyWarning: \n",
      "A value is trying to be set on a copy of a slice from a DataFrame\n",
      "\n",
      "See the caveats in the documentation: http://pandas.pydata.org/pandas-docs/stable/indexing.html#indexing-view-versus-copy\n",
      "  errors=errors)\n"
     ]
    },
    {
     "data": {
      "text/plain": [
       "0     32.266667\n",
       "7     26.733333\n",
       "8     10.500000\n",
       "21    24.000000\n",
       "23    20.133333\n",
       "Name: aon_mon, dtype: float64"
      ]
     },
     "execution_count": 41,
     "metadata": {},
     "output_type": "execute_result"
    }
   ],
   "source": [
    "#Conevrt AON in Months\n",
    "high_val_cust['aon_mon'] = high_val_cust['aon']/30\n",
    "high_val_cust.drop('aon', axis=1, inplace=True)\n",
    "high_val_cust['aon_mon'].head()"
   ]
  },
  {
   "cell_type": "code",
   "execution_count": 42,
   "metadata": {},
   "outputs": [
    {
     "data": {
      "text/plain": [
       "Text(0.5,1,'Customers by their tenure')"
      ]
     },
     "execution_count": 42,
     "metadata": {},
     "output_type": "execute_result"
    },
    {
     "data": {
      "image/png": "[encoded data removed]",
      "text/plain": [
       "<Figure size 432x288 with 1 Axes>"
      ]
     },
     "metadata": {
      "needs_background": "light"
     },
     "output_type": "display_data"
    }
   ],
   "source": [
    "ax = sns.distplot(high_val_cust['aon_mon'], hist=True, kde=False, \n",
    "             bins=int(180/5), color = 'green', \n",
    "             hist_kws={'edgecolor':'black'},\n",
    "             kde_kws={'linewidth': 4})\n",
    "ax.set_ylabel('No of Customers')\n",
    "ax.set_xlabel('Tenure (months)')\n",
    "ax.set_title('Customers by their tenure')"
   ]
  },
  {
   "cell_type": "code",
   "execution_count": 43,
   "metadata": {},
   "outputs": [
    {
     "name": "stderr",
     "output_type": "stream",
     "text": [
      "C:\\Users\\Ajit Shalini\\Anaconda3\\lib\\site-packages\\ipykernel_launcher.py:3: SettingWithCopyWarning: \n",
      "A value is trying to be set on a copy of a slice from a DataFrame.\n",
      "Try using .loc[row_indexer,col_indexer] = value instead\n",
      "\n",
      "See the caveats in the documentation: http://pandas.pydata.org/pandas-docs/stable/indexing.html#indexing-view-versus-copy\n",
      "  This is separate from the ipykernel package so we can avoid doing imports until\n"
     ]
    },
    {
     "data": {
      "text/plain": [
       "0         2-5 Yrs\n",
       "7         2-5 Yrs\n",
       "8     6-12 Months\n",
       "21        1-2 Yrs\n",
       "23        1-2 Yrs\n",
       "Name: tenure_range, dtype: category\n",
       "Categories (5, object): [0-6 Months < 6-12 Months < 1-2 Yrs < 2-5 Yrs < 5 Yrs and above]"
      ]
     },
     "execution_count": 43,
     "metadata": {},
     "output_type": "execute_result"
    }
   ],
   "source": [
    "tn_range = [0, 6, 12, 24, 60, 61]\n",
    "tn_label = [ '0-6 Months', '6-12 Months', '1-2 Yrs', '2-5 Yrs', '5 Yrs and above']\n",
    "high_val_cust['tenure_range'] = pd.cut(high_val_cust['aon_mon'], tn_range, labels=tn_label)\n",
    "high_val_cust['tenure_range'].head()"
   ]
  },
  {
   "cell_type": "code",
   "execution_count": 44,
   "metadata": {},
   "outputs": [
    {
     "data": {
      "image/png": "[encoded data removed]",
      "text/plain": [
       "<Figure size 1152x504 with 1 Axes>"
      ]
     },
     "metadata": {},
     "output_type": "display_data"
    }
   ],
   "source": [
    "sns.set()\n",
    "sns.set_context(\"notebook\", font_scale=1.5, rc={\"lines.linewidth\": 2.5})\n",
    "\n",
    "temp = pd.Series(data = 'tenure_range')\n",
    "fig, ax = plt.subplots()\n",
    "width = len(high_val_cust['tenure_range'].unique()) + 6 + 4*len(temp.unique())\n",
    "fig.set_size_inches(width , 7)\n",
    "\n",
    "total = float(len(high_val_cust.index))\n",
    "ax = sns.countplot(x=\"tenure_range\", data=high_val_cust, palette=\"Set2\", hue = \"churn\");\n",
    "for p in ax.patches:\n",
    "                ax.annotate('{:1.1f}%'.format((p.get_height()*100)/float(len(high_val_cust))), (p.get_x()+0.05, p.get_height()+20))\n",
    "plt.xticks(rotation=90)\n",
    "plt.show()"
   ]
  },
  {
   "cell_type": "markdown",
   "metadata": {},
   "source": [
    "High tenure rate customers are less likely to churn which indicates a good customer service"
   ]
  },
  {
   "cell_type": "code",
   "execution_count": 74,
   "metadata": {},
   "outputs": [
    {
     "data": {
      "text/plain": [
       "<matplotlib.axes._subplots.AxesSubplot at 0x16c471f8d68>"
      ]
     },
     "execution_count": 74,
     "metadata": {},
     "output_type": "execute_result"
    },
    {
     "data": {
      "image/png": "[encoded data removed]",
      "text/plain": [
       "<Figure size 432x288 with 1 Axes>"
      ]
     },
     "metadata": {},
     "output_type": "display_data"
    }
   ],
   "source": [
    "sns.boxplot(x = high_val_cust.churn, y = high_val_cust.aon_mon)"
   ]
  },
  {
   "cell_type": "markdown",
   "metadata": {},
   "source": [
    "The customers who do not churn, they tend to stay for a longer tenure with the telecom company."
   ]
  },
  {
   "cell_type": "code",
   "execution_count": 76,
   "metadata": {},
   "outputs": [
    {
     "name": "stderr",
     "output_type": "stream",
     "text": [
      "C:\\Users\\Ajit Shalini\\Anaconda3\\lib\\site-packages\\pandas\\core\\frame.py:3697: SettingWithCopyWarning: \n",
      "A value is trying to be set on a copy of a slice from a DataFrame\n",
      "\n",
      "See the caveats in the documentation: http://pandas.pydata.org/pandas-docs/stable/indexing.html#indexing-view-versus-copy\n",
      "  errors=errors)\n"
     ]
    }
   ],
   "source": [
    "high_val_cust.drop('tenure_range', axis=1, inplace=True)"
   ]
  },
  {
   "cell_type": "code",
   "execution_count": 45,
   "metadata": {},
   "outputs": [
    {
     "name": "stdout",
     "output_type": "stream",
     "text": [
      "arpu\n",
      "onnet_mou\n",
      "offnet_mou\n",
      "roam_ic_mou\n"
     ]
    },
    {
     "name": "stderr",
     "output_type": "stream",
     "text": [
      "C:\\Users\\Ajit Shalini\\Anaconda3\\lib\\site-packages\\ipykernel_launcher.py:12: SettingWithCopyWarning: \n",
      "A value is trying to be set on a copy of a slice from a DataFrame.\n",
      "Try using .loc[row_indexer,col_indexer] = value instead\n",
      "\n",
      "See the caveats in the documentation: http://pandas.pydata.org/pandas-docs/stable/indexing.html#indexing-view-versus-copy\n",
      "  if sys.path[0] == '':\n"
     ]
    },
    {
     "name": "stdout",
     "output_type": "stream",
     "text": [
      "roam_og_mou\n",
      "loc_og_t2t_mou\n",
      "loc_og_t2m_mou\n",
      "loc_og_t2f_mou\n",
      "loc_og_t2c_mou\n",
      "loc_og_mou\n",
      "std_og_t2t_mou\n",
      "std_og_t2m_mou\n",
      "std_og_t2f_mou\n",
      "std_og_mou\n",
      "isd_og_mou\n",
      "spl_og_mou\n",
      "og_others\n",
      "total_og_mou\n",
      "loc_ic_t2t_mou\n",
      "loc_ic_t2m_mou\n",
      "loc_ic_t2f_mou\n",
      "loc_ic_mou\n",
      "std_ic_t2t_mou\n",
      "std_ic_t2m_mou\n",
      "std_ic_t2f_mou\n",
      "std_ic_mou\n",
      "total_ic_mou\n",
      "spl_ic_mou\n",
      "isd_ic_mou\n",
      "ic_others\n",
      "total_rech_num\n",
      "total_rech_amt\n",
      "max_rech_amt\n",
      "last_day_rch_amt\n",
      "total_rech_data\n",
      "max_rech_data\n",
      "count_rech_2g\n",
      "count_rech_3g\n",
      "av_rech_amt_data\n",
      "vol_2g_mb\n",
      "vol_3g_mb\n",
      "monthly_2g\n",
      "sachet_2g\n",
      "monthly_3g\n",
      "sachet_3g\n",
      "rech_days\n",
      "rech_data_days\n"
     ]
    }
   ],
   "source": [
    "#avarage of column \"_6,_7\"\n",
    "\n",
    "cols = high_val_cust.columns\n",
    "\n",
    "new_list = high_val_cust.filter(regex = '_6|_7').columns.str[:-2].unique()\n",
    "\n",
    "for idx, col in enumerate(new_list.unique()):\n",
    "    print(col)\n",
    "    avg_col_name = col+\"_avg67\"\n",
    "    col_6 = col+\"_6\"\n",
    "    col_7 = col+\"_7\"\n",
    "    high_val_cust[avg_col_name] = (high_val_cust[col_6]  + high_val_cust[col_7])/ 2\n",
    "    "
   ]
  },
  {
   "cell_type": "code",
   "execution_count": 46,
   "metadata": {},
   "outputs": [],
   "source": [
    "avg_list = high_val_cust.filter(regex = '_avg67').columns.str[:-6].unique()"
   ]
  },
  {
   "cell_type": "code",
   "execution_count": 47,
   "metadata": {},
   "outputs": [
    {
     "name": "stdout",
     "output_type": "stream",
     "text": [
      "arpu\n",
      "onnet_mou\n",
      "offnet_mou\n",
      "roam_ic_mou\n",
      "roam_og_mou"
     ]
    },
    {
     "name": "stderr",
     "output_type": "stream",
     "text": [
      "C:\\Users\\Ajit Shalini\\Anaconda3\\lib\\site-packages\\ipykernel_launcher.py:8: SettingWithCopyWarning: \n",
      "A value is trying to be set on a copy of a slice from a DataFrame.\n",
      "Try using .loc[row_indexer,col_indexer] = value instead\n",
      "\n",
      "See the caveats in the documentation: http://pandas.pydata.org/pandas-docs/stable/indexing.html#indexing-view-versus-copy\n",
      "  \n"
     ]
    },
    {
     "name": "stdout",
     "output_type": "stream",
     "text": [
      "\n",
      "loc_og_t2t_mou\n",
      "loc_og_t2m_mou\n",
      "loc_og_t2f_mou\n",
      "loc_og_t2c_mou\n",
      "loc_og_mou\n",
      "std_og_t2t_mou\n",
      "std_og_t2m_mou\n",
      "std_og_t2f_mou\n",
      "std_og_mou\n",
      "isd_og_mou\n",
      "spl_og_mou\n",
      "og_others\n",
      "total_og_mou\n",
      "loc_ic_t2t_mou\n",
      "loc_ic_t2m_mou\n",
      "loc_ic_t2f_mou\n",
      "loc_ic_mou\n",
      "std_ic_t2t_mou\n",
      "std_ic_t2m_mou\n",
      "std_ic_t2f_mou\n",
      "std_ic_mou\n",
      "total_ic_mou\n",
      "spl_ic_mou\n",
      "isd_ic_mou\n",
      "ic_others\n",
      "total_rech_num\n",
      "total_rech_amt\n",
      "max_rech_amt\n",
      "last_day_rch_amt\n",
      "total_rech_data\n",
      "max_rech_data\n",
      "count_rech_2g\n",
      "count_rech_3g\n",
      "av_rech_amt_data\n",
      "vol_2g_mb\n",
      "vol_3g_mb\n",
      "monthly_2g\n",
      "sachet_2g\n",
      "monthly_3g\n",
      "sachet_3g\n",
      "rech_days\n",
      "rech_data_days\n"
     ]
    }
   ],
   "source": [
    "#difference of 8th and average of 6th ,7th column\n",
    "\n",
    "for idx,col in enumerate(avg_list.unique()):\n",
    "    print(col)\n",
    "    diff_col_name = \"avg67_diff8_\"+col\n",
    "    col_67 =  col+\"_avg67\"\n",
    "    col_8 = col+\"_8\"\n",
    "    high_val_cust[diff_col_name] = high_val_cust[col_67] - high_val_cust[col_8]\n"
   ]
  },
  {
   "cell_type": "code",
   "execution_count": 48,
   "metadata": {},
   "outputs": [
    {
     "name": "stdout",
     "output_type": "stream",
     "text": [
      "(30001, 242)\n",
      "(30001, 148)\n"
     ]
    },
    {
     "name": "stderr",
     "output_type": "stream",
     "text": [
      "C:\\Users\\Ajit Shalini\\Anaconda3\\lib\\site-packages\\pandas\\core\\frame.py:3697: SettingWithCopyWarning: \n",
      "A value is trying to be set on a copy of a slice from a DataFrame\n",
      "\n",
      "See the caveats in the documentation: http://pandas.pydata.org/pandas-docs/stable/indexing.html#indexing-view-versus-copy\n",
      "  errors=errors)\n"
     ]
    }
   ],
   "source": [
    "print(high_val_cust.shape)\n",
    "col_list = high_val_cust.filter(regex = '_6|_7')\n",
    "high_val_cust.drop(col_list,axis = 1,inplace = True)\n",
    "print(high_val_cust.shape)"
   ]
  },
  {
   "cell_type": "code",
   "execution_count": 49,
   "metadata": {},
   "outputs": [
    {
     "name": "stdout",
     "output_type": "stream",
     "text": [
      "(30001, 148)\n",
      "(30001, 101)\n"
     ]
    },
    {
     "name": "stderr",
     "output_type": "stream",
     "text": [
      "C:\\Users\\Ajit Shalini\\Anaconda3\\lib\\site-packages\\pandas\\core\\frame.py:3697: SettingWithCopyWarning: \n",
      "A value is trying to be set on a copy of a slice from a DataFrame\n",
      "\n",
      "See the caveats in the documentation: http://pandas.pydata.org/pandas-docs/stable/indexing.html#indexing-view-versus-copy\n",
      "  errors=errors)\n"
     ]
    }
   ],
   "source": [
    "print(high_val_cust.shape)\n",
    "col_list = high_val_cust.filter(regex = '_8')\n",
    "high_val_cust.drop(col_list,axis = 1,inplace = True)\n",
    "print(high_val_cust.shape)"
   ]
  },
  {
   "cell_type": "code",
   "execution_count": 50,
   "metadata": {},
   "outputs": [
    {
     "data": {
      "text/plain": [
       "(30001, 101)"
      ]
     },
     "execution_count": 50,
     "metadata": {},
     "output_type": "execute_result"
    }
   ],
   "source": [
    "high_val_cust.shape"
   ]
  },
  {
   "cell_type": "code",
   "execution_count": 51,
   "metadata": {},
   "outputs": [],
   "source": [
    "#correlations"
   ]
  },
  {
   "cell_type": "code",
   "execution_count": 52,
   "metadata": {},
   "outputs": [
    {
     "data": {
      "text/plain": [
       "<matplotlib.axes._subplots.AxesSubplot at 0x16c18ff3ac8>"
      ]
     },
     "execution_count": 52,
     "metadata": {},
     "output_type": "execute_result"
    },
    {
     "data": {
      "image/png": "[encoded data removed]",
      "text/plain": [
       "<Figure size 1440x720 with 1 Axes>"
      ]
     },
     "metadata": {},
     "output_type": "display_data"
    }
   ],
   "source": [
    "#correlations in the data\n",
    "\n",
    "#Get Correlation of \"Churn\" with other variables:\n",
    "plt.figure(figsize=(20,10))\n",
    "high_val_cust.corr()['churn'].sort_values(ascending = False).plot(kind='bar')"
   ]
  },
  {
   "cell_type": "code",
   "execution_count": 77,
   "metadata": {},
   "outputs": [
    {
     "data": {
      "text/html": [
       "<div>\n",
       "<style scoped>\n",
       "    .dataframe tbody tr th:only-of-type {\n",
       "        vertical-align: middle;\n",
       "    }\n",
       "\n",
       "    .dataframe tbody tr th {\n",
       "        vertical-align: top;\n",
       "    }\n",
       "\n",
       "    .dataframe thead th {\n",
       "        text-align: right;\n",
       "    }\n",
       "</style>\n",
       "<table border=\"1\" class=\"dataframe\">\n",
       "  <thead>\n",
       "    <tr style=\"text-align: right;\">\n",
       "      <th></th>\n",
       "      <th>aug_vbc_3g</th>\n",
       "      <th>jul_vbc_3g</th>\n",
       "      <th>jun_vbc_3g</th>\n",
       "      <th>sep_vbc_3g</th>\n",
       "      <th>aon_mon</th>\n",
       "      <th>arpu_avg67</th>\n",
       "      <th>onnet_mou_avg67</th>\n",
       "      <th>offnet_mou_avg67</th>\n",
       "      <th>roam_ic_mou_avg67</th>\n",
       "      <th>roam_og_mou_avg67</th>\n",
       "      <th>...</th>\n",
       "      <th>avg67_diff8_count_rech_3g</th>\n",
       "      <th>avg67_diff8_av_rech_amt_data</th>\n",
       "      <th>avg67_diff8_vol_2g_mb</th>\n",
       "      <th>avg67_diff8_vol_3g_mb</th>\n",
       "      <th>avg67_diff8_monthly_2g</th>\n",
       "      <th>avg67_diff8_sachet_2g</th>\n",
       "      <th>avg67_diff8_monthly_3g</th>\n",
       "      <th>avg67_diff8_sachet_3g</th>\n",
       "      <th>avg67_diff8_rech_days</th>\n",
       "      <th>avg67_diff8_rech_data_days</th>\n",
       "    </tr>\n",
       "  </thead>\n",
       "  <tbody>\n",
       "    <tr>\n",
       "      <th>0</th>\n",
       "      <td>30.40</td>\n",
       "      <td>0.00</td>\n",
       "      <td>101.20</td>\n",
       "      <td>3.58</td>\n",
       "      <td>32.266667</td>\n",
       "      <td>206.1005</td>\n",
       "      <td>0.00</td>\n",
       "      <td>0.000</td>\n",
       "      <td>0.00</td>\n",
       "      <td>0.000</td>\n",
       "      <td>...</td>\n",
       "      <td>0.0</td>\n",
       "      <td>0.0</td>\n",
       "      <td>9.975</td>\n",
       "      <td>7.555</td>\n",
       "      <td>0.0</td>\n",
       "      <td>0.0</td>\n",
       "      <td>0.0</td>\n",
       "      <td>0.0</td>\n",
       "      <td>-11.0</td>\n",
       "      <td>-11.0</td>\n",
       "    </tr>\n",
       "    <tr>\n",
       "      <th>7</th>\n",
       "      <td>57.74</td>\n",
       "      <td>19.38</td>\n",
       "      <td>18.74</td>\n",
       "      <td>0.00</td>\n",
       "      <td>26.733333</td>\n",
       "      <td>1209.5150</td>\n",
       "      <td>56.26</td>\n",
       "      <td>510.295</td>\n",
       "      <td>24.86</td>\n",
       "      <td>18.165</td>\n",
       "      <td>...</td>\n",
       "      <td>0.0</td>\n",
       "      <td>0.0</td>\n",
       "      <td>0.000</td>\n",
       "      <td>0.000</td>\n",
       "      <td>0.0</td>\n",
       "      <td>0.0</td>\n",
       "      <td>0.0</td>\n",
       "      <td>0.0</td>\n",
       "      <td>-0.5</td>\n",
       "      <td>-46.5</td>\n",
       "    </tr>\n",
       "    <tr>\n",
       "      <th>8</th>\n",
       "      <td>21.03</td>\n",
       "      <td>910.65</td>\n",
       "      <td>122.16</td>\n",
       "      <td>0.00</td>\n",
       "      <td>10.500000</td>\n",
       "      <td>435.4720</td>\n",
       "      <td>382.36</td>\n",
       "      <td>87.645</td>\n",
       "      <td>0.00</td>\n",
       "      <td>0.000</td>\n",
       "      <td>...</td>\n",
       "      <td>0.0</td>\n",
       "      <td>19.5</td>\n",
       "      <td>177.970</td>\n",
       "      <td>363.535</td>\n",
       "      <td>0.5</td>\n",
       "      <td>-2.5</td>\n",
       "      <td>0.0</td>\n",
       "      <td>0.0</td>\n",
       "      <td>1.5</td>\n",
       "      <td>6.5</td>\n",
       "    </tr>\n",
       "    <tr>\n",
       "      <th>21</th>\n",
       "      <td>0.00</td>\n",
       "      <td>0.00</td>\n",
       "      <td>0.00</td>\n",
       "      <td>0.00</td>\n",
       "      <td>24.000000</td>\n",
       "      <td>556.1030</td>\n",
       "      <td>117.26</td>\n",
       "      <td>827.305</td>\n",
       "      <td>0.00</td>\n",
       "      <td>0.000</td>\n",
       "      <td>...</td>\n",
       "      <td>0.0</td>\n",
       "      <td>0.0</td>\n",
       "      <td>0.000</td>\n",
       "      <td>0.000</td>\n",
       "      <td>0.0</td>\n",
       "      <td>0.0</td>\n",
       "      <td>0.0</td>\n",
       "      <td>0.0</td>\n",
       "      <td>0.0</td>\n",
       "      <td>-46.5</td>\n",
       "    </tr>\n",
       "    <tr>\n",
       "      <th>23</th>\n",
       "      <td>40.45</td>\n",
       "      <td>51.86</td>\n",
       "      <td>0.00</td>\n",
       "      <td>0.00</td>\n",
       "      <td>20.133333</td>\n",
       "      <td>134.1235</td>\n",
       "      <td>49.81</td>\n",
       "      <td>87.385</td>\n",
       "      <td>0.00</td>\n",
       "      <td>0.000</td>\n",
       "      <td>...</td>\n",
       "      <td>-1.0</td>\n",
       "      <td>-92.0</td>\n",
       "      <td>0.230</td>\n",
       "      <td>-710.375</td>\n",
       "      <td>0.0</td>\n",
       "      <td>0.0</td>\n",
       "      <td>0.0</td>\n",
       "      <td>-1.0</td>\n",
       "      <td>11.0</td>\n",
       "      <td>1.5</td>\n",
       "    </tr>\n",
       "  </tbody>\n",
       "</table>\n",
       "<p>5 rows × 99 columns</p>\n",
       "</div>"
      ],
      "text/plain": [
       "    aug_vbc_3g  jul_vbc_3g  jun_vbc_3g  sep_vbc_3g    aon_mon  arpu_avg67  \\\n",
       "0        30.40        0.00      101.20        3.58  32.266667    206.1005   \n",
       "7        57.74       19.38       18.74        0.00  26.733333   1209.5150   \n",
       "8        21.03      910.65      122.16        0.00  10.500000    435.4720   \n",
       "21        0.00        0.00        0.00        0.00  24.000000    556.1030   \n",
       "23       40.45       51.86        0.00        0.00  20.133333    134.1235   \n",
       "\n",
       "    onnet_mou_avg67  offnet_mou_avg67  roam_ic_mou_avg67  roam_og_mou_avg67  \\\n",
       "0              0.00             0.000               0.00              0.000   \n",
       "7             56.26           510.295              24.86             18.165   \n",
       "8            382.36            87.645               0.00              0.000   \n",
       "21           117.26           827.305               0.00              0.000   \n",
       "23            49.81            87.385               0.00              0.000   \n",
       "\n",
       "               ...              avg67_diff8_count_rech_3g  \\\n",
       "0              ...                                    0.0   \n",
       "7              ...                                    0.0   \n",
       "8              ...                                    0.0   \n",
       "21             ...                                    0.0   \n",
       "23             ...                                   -1.0   \n",
       "\n",
       "    avg67_diff8_av_rech_amt_data  avg67_diff8_vol_2g_mb  \\\n",
       "0                            0.0                  9.975   \n",
       "7                            0.0                  0.000   \n",
       "8                           19.5                177.970   \n",
       "21                           0.0                  0.000   \n",
       "23                         -92.0                  0.230   \n",
       "\n",
       "    avg67_diff8_vol_3g_mb  avg67_diff8_monthly_2g  avg67_diff8_sachet_2g  \\\n",
       "0                   7.555                     0.0                    0.0   \n",
       "7                   0.000                     0.0                    0.0   \n",
       "8                 363.535                     0.5                   -2.5   \n",
       "21                  0.000                     0.0                    0.0   \n",
       "23               -710.375                     0.0                    0.0   \n",
       "\n",
       "    avg67_diff8_monthly_3g  avg67_diff8_sachet_3g  avg67_diff8_rech_days  \\\n",
       "0                      0.0                    0.0                  -11.0   \n",
       "7                      0.0                    0.0                   -0.5   \n",
       "8                      0.0                    0.0                    1.5   \n",
       "21                     0.0                    0.0                    0.0   \n",
       "23                     0.0                   -1.0                   11.0   \n",
       "\n",
       "    avg67_diff8_rech_data_days  \n",
       "0                        -11.0  \n",
       "7                        -46.5  \n",
       "8                          6.5  \n",
       "21                       -46.5  \n",
       "23                         1.5  \n",
       "\n",
       "[5 rows x 99 columns]"
      ]
     },
     "execution_count": 77,
     "metadata": {},
     "output_type": "execute_result"
    }
   ],
   "source": [
    "#Test Train Split\n",
    "\n",
    "from sklearn.model_selection import train_test_split\n",
    "\n",
    "# Putting feature variable to X\n",
    "X = high_val_cust.drop(['churn'], axis=1)\n",
    "\n",
    "X.head()"
   ]
  },
  {
   "cell_type": "code",
   "execution_count": 78,
   "metadata": {},
   "outputs": [
    {
     "data": {
      "text/html": [
       "<div>\n",
       "<style scoped>\n",
       "    .dataframe tbody tr th:only-of-type {\n",
       "        vertical-align: middle;\n",
       "    }\n",
       "\n",
       "    .dataframe tbody tr th {\n",
       "        vertical-align: top;\n",
       "    }\n",
       "\n",
       "    .dataframe thead th {\n",
       "        text-align: right;\n",
       "    }\n",
       "</style>\n",
       "<table border=\"1\" class=\"dataframe\">\n",
       "  <thead>\n",
       "    <tr style=\"text-align: right;\">\n",
       "      <th></th>\n",
       "      <th>aug_vbc_3g</th>\n",
       "      <th>jul_vbc_3g</th>\n",
       "      <th>jun_vbc_3g</th>\n",
       "      <th>sep_vbc_3g</th>\n",
       "      <th>churn</th>\n",
       "      <th>aon_mon</th>\n",
       "      <th>arpu_avg67</th>\n",
       "      <th>onnet_mou_avg67</th>\n",
       "      <th>offnet_mou_avg67</th>\n",
       "      <th>roam_ic_mou_avg67</th>\n",
       "      <th>...</th>\n",
       "      <th>avg67_diff8_count_rech_3g</th>\n",
       "      <th>avg67_diff8_av_rech_amt_data</th>\n",
       "      <th>avg67_diff8_vol_2g_mb</th>\n",
       "      <th>avg67_diff8_vol_3g_mb</th>\n",
       "      <th>avg67_diff8_monthly_2g</th>\n",
       "      <th>avg67_diff8_sachet_2g</th>\n",
       "      <th>avg67_diff8_monthly_3g</th>\n",
       "      <th>avg67_diff8_sachet_3g</th>\n",
       "      <th>avg67_diff8_rech_days</th>\n",
       "      <th>avg67_diff8_rech_data_days</th>\n",
       "    </tr>\n",
       "  </thead>\n",
       "  <tbody>\n",
       "    <tr>\n",
       "      <th>count</th>\n",
       "      <td>30001.000000</td>\n",
       "      <td>30001.000000</td>\n",
       "      <td>30001.000000</td>\n",
       "      <td>30001.000000</td>\n",
       "      <td>30001.000000</td>\n",
       "      <td>30001.000000</td>\n",
       "      <td>30001.000000</td>\n",
       "      <td>30001.000000</td>\n",
       "      <td>30001.000000</td>\n",
       "      <td>30001.000000</td>\n",
       "      <td>...</td>\n",
       "      <td>30001.000000</td>\n",
       "      <td>30001.000000</td>\n",
       "      <td>30001.000000</td>\n",
       "      <td>30001.000000</td>\n",
       "      <td>30001.000000</td>\n",
       "      <td>30001.000000</td>\n",
       "      <td>30001.000000</td>\n",
       "      <td>30001.000000</td>\n",
       "      <td>30001.000000</td>\n",
       "      <td>30001.000000</td>\n",
       "    </tr>\n",
       "    <tr>\n",
       "      <th>mean</th>\n",
       "      <td>169.138860</td>\n",
       "      <td>178.872765</td>\n",
       "      <td>158.523962</td>\n",
       "      <td>8.029788</td>\n",
       "      <td>0.081364</td>\n",
       "      <td>40.312292</td>\n",
       "      <td>559.636514</td>\n",
       "      <td>264.306159</td>\n",
       "      <td>375.898565</td>\n",
       "      <td>14.376429</td>\n",
       "      <td>...</td>\n",
       "      <td>0.028416</td>\n",
       "      <td>13.085795</td>\n",
       "      <td>19.896683</td>\n",
       "      <td>5.733637</td>\n",
       "      <td>0.025249</td>\n",
       "      <td>0.085180</td>\n",
       "      <td>0.012366</td>\n",
       "      <td>0.016049</td>\n",
       "      <td>-2.240309</td>\n",
       "      <td>-23.374838</td>\n",
       "    </tr>\n",
       "    <tr>\n",
       "      <th>std</th>\n",
       "      <td>420.974354</td>\n",
       "      <td>443.544138</td>\n",
       "      <td>416.734860</td>\n",
       "      <td>52.378232</td>\n",
       "      <td>0.273398</td>\n",
       "      <td>31.922600</td>\n",
       "      <td>429.909145</td>\n",
       "      <td>439.579176</td>\n",
       "      <td>457.633472</td>\n",
       "      <td>66.078507</td>\n",
       "      <td>...</td>\n",
       "      <td>0.992313</td>\n",
       "      <td>148.249896</td>\n",
       "      <td>256.114926</td>\n",
       "      <td>624.877555</td>\n",
       "      <td>0.353771</td>\n",
       "      <td>1.867673</td>\n",
       "      <td>0.474128</td>\n",
       "      <td>0.871149</td>\n",
       "      <td>12.319597</td>\n",
       "      <td>32.301608</td>\n",
       "    </tr>\n",
       "    <tr>\n",
       "      <th>min</th>\n",
       "      <td>0.000000</td>\n",
       "      <td>0.000000</td>\n",
       "      <td>0.000000</td>\n",
       "      <td>0.000000</td>\n",
       "      <td>0.000000</td>\n",
       "      <td>6.000000</td>\n",
       "      <td>-749.783000</td>\n",
       "      <td>0.000000</td>\n",
       "      <td>0.000000</td>\n",
       "      <td>0.000000</td>\n",
       "      <td>...</td>\n",
       "      <td>-42.500000</td>\n",
       "      <td>-1805.000000</td>\n",
       "      <td>-8062.295000</td>\n",
       "      <td>-15646.390000</td>\n",
       "      <td>-3.500000</td>\n",
       "      <td>-26.500000</td>\n",
       "      <td>-7.000000</td>\n",
       "      <td>-36.000000</td>\n",
       "      <td>-91.000000</td>\n",
       "      <td>-91.000000</td>\n",
       "    </tr>\n",
       "    <tr>\n",
       "      <th>1%</th>\n",
       "      <td>0.000000</td>\n",
       "      <td>0.000000</td>\n",
       "      <td>0.000000</td>\n",
       "      <td>0.000000</td>\n",
       "      <td>0.000000</td>\n",
       "      <td>6.266667</td>\n",
       "      <td>83.726000</td>\n",
       "      <td>0.000000</td>\n",
       "      <td>0.000000</td>\n",
       "      <td>0.000000</td>\n",
       "      <td>...</td>\n",
       "      <td>-2.500000</td>\n",
       "      <td>-448.500000</td>\n",
       "      <td>-777.405000</td>\n",
       "      <td>-1987.610000</td>\n",
       "      <td>-1.000000</td>\n",
       "      <td>-6.000000</td>\n",
       "      <td>-1.500000</td>\n",
       "      <td>-2.000000</td>\n",
       "      <td>-82.500000</td>\n",
       "      <td>-87.500000</td>\n",
       "    </tr>\n",
       "    <tr>\n",
       "      <th>10%</th>\n",
       "      <td>0.000000</td>\n",
       "      <td>0.000000</td>\n",
       "      <td>0.000000</td>\n",
       "      <td>0.000000</td>\n",
       "      <td>0.000000</td>\n",
       "      <td>9.466667</td>\n",
       "      <td>213.807000</td>\n",
       "      <td>2.400000</td>\n",
       "      <td>18.420000</td>\n",
       "      <td>0.000000</td>\n",
       "      <td>...</td>\n",
       "      <td>-0.500000</td>\n",
       "      <td>-116.000000</td>\n",
       "      <td>-68.235000</td>\n",
       "      <td>-310.945000</td>\n",
       "      <td>0.000000</td>\n",
       "      <td>-1.000000</td>\n",
       "      <td>0.000000</td>\n",
       "      <td>0.000000</td>\n",
       "      <td>-7.500000</td>\n",
       "      <td>-66.500000</td>\n",
       "    </tr>\n",
       "    <tr>\n",
       "      <th>25%</th>\n",
       "      <td>0.000000</td>\n",
       "      <td>0.000000</td>\n",
       "      <td>0.000000</td>\n",
       "      <td>0.000000</td>\n",
       "      <td>0.000000</td>\n",
       "      <td>15.333333</td>\n",
       "      <td>345.289000</td>\n",
       "      <td>20.620000</td>\n",
       "      <td>83.145000</td>\n",
       "      <td>0.000000</td>\n",
       "      <td>...</td>\n",
       "      <td>0.000000</td>\n",
       "      <td>-9.500000</td>\n",
       "      <td>0.000000</td>\n",
       "      <td>0.000000</td>\n",
       "      <td>0.000000</td>\n",
       "      <td>0.000000</td>\n",
       "      <td>0.000000</td>\n",
       "      <td>0.000000</td>\n",
       "      <td>-3.000000</td>\n",
       "      <td>-46.500000</td>\n",
       "    </tr>\n",
       "    <tr>\n",
       "      <th>50%</th>\n",
       "      <td>0.000000</td>\n",
       "      <td>0.000000</td>\n",
       "      <td>0.000000</td>\n",
       "      <td>0.000000</td>\n",
       "      <td>0.000000</td>\n",
       "      <td>28.200000</td>\n",
       "      <td>484.859500</td>\n",
       "      <td>92.035000</td>\n",
       "      <td>235.570000</td>\n",
       "      <td>0.000000</td>\n",
       "      <td>...</td>\n",
       "      <td>0.000000</td>\n",
       "      <td>0.000000</td>\n",
       "      <td>0.000000</td>\n",
       "      <td>0.000000</td>\n",
       "      <td>0.000000</td>\n",
       "      <td>0.000000</td>\n",
       "      <td>0.000000</td>\n",
       "      <td>0.000000</td>\n",
       "      <td>0.000000</td>\n",
       "      <td>-14.000000</td>\n",
       "    </tr>\n",
       "    <tr>\n",
       "      <th>75%</th>\n",
       "      <td>128.800000</td>\n",
       "      <td>137.290000</td>\n",
       "      <td>98.440000</td>\n",
       "      <td>0.000000</td>\n",
       "      <td>0.000000</td>\n",
       "      <td>58.533333</td>\n",
       "      <td>674.571000</td>\n",
       "      <td>307.500000</td>\n",
       "      <td>497.990000</td>\n",
       "      <td>1.525000</td>\n",
       "      <td>...</td>\n",
       "      <td>0.000000</td>\n",
       "      <td>59.000000</td>\n",
       "      <td>21.120000</td>\n",
       "      <td>2.270000</td>\n",
       "      <td>0.000000</td>\n",
       "      <td>0.000000</td>\n",
       "      <td>0.000000</td>\n",
       "      <td>0.000000</td>\n",
       "      <td>1.500000</td>\n",
       "      <td>2.000000</td>\n",
       "    </tr>\n",
       "    <tr>\n",
       "      <th>90%</th>\n",
       "      <td>580.680000</td>\n",
       "      <td>611.310000</td>\n",
       "      <td>532.610000</td>\n",
       "      <td>0.900000</td>\n",
       "      <td>0.000000</td>\n",
       "      <td>93.100000</td>\n",
       "      <td>949.558000</td>\n",
       "      <td>766.345000</td>\n",
       "      <td>887.890000</td>\n",
       "      <td>28.035000</td>\n",
       "      <td>...</td>\n",
       "      <td>0.500000</td>\n",
       "      <td>152.000000</td>\n",
       "      <td>168.225000</td>\n",
       "      <td>383.960000</td>\n",
       "      <td>0.500000</td>\n",
       "      <td>1.500000</td>\n",
       "      <td>0.500000</td>\n",
       "      <td>0.500000</td>\n",
       "      <td>4.500000</td>\n",
       "      <td>14.500000</td>\n",
       "    </tr>\n",
       "    <tr>\n",
       "      <th>99%</th>\n",
       "      <td>1965.000000</td>\n",
       "      <td>2066.440000</td>\n",
       "      <td>1946.290000</td>\n",
       "      <td>202.180000</td>\n",
       "      <td>1.000000</td>\n",
       "      <td>121.700000</td>\n",
       "      <td>1869.444500</td>\n",
       "      <td>2037.530000</td>\n",
       "      <td>2145.700000</td>\n",
       "      <td>278.895000</td>\n",
       "      <td>...</td>\n",
       "      <td>2.500000</td>\n",
       "      <td>449.000000</td>\n",
       "      <td>853.115000</td>\n",
       "      <td>1727.860000</td>\n",
       "      <td>1.000000</td>\n",
       "      <td>6.000000</td>\n",
       "      <td>1.500000</td>\n",
       "      <td>2.000000</td>\n",
       "      <td>12.000000</td>\n",
       "      <td>42.500000</td>\n",
       "    </tr>\n",
       "    <tr>\n",
       "      <th>max</th>\n",
       "      <td>12916.220000</td>\n",
       "      <td>9165.600000</td>\n",
       "      <td>11166.210000</td>\n",
       "      <td>2618.570000</td>\n",
       "      <td>1.000000</td>\n",
       "      <td>144.033333</td>\n",
       "      <td>31438.461000</td>\n",
       "      <td>7331.060000</td>\n",
       "      <td>8314.795000</td>\n",
       "      <td>3060.600000</td>\n",
       "      <td>...</td>\n",
       "      <td>21.500000</td>\n",
       "      <td>3486.500000</td>\n",
       "      <td>4740.925000</td>\n",
       "      <td>12385.505000</td>\n",
       "      <td>3.000000</td>\n",
       "      <td>26.000000</td>\n",
       "      <td>7.500000</td>\n",
       "      <td>21.500000</td>\n",
       "      <td>37.000000</td>\n",
       "      <td>44.500000</td>\n",
       "    </tr>\n",
       "  </tbody>\n",
       "</table>\n",
       "<p>12 rows × 100 columns</p>\n",
       "</div>"
      ],
      "text/plain": [
       "         aug_vbc_3g    jul_vbc_3g    jun_vbc_3g    sep_vbc_3g         churn  \\\n",
       "count  30001.000000  30001.000000  30001.000000  30001.000000  30001.000000   \n",
       "mean     169.138860    178.872765    158.523962      8.029788      0.081364   \n",
       "std      420.974354    443.544138    416.734860     52.378232      0.273398   \n",
       "min        0.000000      0.000000      0.000000      0.000000      0.000000   \n",
       "1%         0.000000      0.000000      0.000000      0.000000      0.000000   \n",
       "10%        0.000000      0.000000      0.000000      0.000000      0.000000   \n",
       "25%        0.000000      0.000000      0.000000      0.000000      0.000000   \n",
       "50%        0.000000      0.000000      0.000000      0.000000      0.000000   \n",
       "75%      128.800000    137.290000     98.440000      0.000000      0.000000   \n",
       "90%      580.680000    611.310000    532.610000      0.900000      0.000000   \n",
       "99%     1965.000000   2066.440000   1946.290000    202.180000      1.000000   \n",
       "max    12916.220000   9165.600000  11166.210000   2618.570000      1.000000   \n",
       "\n",
       "            aon_mon    arpu_avg67  onnet_mou_avg67  offnet_mou_avg67  \\\n",
       "count  30001.000000  30001.000000     30001.000000      30001.000000   \n",
       "mean      40.312292    559.636514       264.306159        375.898565   \n",
       "std       31.922600    429.909145       439.579176        457.633472   \n",
       "min        6.000000   -749.783000         0.000000          0.000000   \n",
       "1%         6.266667     83.726000         0.000000          0.000000   \n",
       "10%        9.466667    213.807000         2.400000         18.420000   \n",
       "25%       15.333333    345.289000        20.620000         83.145000   \n",
       "50%       28.200000    484.859500        92.035000        235.570000   \n",
       "75%       58.533333    674.571000       307.500000        497.990000   \n",
       "90%       93.100000    949.558000       766.345000        887.890000   \n",
       "99%      121.700000   1869.444500      2037.530000       2145.700000   \n",
       "max      144.033333  31438.461000      7331.060000       8314.795000   \n",
       "\n",
       "       roam_ic_mou_avg67             ...              \\\n",
       "count       30001.000000             ...               \n",
       "mean           14.376429             ...               \n",
       "std            66.078507             ...               \n",
       "min             0.000000             ...               \n",
       "1%              0.000000             ...               \n",
       "10%             0.000000             ...               \n",
       "25%             0.000000             ...               \n",
       "50%             0.000000             ...               \n",
       "75%             1.525000             ...               \n",
       "90%            28.035000             ...               \n",
       "99%           278.895000             ...               \n",
       "max          3060.600000             ...               \n",
       "\n",
       "       avg67_diff8_count_rech_3g  avg67_diff8_av_rech_amt_data  \\\n",
       "count               30001.000000                  30001.000000   \n",
       "mean                    0.028416                     13.085795   \n",
       "std                     0.992313                    148.249896   \n",
       "min                   -42.500000                  -1805.000000   \n",
       "1%                     -2.500000                   -448.500000   \n",
       "10%                    -0.500000                   -116.000000   \n",
       "25%                     0.000000                     -9.500000   \n",
       "50%                     0.000000                      0.000000   \n",
       "75%                     0.000000                     59.000000   \n",
       "90%                     0.500000                    152.000000   \n",
       "99%                     2.500000                    449.000000   \n",
       "max                    21.500000                   3486.500000   \n",
       "\n",
       "       avg67_diff8_vol_2g_mb  avg67_diff8_vol_3g_mb  avg67_diff8_monthly_2g  \\\n",
       "count           30001.000000           30001.000000            30001.000000   \n",
       "mean               19.896683               5.733637                0.025249   \n",
       "std               256.114926             624.877555                0.353771   \n",
       "min             -8062.295000          -15646.390000               -3.500000   \n",
       "1%               -777.405000           -1987.610000               -1.000000   \n",
       "10%               -68.235000            -310.945000                0.000000   \n",
       "25%                 0.000000               0.000000                0.000000   \n",
       "50%                 0.000000               0.000000                0.000000   \n",
       "75%                21.120000               2.270000                0.000000   \n",
       "90%               168.225000             383.960000                0.500000   \n",
       "99%               853.115000            1727.860000                1.000000   \n",
       "max              4740.925000           12385.505000                3.000000   \n",
       "\n",
       "       avg67_diff8_sachet_2g  avg67_diff8_monthly_3g  avg67_diff8_sachet_3g  \\\n",
       "count           30001.000000            30001.000000           30001.000000   \n",
       "mean                0.085180                0.012366               0.016049   \n",
       "std                 1.867673                0.474128               0.871149   \n",
       "min               -26.500000               -7.000000             -36.000000   \n",
       "1%                 -6.000000               -1.500000              -2.000000   \n",
       "10%                -1.000000                0.000000               0.000000   \n",
       "25%                 0.000000                0.000000               0.000000   \n",
       "50%                 0.000000                0.000000               0.000000   \n",
       "75%                 0.000000                0.000000               0.000000   \n",
       "90%                 1.500000                0.500000               0.500000   \n",
       "99%                 6.000000                1.500000               2.000000   \n",
       "max                26.000000                7.500000              21.500000   \n",
       "\n",
       "       avg67_diff8_rech_days  avg67_diff8_rech_data_days  \n",
       "count           30001.000000                30001.000000  \n",
       "mean               -2.240309                  -23.374838  \n",
       "std                12.319597                   32.301608  \n",
       "min               -91.000000                  -91.000000  \n",
       "1%                -82.500000                  -87.500000  \n",
       "10%                -7.500000                  -66.500000  \n",
       "25%                -3.000000                  -46.500000  \n",
       "50%                 0.000000                  -14.000000  \n",
       "75%                 1.500000                    2.000000  \n",
       "90%                 4.500000                   14.500000  \n",
       "99%                12.000000                   42.500000  \n",
       "max                37.000000                   44.500000  \n",
       "\n",
       "[12 rows x 100 columns]"
      ]
     },
     "execution_count": 78,
     "metadata": {},
     "output_type": "execute_result"
    }
   ],
   "source": [
    "#percentiles\n",
    "high_val_cust.describe(percentiles=[0.01,0.1,.25,.5,.75,.90,.99])"
   ]
  },
  {
   "cell_type": "markdown",
   "metadata": {},
   "source": [
    "There are some outliers, which are safe to remove"
   ]
  },
  {
   "cell_type": "code",
   "execution_count": 79,
   "metadata": {},
   "outputs": [],
   "source": [
    "##outlier treatment\n",
    "\n",
    "for col in X.columns:\n",
    "    percentiles = X[col].quantile([0.01,0.99]).values\n",
    "    X[col][X[col] <= percentiles[0]] = percentiles[0]\n",
    "    X[col][X[col] >= percentiles[1]] = percentiles[1]"
   ]
  },
  {
   "cell_type": "code",
   "execution_count": 80,
   "metadata": {},
   "outputs": [
    {
     "data": {
      "text/plain": [
       "2441"
      ]
     },
     "execution_count": 80,
     "metadata": {},
     "output_type": "execute_result"
    }
   ],
   "source": [
    "# Putting response variable to y\n",
    "y = high_val_cust['churn']\n",
    "\n",
    "y.sum()\n"
   ]
  },
  {
   "cell_type": "markdown",
   "metadata": {},
   "source": [
    "#### Splitting data"
   ]
  },
  {
   "cell_type": "code",
   "execution_count": 81,
   "metadata": {},
   "outputs": [],
   "source": [
    "# Splitting the data into train and test\n",
    "X_train, X_test, y_train, y_test = train_test_split(X, y, train_size=0.7, test_size=0.3, random_state=100)"
   ]
  },
  {
   "cell_type": "code",
   "execution_count": 82,
   "metadata": {},
   "outputs": [
    {
     "data": {
      "text/plain": [
       "aug_vbc_3g                      0\n",
       "jul_vbc_3g                      0\n",
       "jun_vbc_3g                      0\n",
       "sep_vbc_3g                      0\n",
       "aon_mon                         0\n",
       "arpu_avg67                      0\n",
       "onnet_mou_avg67                 0\n",
       "offnet_mou_avg67                0\n",
       "roam_ic_mou_avg67               0\n",
       "roam_og_mou_avg67               0\n",
       "loc_og_t2t_mou_avg67            0\n",
       "loc_og_t2m_mou_avg67            0\n",
       "loc_og_t2f_mou_avg67            0\n",
       "loc_og_t2c_mou_avg67            0\n",
       "loc_og_mou_avg67                0\n",
       "std_og_t2t_mou_avg67            0\n",
       "std_og_t2m_mou_avg67            0\n",
       "std_og_t2f_mou_avg67            0\n",
       "std_og_mou_avg67                0\n",
       "isd_og_mou_avg67                0\n",
       "spl_og_mou_avg67                0\n",
       "og_others_avg67                 0\n",
       "total_og_mou_avg67              0\n",
       "loc_ic_t2t_mou_avg67            0\n",
       "loc_ic_t2m_mou_avg67            0\n",
       "loc_ic_t2f_mou_avg67            0\n",
       "loc_ic_mou_avg67                0\n",
       "std_ic_t2t_mou_avg67            0\n",
       "std_ic_t2m_mou_avg67            0\n",
       "std_ic_t2f_mou_avg67            0\n",
       "                               ..\n",
       "avg67_diff8_total_og_mou        0\n",
       "avg67_diff8_loc_ic_t2t_mou      0\n",
       "avg67_diff8_loc_ic_t2m_mou      0\n",
       "avg67_diff8_loc_ic_t2f_mou      0\n",
       "avg67_diff8_loc_ic_mou          0\n",
       "avg67_diff8_std_ic_t2t_mou      0\n",
       "avg67_diff8_std_ic_t2m_mou      0\n",
       "avg67_diff8_std_ic_t2f_mou      0\n",
       "avg67_diff8_std_ic_mou          0\n",
       "avg67_diff8_total_ic_mou        0\n",
       "avg67_diff8_spl_ic_mou          0\n",
       "avg67_diff8_isd_ic_mou          0\n",
       "avg67_diff8_ic_others           0\n",
       "avg67_diff8_total_rech_num      0\n",
       "avg67_diff8_total_rech_amt      0\n",
       "avg67_diff8_max_rech_amt        0\n",
       "avg67_diff8_last_day_rch_amt    0\n",
       "avg67_diff8_total_rech_data     0\n",
       "avg67_diff8_max_rech_data       0\n",
       "avg67_diff8_count_rech_2g       0\n",
       "avg67_diff8_count_rech_3g       0\n",
       "avg67_diff8_av_rech_amt_data    0\n",
       "avg67_diff8_vol_2g_mb           0\n",
       "avg67_diff8_vol_3g_mb           0\n",
       "avg67_diff8_monthly_2g          0\n",
       "avg67_diff8_sachet_2g           0\n",
       "avg67_diff8_monthly_3g          0\n",
       "avg67_diff8_sachet_3g           0\n",
       "avg67_diff8_rech_days           0\n",
       "avg67_diff8_rech_data_days      0\n",
       "Length: 99, dtype: int64"
      ]
     },
     "execution_count": 82,
     "metadata": {},
     "output_type": "execute_result"
    }
   ],
   "source": [
    "X_train.isnull().sum()"
   ]
  },
  {
   "cell_type": "markdown",
   "metadata": {},
   "source": [
    "### Feature Scaling"
   ]
  },
  {
   "cell_type": "code",
   "execution_count": 83,
   "metadata": {},
   "outputs": [],
   "source": [
    "num_cols = X_train.select_dtypes(include=[np.number]).columns.tolist()"
   ]
  },
  {
   "cell_type": "code",
   "execution_count": 84,
   "metadata": {},
   "outputs": [],
   "source": [
    "#Feature standardization\n",
    "\n",
    "from sklearn.preprocessing import StandardScaler"
   ]
  },
  {
   "cell_type": "code",
   "execution_count": 85,
   "metadata": {},
   "outputs": [
    {
     "name": "stderr",
     "output_type": "stream",
     "text": [
      "C:\\Users\\Ajit Shalini\\Anaconda3\\lib\\site-packages\\ipykernel_launcher.py:3: SettingWithCopyWarning: \n",
      "A value is trying to be set on a copy of a slice from a DataFrame.\n",
      "Try using .loc[row_indexer,col_indexer] = value instead\n",
      "\n",
      "See the caveats in the documentation: http://pandas.pydata.org/pandas-docs/stable/indexing.html#indexing-view-versus-copy\n",
      "  This is separate from the ipykernel package so we can avoid doing imports until\n",
      "C:\\Users\\Ajit Shalini\\Anaconda3\\lib\\site-packages\\pandas\\core\\frame.py:3144: SettingWithCopyWarning: \n",
      "A value is trying to be set on a copy of a slice from a DataFrame\n",
      "\n",
      "See the caveats in the documentation: http://pandas.pydata.org/pandas-docs/stable/indexing.html#indexing-view-versus-copy\n",
      "  self.loc._setitem_with_indexer((slice(None), indexer), value)\n",
      "C:\\Users\\Ajit Shalini\\Anaconda3\\lib\\site-packages\\pandas\\core\\frame.py:3116: SettingWithCopyWarning: \n",
      "A value is trying to be set on a copy of a slice from a DataFrame\n",
      "\n",
      "See the caveats in the documentation: http://pandas.pydata.org/pandas-docs/stable/indexing.html#indexing-view-versus-copy\n",
      "  self._setitem_array(key, value)\n"
     ]
    }
   ],
   "source": [
    "scaler = StandardScaler()\n",
    "\n",
    "X_train[num_cols] = scaler.fit_transform(X_train[num_cols])\n"
   ]
  },
  {
   "cell_type": "markdown",
   "metadata": {},
   "source": [
    "### Modelling"
   ]
  },
  {
   "cell_type": "code",
   "execution_count": 86,
   "metadata": {},
   "outputs": [
    {
     "data": {
      "text/html": [
       "<table class=\"simpletable\">\n",
       "<caption>Generalized Linear Model Regression Results</caption>\n",
       "<tr>\n",
       "  <th>Dep. Variable:</th>        <td>churn</td>      <th>  No. Observations:  </th>  <td> 21000</td>  \n",
       "</tr>\n",
       "<tr>\n",
       "  <th>Model:</th>                 <td>GLM</td>       <th>  Df Residuals:      </th>  <td> 20900</td>  \n",
       "</tr>\n",
       "<tr>\n",
       "  <th>Model Family:</th>       <td>Binomial</td>     <th>  Df Model:          </th>  <td>    99</td>  \n",
       "</tr>\n",
       "<tr>\n",
       "  <th>Link Function:</th>        <td>logit</td>      <th>  Scale:             </th> <td>  1.0000</td> \n",
       "</tr>\n",
       "<tr>\n",
       "  <th>Method:</th>               <td>IRLS</td>       <th>  Log-Likelihood:    </th> <td> -3622.2</td> \n",
       "</tr>\n",
       "<tr>\n",
       "  <th>Date:</th>           <td>Mon, 19 Aug 2019</td> <th>  Deviance:          </th> <td>  7244.4</td> \n",
       "</tr>\n",
       "<tr>\n",
       "  <th>Time:</th>               <td>18:31:32</td>     <th>  Pearson chi2:      </th> <td>1.43e+05</td> \n",
       "</tr>\n",
       "<tr>\n",
       "  <th>No. Iterations:</th>        <td>10</td>        <th>  Covariance Type:   </th> <td>nonrobust</td>\n",
       "</tr>\n",
       "</table>\n",
       "<table class=\"simpletable\">\n",
       "<tr>\n",
       "                <td></td>                  <th>coef</th>     <th>std err</th>      <th>z</th>      <th>P>|z|</th>  <th>[0.025</th>    <th>0.975]</th>  \n",
       "</tr>\n",
       "<tr>\n",
       "  <th>const</th>                        <td>   -4.3136</td> <td>    0.085</td> <td>  -50.504</td> <td> 0.000</td> <td>   -4.481</td> <td>   -4.146</td>\n",
       "</tr>\n",
       "<tr>\n",
       "  <th>aug_vbc_3g</th>                   <td>   -0.2277</td> <td>    0.083</td> <td>   -2.738</td> <td> 0.006</td> <td>   -0.391</td> <td>   -0.065</td>\n",
       "</tr>\n",
       "<tr>\n",
       "  <th>jul_vbc_3g</th>                   <td>    0.0385</td> <td>    0.062</td> <td>    0.617</td> <td> 0.537</td> <td>   -0.084</td> <td>    0.161</td>\n",
       "</tr>\n",
       "<tr>\n",
       "  <th>jun_vbc_3g</th>                   <td>    0.0212</td> <td>    0.053</td> <td>    0.400</td> <td> 0.689</td> <td>   -0.083</td> <td>    0.125</td>\n",
       "</tr>\n",
       "<tr>\n",
       "  <th>sep_vbc_3g</th>                   <td>   -0.9159</td> <td>    0.216</td> <td>   -4.235</td> <td> 0.000</td> <td>   -1.340</td> <td>   -0.492</td>\n",
       "</tr>\n",
       "<tr>\n",
       "  <th>aon_mon</th>                      <td>   -0.2824</td> <td>    0.041</td> <td>   -6.871</td> <td> 0.000</td> <td>   -0.363</td> <td>   -0.202</td>\n",
       "</tr>\n",
       "<tr>\n",
       "  <th>arpu_avg67</th>                   <td>    0.3778</td> <td>    0.185</td> <td>    2.041</td> <td> 0.041</td> <td>    0.015</td> <td>    0.741</td>\n",
       "</tr>\n",
       "<tr>\n",
       "  <th>onnet_mou_avg67</th>              <td>   -0.0062</td> <td>    0.214</td> <td>   -0.029</td> <td> 0.977</td> <td>   -0.425</td> <td>    0.413</td>\n",
       "</tr>\n",
       "<tr>\n",
       "  <th>offnet_mou_avg67</th>             <td>    0.0570</td> <td>    0.237</td> <td>    0.241</td> <td> 0.810</td> <td>   -0.407</td> <td>    0.521</td>\n",
       "</tr>\n",
       "<tr>\n",
       "  <th>roam_ic_mou_avg67</th>            <td>   -0.0157</td> <td>    0.047</td> <td>   -0.335</td> <td> 0.738</td> <td>   -0.108</td> <td>    0.076</td>\n",
       "</tr>\n",
       "<tr>\n",
       "  <th>roam_og_mou_avg67</th>            <td>    0.1857</td> <td>    0.058</td> <td>    3.177</td> <td> 0.001</td> <td>    0.071</td> <td>    0.300</td>\n",
       "</tr>\n",
       "<tr>\n",
       "  <th>loc_og_t2t_mou_avg67</th>         <td>   -0.7028</td> <td>    0.216</td> <td>   -3.258</td> <td> 0.001</td> <td>   -1.126</td> <td>   -0.280</td>\n",
       "</tr>\n",
       "<tr>\n",
       "  <th>loc_og_t2m_mou_avg67</th>         <td>   -1.1775</td> <td>    0.260</td> <td>   -4.532</td> <td> 0.000</td> <td>   -1.687</td> <td>   -0.668</td>\n",
       "</tr>\n",
       "<tr>\n",
       "  <th>loc_og_t2f_mou_avg67</th>         <td>   -0.1263</td> <td>    0.071</td> <td>   -1.770</td> <td> 0.077</td> <td>   -0.266</td> <td>    0.014</td>\n",
       "</tr>\n",
       "<tr>\n",
       "  <th>loc_og_t2c_mou_avg67</th>         <td>   -0.0052</td> <td>    0.050</td> <td>   -0.104</td> <td> 0.917</td> <td>   -0.102</td> <td>    0.092</td>\n",
       "</tr>\n",
       "<tr>\n",
       "  <th>loc_og_mou_avg67</th>             <td>    1.4868</td> <td>    0.464</td> <td>    3.206</td> <td> 0.001</td> <td>    0.578</td> <td>    2.396</td>\n",
       "</tr>\n",
       "<tr>\n",
       "  <th>std_og_t2t_mou_avg67</th>         <td>   -0.3666</td> <td>    0.227</td> <td>   -1.613</td> <td> 0.107</td> <td>   -0.812</td> <td>    0.079</td>\n",
       "</tr>\n",
       "<tr>\n",
       "  <th>std_og_t2m_mou_avg67</th>         <td>   -0.3727</td> <td>    0.240</td> <td>   -1.556</td> <td> 0.120</td> <td>   -0.842</td> <td>    0.097</td>\n",
       "</tr>\n",
       "<tr>\n",
       "  <th>std_og_t2f_mou_avg67</th>         <td>   -0.1318</td> <td>    0.072</td> <td>   -1.818</td> <td> 0.069</td> <td>   -0.274</td> <td>    0.010</td>\n",
       "</tr>\n",
       "<tr>\n",
       "  <th>std_og_mou_avg67</th>             <td>    1.4289</td> <td>    0.481</td> <td>    2.971</td> <td> 0.003</td> <td>    0.486</td> <td>    2.371</td>\n",
       "</tr>\n",
       "<tr>\n",
       "  <th>isd_og_mou_avg67</th>             <td>    0.0252</td> <td>    0.041</td> <td>    0.615</td> <td> 0.539</td> <td>   -0.055</td> <td>    0.106</td>\n",
       "</tr>\n",
       "<tr>\n",
       "  <th>spl_og_mou_avg67</th>             <td>    0.0419</td> <td>    0.054</td> <td>    0.777</td> <td> 0.437</td> <td>   -0.064</td> <td>    0.148</td>\n",
       "</tr>\n",
       "<tr>\n",
       "  <th>og_others_avg67</th>              <td>   -0.2582</td> <td>    0.480</td> <td>   -0.538</td> <td> 0.590</td> <td>   -1.198</td> <td>    0.682</td>\n",
       "</tr>\n",
       "<tr>\n",
       "  <th>total_og_mou_avg67</th>           <td>   -1.3828</td> <td>    0.431</td> <td>   -3.207</td> <td> 0.001</td> <td>   -2.228</td> <td>   -0.538</td>\n",
       "</tr>\n",
       "<tr>\n",
       "  <th>loc_ic_t2t_mou_avg67</th>         <td>   -0.2727</td> <td>    0.157</td> <td>   -1.731</td> <td> 0.083</td> <td>   -0.581</td> <td>    0.036</td>\n",
       "</tr>\n",
       "<tr>\n",
       "  <th>loc_ic_t2m_mou_avg67</th>         <td>   -0.5863</td> <td>    0.238</td> <td>   -2.469</td> <td> 0.014</td> <td>   -1.052</td> <td>   -0.121</td>\n",
       "</tr>\n",
       "<tr>\n",
       "  <th>loc_ic_t2f_mou_avg67</th>         <td>   -0.2034</td> <td>    0.094</td> <td>   -2.171</td> <td> 0.030</td> <td>   -0.387</td> <td>   -0.020</td>\n",
       "</tr>\n",
       "<tr>\n",
       "  <th>loc_ic_mou_avg67</th>             <td>   -0.0985</td> <td>    0.375</td> <td>   -0.263</td> <td> 0.793</td> <td>   -0.834</td> <td>    0.637</td>\n",
       "</tr>\n",
       "<tr>\n",
       "  <th>std_ic_t2t_mou_avg67</th>         <td>   -0.0919</td> <td>    0.090</td> <td>   -1.018</td> <td> 0.308</td> <td>   -0.269</td> <td>    0.085</td>\n",
       "</tr>\n",
       "<tr>\n",
       "  <th>std_ic_t2m_mou_avg67</th>         <td>   -0.1546</td> <td>    0.122</td> <td>   -1.266</td> <td> 0.205</td> <td>   -0.394</td> <td>    0.085</td>\n",
       "</tr>\n",
       "<tr>\n",
       "  <th>std_ic_t2f_mou_avg67</th>         <td>   -0.0352</td> <td>    0.070</td> <td>   -0.505</td> <td> 0.613</td> <td>   -0.172</td> <td>    0.101</td>\n",
       "</tr>\n",
       "<tr>\n",
       "  <th>std_ic_mou_avg67</th>             <td>   -0.1030</td> <td>    0.183</td> <td>   -0.563</td> <td> 0.573</td> <td>   -0.461</td> <td>    0.255</td>\n",
       "</tr>\n",
       "<tr>\n",
       "  <th>total_ic_mou_avg67</th>           <td>    0.0979</td> <td>    0.208</td> <td>    0.470</td> <td> 0.638</td> <td>   -0.311</td> <td>    0.506</td>\n",
       "</tr>\n",
       "<tr>\n",
       "  <th>spl_ic_mou_avg67</th>             <td>   -0.4380</td> <td>    0.076</td> <td>   -5.751</td> <td> 0.000</td> <td>   -0.587</td> <td>   -0.289</td>\n",
       "</tr>\n",
       "<tr>\n",
       "  <th>isd_ic_mou_avg67</th>             <td>    0.0241</td> <td>    0.056</td> <td>    0.432</td> <td> 0.666</td> <td>   -0.085</td> <td>    0.134</td>\n",
       "</tr>\n",
       "<tr>\n",
       "  <th>ic_others_avg67</th>              <td>   -0.0288</td> <td>    0.054</td> <td>   -0.536</td> <td> 0.592</td> <td>   -0.134</td> <td>    0.076</td>\n",
       "</tr>\n",
       "<tr>\n",
       "  <th>total_rech_num_avg67</th>         <td>   -0.2291</td> <td>    0.062</td> <td>   -3.676</td> <td> 0.000</td> <td>   -0.351</td> <td>   -0.107</td>\n",
       "</tr>\n",
       "<tr>\n",
       "  <th>total_rech_amt_avg67</th>         <td>    0.0038</td> <td>    0.191</td> <td>    0.020</td> <td> 0.984</td> <td>   -0.370</td> <td>    0.377</td>\n",
       "</tr>\n",
       "<tr>\n",
       "  <th>max_rech_amt_avg67</th>           <td>    0.1426</td> <td>    0.064</td> <td>    2.241</td> <td> 0.025</td> <td>    0.018</td> <td>    0.267</td>\n",
       "</tr>\n",
       "<tr>\n",
       "  <th>last_day_rch_amt_avg67</th>       <td>   -0.4277</td> <td>    0.061</td> <td>   -7.045</td> <td> 0.000</td> <td>   -0.547</td> <td>   -0.309</td>\n",
       "</tr>\n",
       "<tr>\n",
       "  <th>total_rech_data_avg67</th>        <td>    0.2263</td> <td>    0.276</td> <td>    0.822</td> <td> 0.411</td> <td>   -0.314</td> <td>    0.766</td>\n",
       "</tr>\n",
       "<tr>\n",
       "  <th>max_rech_data_avg67</th>          <td>   -0.0931</td> <td>    0.125</td> <td>   -0.746</td> <td> 0.456</td> <td>   -0.337</td> <td>    0.151</td>\n",
       "</tr>\n",
       "<tr>\n",
       "  <th>count_rech_2g_avg67</th>          <td>   -0.9511</td> <td>    3.122</td> <td>   -0.305</td> <td> 0.761</td> <td>   -7.071</td> <td>    5.169</td>\n",
       "</tr>\n",
       "<tr>\n",
       "  <th>count_rech_3g_avg67</th>          <td>   -0.4178</td> <td>    0.292</td> <td>   -1.432</td> <td> 0.152</td> <td>   -0.990</td> <td>    0.154</td>\n",
       "</tr>\n",
       "<tr>\n",
       "  <th>av_rech_amt_data_avg67</th>       <td>   -0.1540</td> <td>    0.155</td> <td>   -0.995</td> <td> 0.320</td> <td>   -0.457</td> <td>    0.149</td>\n",
       "</tr>\n",
       "<tr>\n",
       "  <th>vol_2g_mb_avg67</th>              <td>   -0.2478</td> <td>    0.082</td> <td>   -3.025</td> <td> 0.002</td> <td>   -0.408</td> <td>   -0.087</td>\n",
       "</tr>\n",
       "<tr>\n",
       "  <th>vol_3g_mb_avg67</th>              <td>    0.0137</td> <td>    0.094</td> <td>    0.146</td> <td> 0.884</td> <td>   -0.170</td> <td>    0.198</td>\n",
       "</tr>\n",
       "<tr>\n",
       "  <th>monthly_2g_avg67</th>             <td>   -0.2309</td> <td>    0.535</td> <td>   -0.432</td> <td> 0.666</td> <td>   -1.279</td> <td>    0.817</td>\n",
       "</tr>\n",
       "<tr>\n",
       "  <th>sachet_2g_avg67</th>              <td>    0.6097</td> <td>    3.127</td> <td>    0.195</td> <td> 0.845</td> <td>   -5.519</td> <td>    6.738</td>\n",
       "</tr>\n",
       "<tr>\n",
       "  <th>monthly_3g_avg67</th>             <td>    0.2180</td> <td>    0.191</td> <td>    1.139</td> <td> 0.255</td> <td>   -0.157</td> <td>    0.593</td>\n",
       "</tr>\n",
       "<tr>\n",
       "  <th>sachet_3g_avg67</th>              <td>    0.2652</td> <td>    0.204</td> <td>    1.300</td> <td> 0.194</td> <td>   -0.135</td> <td>    0.665</td>\n",
       "</tr>\n",
       "<tr>\n",
       "  <th>rech_days_avg67</th>              <td>    0.2006</td> <td>    0.035</td> <td>    5.786</td> <td> 0.000</td> <td>    0.133</td> <td>    0.269</td>\n",
       "</tr>\n",
       "<tr>\n",
       "  <th>rech_data_days_avg67</th>         <td>    0.1478</td> <td>    0.064</td> <td>    2.295</td> <td> 0.022</td> <td>    0.022</td> <td>    0.274</td>\n",
       "</tr>\n",
       "<tr>\n",
       "  <th>avg67_diff8_arpu</th>             <td>    0.0719</td> <td>    0.104</td> <td>    0.694</td> <td> 0.488</td> <td>   -0.131</td> <td>    0.275</td>\n",
       "</tr>\n",
       "<tr>\n",
       "  <th>avg67_diff8_onnet_mou</th>        <td>    0.2134</td> <td>    0.173</td> <td>    1.231</td> <td> 0.218</td> <td>   -0.126</td> <td>    0.553</td>\n",
       "</tr>\n",
       "<tr>\n",
       "  <th>avg67_diff8_offnet_mou</th>       <td>    0.4601</td> <td>    0.178</td> <td>    2.588</td> <td> 0.010</td> <td>    0.112</td> <td>    0.809</td>\n",
       "</tr>\n",
       "<tr>\n",
       "  <th>avg67_diff8_roam_ic_mou</th>      <td>    0.0556</td> <td>    0.038</td> <td>    1.466</td> <td> 0.143</td> <td>   -0.019</td> <td>    0.130</td>\n",
       "</tr>\n",
       "<tr>\n",
       "  <th>avg67_diff8_roam_og_mou</th>      <td>   -0.1482</td> <td>    0.053</td> <td>   -2.772</td> <td> 0.006</td> <td>   -0.253</td> <td>   -0.043</td>\n",
       "</tr>\n",
       "<tr>\n",
       "  <th>avg67_diff8_loc_og_t2t_mou</th>   <td>    0.2051</td> <td>    0.129</td> <td>    1.589</td> <td> 0.112</td> <td>   -0.048</td> <td>    0.458</td>\n",
       "</tr>\n",
       "<tr>\n",
       "  <th>avg67_diff8_loc_og_t2m_mou</th>   <td>    0.1341</td> <td>    0.176</td> <td>    0.763</td> <td> 0.446</td> <td>   -0.211</td> <td>    0.479</td>\n",
       "</tr>\n",
       "<tr>\n",
       "  <th>avg67_diff8_loc_og_t2f_mou</th>   <td>   -0.0157</td> <td>    0.057</td> <td>   -0.277</td> <td> 0.782</td> <td>   -0.127</td> <td>    0.095</td>\n",
       "</tr>\n",
       "<tr>\n",
       "  <th>avg67_diff8_loc_og_t2c_mou</th>   <td>   -0.0599</td> <td>    0.053</td> <td>   -1.130</td> <td> 0.259</td> <td>   -0.164</td> <td>    0.044</td>\n",
       "</tr>\n",
       "<tr>\n",
       "  <th>avg67_diff8_loc_og_mou</th>       <td>   -0.3150</td> <td>    0.269</td> <td>   -1.173</td> <td> 0.241</td> <td>   -0.841</td> <td>    0.211</td>\n",
       "</tr>\n",
       "<tr>\n",
       "  <th>avg67_diff8_std_og_t2t_mou</th>   <td>    0.1459</td> <td>    0.173</td> <td>    0.846</td> <td> 0.398</td> <td>   -0.192</td> <td>    0.484</td>\n",
       "</tr>\n",
       "<tr>\n",
       "  <th>avg67_diff8_std_og_t2m_mou</th>   <td>   -0.0110</td> <td>    0.168</td> <td>   -0.065</td> <td> 0.948</td> <td>   -0.341</td> <td>    0.319</td>\n",
       "</tr>\n",
       "<tr>\n",
       "  <th>avg67_diff8_std_og_t2f_mou</th>   <td>    0.1478</td> <td>    0.068</td> <td>    2.159</td> <td> 0.031</td> <td>    0.014</td> <td>    0.282</td>\n",
       "</tr>\n",
       "<tr>\n",
       "  <th>avg67_diff8_std_og_mou</th>       <td>   -0.5438</td> <td>    0.300</td> <td>   -1.812</td> <td> 0.070</td> <td>   -1.132</td> <td>    0.044</td>\n",
       "</tr>\n",
       "<tr>\n",
       "  <th>avg67_diff8_isd_og_mou</th>       <td>   -0.0040</td> <td>    0.039</td> <td>   -0.104</td> <td> 0.917</td> <td>   -0.080</td> <td>    0.072</td>\n",
       "</tr>\n",
       "<tr>\n",
       "  <th>avg67_diff8_spl_og_mou</th>       <td>    0.0347</td> <td>    0.058</td> <td>    0.596</td> <td> 0.551</td> <td>   -0.079</td> <td>    0.149</td>\n",
       "</tr>\n",
       "<tr>\n",
       "  <th>avg67_diff8_og_others</th>        <td>    0.1497</td> <td>    0.476</td> <td>    0.315</td> <td> 0.753</td> <td>   -0.783</td> <td>    1.082</td>\n",
       "</tr>\n",
       "<tr>\n",
       "  <th>avg67_diff8_total_og_mou</th>     <td>    0.4947</td> <td>    0.306</td> <td>    1.617</td> <td> 0.106</td> <td>   -0.105</td> <td>    1.094</td>\n",
       "</tr>\n",
       "<tr>\n",
       "  <th>avg67_diff8_loc_ic_t2t_mou</th>   <td>    0.3453</td> <td>    0.114</td> <td>    3.022</td> <td> 0.003</td> <td>    0.121</td> <td>    0.569</td>\n",
       "</tr>\n",
       "<tr>\n",
       "  <th>avg67_diff8_loc_ic_t2m_mou</th>   <td>    0.8503</td> <td>    0.178</td> <td>    4.781</td> <td> 0.000</td> <td>    0.502</td> <td>    1.199</td>\n",
       "</tr>\n",
       "<tr>\n",
       "  <th>avg67_diff8_loc_ic_t2f_mou</th>   <td>    0.1846</td> <td>    0.073</td> <td>    2.519</td> <td> 0.012</td> <td>    0.041</td> <td>    0.328</td>\n",
       "</tr>\n",
       "<tr>\n",
       "  <th>avg67_diff8_loc_ic_mou</th>       <td>   -0.1509</td> <td>    0.268</td> <td>   -0.562</td> <td> 0.574</td> <td>   -0.677</td> <td>    0.375</td>\n",
       "</tr>\n",
       "<tr>\n",
       "  <th>avg67_diff8_std_ic_t2t_mou</th>   <td>   -0.0345</td> <td>    0.086</td> <td>   -0.403</td> <td> 0.687</td> <td>   -0.202</td> <td>    0.133</td>\n",
       "</tr>\n",
       "<tr>\n",
       "  <th>avg67_diff8_std_ic_t2m_mou</th>   <td>   -0.1244</td> <td>    0.113</td> <td>   -1.102</td> <td> 0.270</td> <td>   -0.346</td> <td>    0.097</td>\n",
       "</tr>\n",
       "<tr>\n",
       "  <th>avg67_diff8_std_ic_t2f_mou</th>   <td>    0.0539</td> <td>    0.067</td> <td>    0.809</td> <td> 0.418</td> <td>   -0.077</td> <td>    0.184</td>\n",
       "</tr>\n",
       "<tr>\n",
       "  <th>avg67_diff8_std_ic_mou</th>       <td>    0.4047</td> <td>    0.162</td> <td>    2.497</td> <td> 0.013</td> <td>    0.087</td> <td>    0.722</td>\n",
       "</tr>\n",
       "<tr>\n",
       "  <th>avg67_diff8_total_ic_mou</th>     <td>    0.0076</td> <td>    0.179</td> <td>    0.042</td> <td> 0.966</td> <td>   -0.343</td> <td>    0.358</td>\n",
       "</tr>\n",
       "<tr>\n",
       "  <th>avg67_diff8_spl_ic_mou</th>       <td>    0.6292</td> <td>    0.097</td> <td>    6.479</td> <td> 0.000</td> <td>    0.439</td> <td>    0.820</td>\n",
       "</tr>\n",
       "<tr>\n",
       "  <th>avg67_diff8_isd_ic_mou</th>       <td>    0.0362</td> <td>    0.052</td> <td>    0.695</td> <td> 0.487</td> <td>   -0.066</td> <td>    0.138</td>\n",
       "</tr>\n",
       "<tr>\n",
       "  <th>avg67_diff8_ic_others</th>        <td>    0.0313</td> <td>    0.055</td> <td>    0.567</td> <td> 0.570</td> <td>   -0.077</td> <td>    0.140</td>\n",
       "</tr>\n",
       "<tr>\n",
       "  <th>avg67_diff8_total_rech_num</th>   <td>    0.2823</td> <td>    0.061</td> <td>    4.595</td> <td> 0.000</td> <td>    0.162</td> <td>    0.403</td>\n",
       "</tr>\n",
       "<tr>\n",
       "  <th>avg67_diff8_total_rech_amt</th>   <td>   -0.1661</td> <td>    0.115</td> <td>   -1.449</td> <td> 0.147</td> <td>   -0.391</td> <td>    0.059</td>\n",
       "</tr>\n",
       "<tr>\n",
       "  <th>avg67_diff8_max_rech_amt</th>     <td>   -0.0358</td> <td>    0.052</td> <td>   -0.693</td> <td> 0.488</td> <td>   -0.137</td> <td>    0.066</td>\n",
       "</tr>\n",
       "<tr>\n",
       "  <th>avg67_diff8_last_day_rch_amt</th> <td>    0.4679</td> <td>    0.056</td> <td>    8.357</td> <td> 0.000</td> <td>    0.358</td> <td>    0.578</td>\n",
       "</tr>\n",
       "<tr>\n",
       "  <th>avg67_diff8_total_rech_data</th>  <td>   -0.0396</td> <td>    0.273</td> <td>   -0.145</td> <td> 0.885</td> <td>   -0.575</td> <td>    0.496</td>\n",
       "</tr>\n",
       "<tr>\n",
       "  <th>avg67_diff8_max_rech_data</th>    <td>    0.0760</td> <td>    0.089</td> <td>    0.856</td> <td> 0.392</td> <td>   -0.098</td> <td>    0.250</td>\n",
       "</tr>\n",
       "<tr>\n",
       "  <th>avg67_diff8_count_rech_2g</th>    <td>    1.0160</td> <td>    0.967</td> <td>    1.050</td> <td> 0.294</td> <td>   -0.880</td> <td>    2.912</td>\n",
       "</tr>\n",
       "<tr>\n",
       "  <th>avg67_diff8_count_rech_3g</th>    <td>    0.2272</td> <td>    0.232</td> <td>    0.980</td> <td> 0.327</td> <td>   -0.227</td> <td>    0.681</td>\n",
       "</tr>\n",
       "<tr>\n",
       "  <th>avg67_diff8_av_rech_amt_data</th> <td>   -0.0580</td> <td>    0.117</td> <td>   -0.495</td> <td> 0.621</td> <td>   -0.288</td> <td>    0.172</td>\n",
       "</tr>\n",
       "<tr>\n",
       "  <th>avg67_diff8_vol_2g_mb</th>        <td>    0.4415</td> <td>    0.078</td> <td>    5.684</td> <td> 0.000</td> <td>    0.289</td> <td>    0.594</td>\n",
       "</tr>\n",
       "<tr>\n",
       "  <th>avg67_diff8_vol_3g_mb</th>        <td>    0.1051</td> <td>    0.071</td> <td>    1.484</td> <td> 0.138</td> <td>   -0.034</td> <td>    0.244</td>\n",
       "</tr>\n",
       "<tr>\n",
       "  <th>avg67_diff8_monthly_2g</th>       <td>   -0.0211</td> <td>    0.192</td> <td>   -0.110</td> <td> 0.912</td> <td>   -0.397</td> <td>    0.354</td>\n",
       "</tr>\n",
       "<tr>\n",
       "  <th>avg67_diff8_sachet_2g</th>        <td>   -0.7487</td> <td>    0.925</td> <td>   -0.810</td> <td> 0.418</td> <td>   -2.561</td> <td>    1.064</td>\n",
       "</tr>\n",
       "<tr>\n",
       "  <th>avg67_diff8_monthly_3g</th>       <td>   -0.0830</td> <td>    0.147</td> <td>   -0.563</td> <td> 0.573</td> <td>   -0.372</td> <td>    0.206</td>\n",
       "</tr>\n",
       "<tr>\n",
       "  <th>avg67_diff8_sachet_3g</th>        <td>   -0.0410</td> <td>    0.161</td> <td>   -0.254</td> <td> 0.799</td> <td>   -0.357</td> <td>    0.275</td>\n",
       "</tr>\n",
       "<tr>\n",
       "  <th>avg67_diff8_rech_days</th>        <td>   -0.1849</td> <td>    0.021</td> <td>   -8.799</td> <td> 0.000</td> <td>   -0.226</td> <td>   -0.144</td>\n",
       "</tr>\n",
       "<tr>\n",
       "  <th>avg67_diff8_rech_data_days</th>   <td>   -0.1812</td> <td>    0.060</td> <td>   -3.014</td> <td> 0.003</td> <td>   -0.299</td> <td>   -0.063</td>\n",
       "</tr>\n",
       "</table>"
      ],
      "text/plain": [
       "<class 'statsmodels.iolib.summary.Summary'>\n",
       "\"\"\"\n",
       "                 Generalized Linear Model Regression Results                  \n",
       "==============================================================================\n",
       "Dep. Variable:                  churn   No. Observations:                21000\n",
       "Model:                            GLM   Df Residuals:                    20900\n",
       "Model Family:                Binomial   Df Model:                           99\n",
       "Link Function:                  logit   Scale:                          1.0000\n",
       "Method:                          IRLS   Log-Likelihood:                -3622.2\n",
       "Date:                Mon, 19 Aug 2019   Deviance:                       7244.4\n",
       "Time:                        18:31:32   Pearson chi2:                 1.43e+05\n",
       "No. Iterations:                    10   Covariance Type:             nonrobust\n",
       "================================================================================================\n",
       "                                   coef    std err          z      P>|z|      [0.025      0.975]\n",
       "------------------------------------------------------------------------------------------------\n",
       "const                           -4.3136      0.085    -50.504      0.000      -4.481      -4.146\n",
       "aug_vbc_3g                      -0.2277      0.083     -2.738      0.006      -0.391      -0.065\n",
       "jul_vbc_3g                       0.0385      0.062      0.617      0.537      -0.084       0.161\n",
       "jun_vbc_3g                       0.0212      0.053      0.400      0.689      -0.083       0.125\n",
       "sep_vbc_3g                      -0.9159      0.216     -4.235      0.000      -1.340      -0.492\n",
       "aon_mon                         -0.2824      0.041     -6.871      0.000      -0.363      -0.202\n",
       "arpu_avg67                       0.3778      0.185      2.041      0.041       0.015       0.741\n",
       "onnet_mou_avg67                 -0.0062      0.214     -0.029      0.977      -0.425       0.413\n",
       "offnet_mou_avg67                 0.0570      0.237      0.241      0.810      -0.407       0.521\n",
       "roam_ic_mou_avg67               -0.0157      0.047     -0.335      0.738      -0.108       0.076\n",
       "roam_og_mou_avg67                0.1857      0.058      3.177      0.001       0.071       0.300\n",
       "loc_og_t2t_mou_avg67            -0.7028      0.216     -3.258      0.001      -1.126      -0.280\n",
       "loc_og_t2m_mou_avg67            -1.1775      0.260     -4.532      0.000      -1.687      -0.668\n",
       "loc_og_t2f_mou_avg67            -0.1263      0.071     -1.770      0.077      -0.266       0.014\n",
       "loc_og_t2c_mou_avg67            -0.0052      0.050     -0.104      0.917      -0.102       0.092\n",
       "loc_og_mou_avg67                 1.4868      0.464      3.206      0.001       0.578       2.396\n",
       "std_og_t2t_mou_avg67            -0.3666      0.227     -1.613      0.107      -0.812       0.079\n",
       "std_og_t2m_mou_avg67            -0.3727      0.240     -1.556      0.120      -0.842       0.097\n",
       "std_og_t2f_mou_avg67            -0.1318      0.072     -1.818      0.069      -0.274       0.010\n",
       "std_og_mou_avg67                 1.4289      0.481      2.971      0.003       0.486       2.371\n",
       "isd_og_mou_avg67                 0.0252      0.041      0.615      0.539      -0.055       0.106\n",
       "spl_og_mou_avg67                 0.0419      0.054      0.777      0.437      -0.064       0.148\n",
       "og_others_avg67                 -0.2582      0.480     -0.538      0.590      -1.198       0.682\n",
       "total_og_mou_avg67              -1.3828      0.431     -3.207      0.001      -2.228      -0.538\n",
       "loc_ic_t2t_mou_avg67            -0.2727      0.157     -1.731      0.083      -0.581       0.036\n",
       "loc_ic_t2m_mou_avg67            -0.5863      0.238     -2.469      0.014      -1.052      -0.121\n",
       "loc_ic_t2f_mou_avg67            -0.2034      0.094     -2.171      0.030      -0.387      -0.020\n",
       "loc_ic_mou_avg67                -0.0985      0.375     -0.263      0.793      -0.834       0.637\n",
       "std_ic_t2t_mou_avg67            -0.0919      0.090     -1.018      0.308      -0.269       0.085\n",
       "std_ic_t2m_mou_avg67            -0.1546      0.122     -1.266      0.205      -0.394       0.085\n",
       "std_ic_t2f_mou_avg67            -0.0352      0.070     -0.505      0.613      -0.172       0.101\n",
       "std_ic_mou_avg67                -0.1030      0.183     -0.563      0.573      -0.461       0.255\n",
       "total_ic_mou_avg67               0.0979      0.208      0.470      0.638      -0.311       0.506\n",
       "spl_ic_mou_avg67                -0.4380      0.076     -5.751      0.000      -0.587      -0.289\n",
       "isd_ic_mou_avg67                 0.0241      0.056      0.432      0.666      -0.085       0.134\n",
       "ic_others_avg67                 -0.0288      0.054     -0.536      0.592      -0.134       0.076\n",
       "total_rech_num_avg67            -0.2291      0.062     -3.676      0.000      -0.351      -0.107\n",
       "total_rech_amt_avg67             0.0038      0.191      0.020      0.984      -0.370       0.377\n",
       "max_rech_amt_avg67               0.1426      0.064      2.241      0.025       0.018       0.267\n",
       "last_day_rch_amt_avg67          -0.4277      0.061     -7.045      0.000      -0.547      -0.309\n",
       "total_rech_data_avg67            0.2263      0.276      0.822      0.411      -0.314       0.766\n",
       "max_rech_data_avg67             -0.0931      0.125     -0.746      0.456      -0.337       0.151\n",
       "count_rech_2g_avg67             -0.9511      3.122     -0.305      0.761      -7.071       5.169\n",
       "count_rech_3g_avg67             -0.4178      0.292     -1.432      0.152      -0.990       0.154\n",
       "av_rech_amt_data_avg67          -0.1540      0.155     -0.995      0.320      -0.457       0.149\n",
       "vol_2g_mb_avg67                 -0.2478      0.082     -3.025      0.002      -0.408      -0.087\n",
       "vol_3g_mb_avg67                  0.0137      0.094      0.146      0.884      -0.170       0.198\n",
       "monthly_2g_avg67                -0.2309      0.535     -0.432      0.666      -1.279       0.817\n",
       "sachet_2g_avg67                  0.6097      3.127      0.195      0.845      -5.519       6.738\n",
       "monthly_3g_avg67                 0.2180      0.191      1.139      0.255      -0.157       0.593\n",
       "sachet_3g_avg67                  0.2652      0.204      1.300      0.194      -0.135       0.665\n",
       "rech_days_avg67                  0.2006      0.035      5.786      0.000       0.133       0.269\n",
       "rech_data_days_avg67             0.1478      0.064      2.295      0.022       0.022       0.274\n",
       "avg67_diff8_arpu                 0.0719      0.104      0.694      0.488      -0.131       0.275\n",
       "avg67_diff8_onnet_mou            0.2134      0.173      1.231      0.218      -0.126       0.553\n",
       "avg67_diff8_offnet_mou           0.4601      0.178      2.588      0.010       0.112       0.809\n",
       "avg67_diff8_roam_ic_mou          0.0556      0.038      1.466      0.143      -0.019       0.130\n",
       "avg67_diff8_roam_og_mou         -0.1482      0.053     -2.772      0.006      -0.253      -0.043\n",
       "avg67_diff8_loc_og_t2t_mou       0.2051      0.129      1.589      0.112      -0.048       0.458\n",
       "avg67_diff8_loc_og_t2m_mou       0.1341      0.176      0.763      0.446      -0.211       0.479\n",
       "avg67_diff8_loc_og_t2f_mou      -0.0157      0.057     -0.277      0.782      -0.127       0.095\n",
       "avg67_diff8_loc_og_t2c_mou      -0.0599      0.053     -1.130      0.259      -0.164       0.044\n",
       "avg67_diff8_loc_og_mou          -0.3150      0.269     -1.173      0.241      -0.841       0.211\n",
       "avg67_diff8_std_og_t2t_mou       0.1459      0.173      0.846      0.398      -0.192       0.484\n",
       "avg67_diff8_std_og_t2m_mou      -0.0110      0.168     -0.065      0.948      -0.341       0.319\n",
       "avg67_diff8_std_og_t2f_mou       0.1478      0.068      2.159      0.031       0.014       0.282\n",
       "avg67_diff8_std_og_mou          -0.5438      0.300     -1.812      0.070      -1.132       0.044\n",
       "avg67_diff8_isd_og_mou          -0.0040      0.039     -0.104      0.917      -0.080       0.072\n",
       "avg67_diff8_spl_og_mou           0.0347      0.058      0.596      0.551      -0.079       0.149\n",
       "avg67_diff8_og_others            0.1497      0.476      0.315      0.753      -0.783       1.082\n",
       "avg67_diff8_total_og_mou         0.4947      0.306      1.617      0.106      -0.105       1.094\n",
       "avg67_diff8_loc_ic_t2t_mou       0.3453      0.114      3.022      0.003       0.121       0.569\n",
       "avg67_diff8_loc_ic_t2m_mou       0.8503      0.178      4.781      0.000       0.502       1.199\n",
       "avg67_diff8_loc_ic_t2f_mou       0.1846      0.073      2.519      0.012       0.041       0.328\n",
       "avg67_diff8_loc_ic_mou          -0.1509      0.268     -0.562      0.574      -0.677       0.375\n",
       "avg67_diff8_std_ic_t2t_mou      -0.0345      0.086     -0.403      0.687      -0.202       0.133\n",
       "avg67_diff8_std_ic_t2m_mou      -0.1244      0.113     -1.102      0.270      -0.346       0.097\n",
       "avg67_diff8_std_ic_t2f_mou       0.0539      0.067      0.809      0.418      -0.077       0.184\n",
       "avg67_diff8_std_ic_mou           0.4047      0.162      2.497      0.013       0.087       0.722\n",
       "avg67_diff8_total_ic_mou         0.0076      0.179      0.042      0.966      -0.343       0.358\n",
       "avg67_diff8_spl_ic_mou           0.6292      0.097      6.479      0.000       0.439       0.820\n",
       "avg67_diff8_isd_ic_mou           0.0362      0.052      0.695      0.487      -0.066       0.138\n",
       "avg67_diff8_ic_others            0.0313      0.055      0.567      0.570      -0.077       0.140\n",
       "avg67_diff8_total_rech_num       0.2823      0.061      4.595      0.000       0.162       0.403\n",
       "avg67_diff8_total_rech_amt      -0.1661      0.115     -1.449      0.147      -0.391       0.059\n",
       "avg67_diff8_max_rech_amt        -0.0358      0.052     -0.693      0.488      -0.137       0.066\n",
       "avg67_diff8_last_day_rch_amt     0.4679      0.056      8.357      0.000       0.358       0.578\n",
       "avg67_diff8_total_rech_data     -0.0396      0.273     -0.145      0.885      -0.575       0.496\n",
       "avg67_diff8_max_rech_data        0.0760      0.089      0.856      0.392      -0.098       0.250\n",
       "avg67_diff8_count_rech_2g        1.0160      0.967      1.050      0.294      -0.880       2.912\n",
       "avg67_diff8_count_rech_3g        0.2272      0.232      0.980      0.327      -0.227       0.681\n",
       "avg67_diff8_av_rech_amt_data    -0.0580      0.117     -0.495      0.621      -0.288       0.172\n",
       "avg67_diff8_vol_2g_mb            0.4415      0.078      5.684      0.000       0.289       0.594\n",
       "avg67_diff8_vol_3g_mb            0.1051      0.071      1.484      0.138      -0.034       0.244\n",
       "avg67_diff8_monthly_2g          -0.0211      0.192     -0.110      0.912      -0.397       0.354\n",
       "avg67_diff8_sachet_2g           -0.7487      0.925     -0.810      0.418      -2.561       1.064\n",
       "avg67_diff8_monthly_3g          -0.0830      0.147     -0.563      0.573      -0.372       0.206\n",
       "avg67_diff8_sachet_3g           -0.0410      0.161     -0.254      0.799      -0.357       0.275\n",
       "avg67_diff8_rech_days           -0.1849      0.021     -8.799      0.000      -0.226      -0.144\n",
       "avg67_diff8_rech_data_days      -0.1812      0.060     -3.014      0.003      -0.299      -0.063\n",
       "================================================================================================\n",
       "\"\"\""
      ]
     },
     "execution_count": 86,
     "metadata": {},
     "output_type": "execute_result"
    }
   ],
   "source": [
    "import statsmodels.api as sm\n",
    "# Logistic regression model\n",
    "logm1 = sm.GLM(y_train,(sm.add_constant(X_train)), family = sm.families.Binomial())\n",
    "logm1.fit().summary()"
   ]
  },
  {
   "cell_type": "code",
   "execution_count": 87,
   "metadata": {},
   "outputs": [
    {
     "name": "stdout",
     "output_type": "stream",
     "text": [
      "[False False False  True False  True False False False False  True  True\n",
      " False False  True False False False  True False False False  True False\n",
      "  True False  True False False False False False  True False False  True\n",
      " False False  True False False False False False False False  True False\n",
      " False False False  True False False False False False False False False\n",
      " False False False False False  True False False False  True  True  True\n",
      " False False False False False False False  True False False  True False\n",
      " False  True False False  True False False  True False False  True False\n",
      " False False  True]\n",
      "[ 6 54 64  1  5  1 72 66 70 11  1  1 31 75  1 23 24 28  1 68 62 42  1  8\n",
      "  1 12  1 33 26 56  4  9  1 61 60  1 69 32  1 20 48 19 15 17  2 67  1 35\n",
      " 16 14  7  1 43 39 21 52 40 30 38 65 44 37 22 53 27  1 73 45 51  1  1  1\n",
      " 13 41 58 34 55  3 71  1 46 59  1 25 57  1 74 49  1 29 47  1 18 36  1 50\n",
      " 63 10  1]\n"
     ]
    }
   ],
   "source": [
    "from sklearn.linear_model import LogisticRegression\n",
    "logreg = LogisticRegression()\n",
    "from sklearn.feature_selection import RFE\n",
    "rfe = RFE(logreg, 25)             # running RFE with 25 variables as output\n",
    "rfe = rfe.fit(X_train,y_train)\n",
    "print(rfe.support_)           # Printing the boolean results\n",
    "print(rfe.ranking_)"
   ]
  },
  {
   "cell_type": "code",
   "execution_count": 88,
   "metadata": {},
   "outputs": [],
   "source": [
    "col = X_train.columns[rfe.support_]"
   ]
  },
  {
   "cell_type": "code",
   "execution_count": 89,
   "metadata": {},
   "outputs": [
    {
     "data": {
      "text/html": [
       "<table class=\"simpletable\">\n",
       "<caption>Generalized Linear Model Regression Results</caption>\n",
       "<tr>\n",
       "  <th>Dep. Variable:</th>        <td>churn</td>      <th>  No. Observations:  </th>  <td> 21000</td>  \n",
       "</tr>\n",
       "<tr>\n",
       "  <th>Model:</th>                 <td>GLM</td>       <th>  Df Residuals:      </th>  <td> 20974</td>  \n",
       "</tr>\n",
       "<tr>\n",
       "  <th>Model Family:</th>       <td>Binomial</td>     <th>  Df Model:          </th>  <td>    25</td>  \n",
       "</tr>\n",
       "<tr>\n",
       "  <th>Link Function:</th>        <td>logit</td>      <th>  Scale:             </th> <td>  1.0000</td> \n",
       "</tr>\n",
       "<tr>\n",
       "  <th>Method:</th>               <td>IRLS</td>       <th>  Log-Likelihood:    </th> <td> -3823.5</td> \n",
       "</tr>\n",
       "<tr>\n",
       "  <th>Date:</th>           <td>Mon, 19 Aug 2019</td> <th>  Deviance:          </th> <td>  7646.9</td> \n",
       "</tr>\n",
       "<tr>\n",
       "  <th>Time:</th>               <td>18:33:44</td>     <th>  Pearson chi2:      </th> <td>1.78e+05</td> \n",
       "</tr>\n",
       "<tr>\n",
       "  <th>No. Iterations:</th>        <td>10</td>        <th>  Covariance Type:   </th> <td>nonrobust</td>\n",
       "</tr>\n",
       "</table>\n",
       "<table class=\"simpletable\">\n",
       "<tr>\n",
       "                <td></td>                  <th>coef</th>     <th>std err</th>      <th>z</th>      <th>P>|z|</th>  <th>[0.025</th>    <th>0.975]</th>  \n",
       "</tr>\n",
       "<tr>\n",
       "  <th>const</th>                        <td>   -4.2503</td> <td>    0.081</td> <td>  -52.283</td> <td> 0.000</td> <td>   -4.410</td> <td>   -4.091</td>\n",
       "</tr>\n",
       "<tr>\n",
       "  <th>sep_vbc_3g</th>                   <td>   -0.9620</td> <td>    0.216</td> <td>   -4.449</td> <td> 0.000</td> <td>   -1.386</td> <td>   -0.538</td>\n",
       "</tr>\n",
       "<tr>\n",
       "  <th>arpu_avg67</th>                   <td>    0.4928</td> <td>    0.046</td> <td>   10.764</td> <td> 0.000</td> <td>    0.403</td> <td>    0.583</td>\n",
       "</tr>\n",
       "<tr>\n",
       "  <th>loc_og_t2t_mou_avg67</th>         <td>   -0.4919</td> <td>    0.156</td> <td>   -3.163</td> <td> 0.002</td> <td>   -0.797</td> <td>   -0.187</td>\n",
       "</tr>\n",
       "<tr>\n",
       "  <th>loc_og_t2m_mou_avg67</th>         <td>   -0.8684</td> <td>    0.196</td> <td>   -4.419</td> <td> 0.000</td> <td>   -1.254</td> <td>   -0.483</td>\n",
       "</tr>\n",
       "<tr>\n",
       "  <th>loc_og_mou_avg67</th>             <td>    0.8213</td> <td>    0.383</td> <td>    2.144</td> <td> 0.032</td> <td>    0.070</td> <td>    1.572</td>\n",
       "</tr>\n",
       "<tr>\n",
       "  <th>std_og_mou_avg67</th>             <td>    0.6998</td> <td>    0.340</td> <td>    2.060</td> <td> 0.039</td> <td>    0.034</td> <td>    1.366</td>\n",
       "</tr>\n",
       "<tr>\n",
       "  <th>total_og_mou_avg67</th>           <td>   -1.2742</td> <td>    0.378</td> <td>   -3.369</td> <td> 0.001</td> <td>   -2.016</td> <td>   -0.533</td>\n",
       "</tr>\n",
       "<tr>\n",
       "  <th>loc_ic_t2m_mou_avg67</th>         <td>   -0.3911</td> <td>    0.153</td> <td>   -2.548</td> <td> 0.011</td> <td>   -0.692</td> <td>   -0.090</td>\n",
       "</tr>\n",
       "<tr>\n",
       "  <th>loc_ic_mou_avg67</th>             <td>   -0.6799</td> <td>    0.151</td> <td>   -4.507</td> <td> 0.000</td> <td>   -0.976</td> <td>   -0.384</td>\n",
       "</tr>\n",
       "<tr>\n",
       "  <th>spl_ic_mou_avg67</th>             <td>   -0.4453</td> <td>    0.075</td> <td>   -5.910</td> <td> 0.000</td> <td>   -0.593</td> <td>   -0.298</td>\n",
       "</tr>\n",
       "<tr>\n",
       "  <th>total_rech_num_avg67</th>         <td>   -0.4536</td> <td>    0.052</td> <td>   -8.720</td> <td> 0.000</td> <td>   -0.556</td> <td>   -0.352</td>\n",
       "</tr>\n",
       "<tr>\n",
       "  <th>last_day_rch_amt_avg67</th>       <td>   -0.4559</td> <td>    0.055</td> <td>   -8.339</td> <td> 0.000</td> <td>   -0.563</td> <td>   -0.349</td>\n",
       "</tr>\n",
       "<tr>\n",
       "  <th>monthly_2g_avg67</th>             <td>   -0.4203</td> <td>    0.070</td> <td>   -6.029</td> <td> 0.000</td> <td>   -0.557</td> <td>   -0.284</td>\n",
       "</tr>\n",
       "<tr>\n",
       "  <th>rech_data_days_avg67</th>         <td>    0.3365</td> <td>    0.040</td> <td>    8.459</td> <td> 0.000</td> <td>    0.259</td> <td>    0.414</td>\n",
       "</tr>\n",
       "<tr>\n",
       "  <th>avg67_diff8_std_og_mou</th>       <td>   -0.5648</td> <td>    0.139</td> <td>   -4.077</td> <td> 0.000</td> <td>   -0.836</td> <td>   -0.293</td>\n",
       "</tr>\n",
       "<tr>\n",
       "  <th>avg67_diff8_total_og_mou</th>     <td>    1.1267</td> <td>    0.162</td> <td>    6.936</td> <td> 0.000</td> <td>    0.808</td> <td>    1.445</td>\n",
       "</tr>\n",
       "<tr>\n",
       "  <th>avg67_diff8_loc_ic_t2t_mou</th>   <td>    0.3229</td> <td>    0.057</td> <td>    5.679</td> <td> 0.000</td> <td>    0.211</td> <td>    0.434</td>\n",
       "</tr>\n",
       "<tr>\n",
       "  <th>avg67_diff8_loc_ic_t2m_mou</th>   <td>    0.9177</td> <td>    0.074</td> <td>   12.321</td> <td> 0.000</td> <td>    0.772</td> <td>    1.064</td>\n",
       "</tr>\n",
       "<tr>\n",
       "  <th>avg67_diff8_spl_ic_mou</th>       <td>    0.6542</td> <td>    0.097</td> <td>    6.749</td> <td> 0.000</td> <td>    0.464</td> <td>    0.844</td>\n",
       "</tr>\n",
       "<tr>\n",
       "  <th>avg67_diff8_total_rech_num</th>   <td>    0.4241</td> <td>    0.050</td> <td>    8.490</td> <td> 0.000</td> <td>    0.326</td> <td>    0.522</td>\n",
       "</tr>\n",
       "<tr>\n",
       "  <th>avg67_diff8_last_day_rch_amt</th> <td>    0.5353</td> <td>    0.050</td> <td>   10.603</td> <td> 0.000</td> <td>    0.436</td> <td>    0.634</td>\n",
       "</tr>\n",
       "<tr>\n",
       "  <th>avg67_diff8_count_rech_2g</th>    <td>    0.9394</td> <td>    0.302</td> <td>    3.113</td> <td> 0.002</td> <td>    0.348</td> <td>    1.531</td>\n",
       "</tr>\n",
       "<tr>\n",
       "  <th>avg67_diff8_vol_2g_mb</th>        <td>    0.2134</td> <td>    0.036</td> <td>    5.994</td> <td> 0.000</td> <td>    0.144</td> <td>    0.283</td>\n",
       "</tr>\n",
       "<tr>\n",
       "  <th>avg67_diff8_sachet_2g</th>        <td>   -0.8129</td> <td>    0.296</td> <td>   -2.749</td> <td> 0.006</td> <td>   -1.392</td> <td>   -0.233</td>\n",
       "</tr>\n",
       "<tr>\n",
       "  <th>avg67_diff8_rech_data_days</th>   <td>   -0.3953</td> <td>    0.039</td> <td>  -10.179</td> <td> 0.000</td> <td>   -0.471</td> <td>   -0.319</td>\n",
       "</tr>\n",
       "</table>"
      ],
      "text/plain": [
       "<class 'statsmodels.iolib.summary.Summary'>\n",
       "\"\"\"\n",
       "                 Generalized Linear Model Regression Results                  \n",
       "==============================================================================\n",
       "Dep. Variable:                  churn   No. Observations:                21000\n",
       "Model:                            GLM   Df Residuals:                    20974\n",
       "Model Family:                Binomial   Df Model:                           25\n",
       "Link Function:                  logit   Scale:                          1.0000\n",
       "Method:                          IRLS   Log-Likelihood:                -3823.5\n",
       "Date:                Mon, 19 Aug 2019   Deviance:                       7646.9\n",
       "Time:                        18:33:44   Pearson chi2:                 1.78e+05\n",
       "No. Iterations:                    10   Covariance Type:             nonrobust\n",
       "================================================================================================\n",
       "                                   coef    std err          z      P>|z|      [0.025      0.975]\n",
       "------------------------------------------------------------------------------------------------\n",
       "const                           -4.2503      0.081    -52.283      0.000      -4.410      -4.091\n",
       "sep_vbc_3g                      -0.9620      0.216     -4.449      0.000      -1.386      -0.538\n",
       "arpu_avg67                       0.4928      0.046     10.764      0.000       0.403       0.583\n",
       "loc_og_t2t_mou_avg67            -0.4919      0.156     -3.163      0.002      -0.797      -0.187\n",
       "loc_og_t2m_mou_avg67            -0.8684      0.196     -4.419      0.000      -1.254      -0.483\n",
       "loc_og_mou_avg67                 0.8213      0.383      2.144      0.032       0.070       1.572\n",
       "std_og_mou_avg67                 0.6998      0.340      2.060      0.039       0.034       1.366\n",
       "total_og_mou_avg67              -1.2742      0.378     -3.369      0.001      -2.016      -0.533\n",
       "loc_ic_t2m_mou_avg67            -0.3911      0.153     -2.548      0.011      -0.692      -0.090\n",
       "loc_ic_mou_avg67                -0.6799      0.151     -4.507      0.000      -0.976      -0.384\n",
       "spl_ic_mou_avg67                -0.4453      0.075     -5.910      0.000      -0.593      -0.298\n",
       "total_rech_num_avg67            -0.4536      0.052     -8.720      0.000      -0.556      -0.352\n",
       "last_day_rch_amt_avg67          -0.4559      0.055     -8.339      0.000      -0.563      -0.349\n",
       "monthly_2g_avg67                -0.4203      0.070     -6.029      0.000      -0.557      -0.284\n",
       "rech_data_days_avg67             0.3365      0.040      8.459      0.000       0.259       0.414\n",
       "avg67_diff8_std_og_mou          -0.5648      0.139     -4.077      0.000      -0.836      -0.293\n",
       "avg67_diff8_total_og_mou         1.1267      0.162      6.936      0.000       0.808       1.445\n",
       "avg67_diff8_loc_ic_t2t_mou       0.3229      0.057      5.679      0.000       0.211       0.434\n",
       "avg67_diff8_loc_ic_t2m_mou       0.9177      0.074     12.321      0.000       0.772       1.064\n",
       "avg67_diff8_spl_ic_mou           0.6542      0.097      6.749      0.000       0.464       0.844\n",
       "avg67_diff8_total_rech_num       0.4241      0.050      8.490      0.000       0.326       0.522\n",
       "avg67_diff8_last_day_rch_amt     0.5353      0.050     10.603      0.000       0.436       0.634\n",
       "avg67_diff8_count_rech_2g        0.9394      0.302      3.113      0.002       0.348       1.531\n",
       "avg67_diff8_vol_2g_mb            0.2134      0.036      5.994      0.000       0.144       0.283\n",
       "avg67_diff8_sachet_2g           -0.8129      0.296     -2.749      0.006      -1.392      -0.233\n",
       "avg67_diff8_rech_data_days      -0.3953      0.039    -10.179      0.000      -0.471      -0.319\n",
       "================================================================================================\n",
       "\"\"\""
      ]
     },
     "execution_count": 89,
     "metadata": {},
     "output_type": "execute_result"
    }
   ],
   "source": [
    "X_train_sm = sm.add_constant(X_train[col])\n",
    "logm2 = sm.GLM(y_train,X_train_sm, family = sm.families.Binomial())\n",
    "res = logm2.fit()\n",
    "res.summary()"
   ]
  },
  {
   "cell_type": "code",
   "execution_count": 90,
   "metadata": {},
   "outputs": [
    {
     "data": {
      "text/html": [
       "<div>\n",
       "<style scoped>\n",
       "    .dataframe tbody tr th:only-of-type {\n",
       "        vertical-align: middle;\n",
       "    }\n",
       "\n",
       "    .dataframe tbody tr th {\n",
       "        vertical-align: top;\n",
       "    }\n",
       "\n",
       "    .dataframe thead th {\n",
       "        text-align: right;\n",
       "    }\n",
       "</style>\n",
       "<table border=\"1\" class=\"dataframe\">\n",
       "  <thead>\n",
       "    <tr style=\"text-align: right;\">\n",
       "      <th></th>\n",
       "      <th>Features</th>\n",
       "      <th>VIF</th>\n",
       "    </tr>\n",
       "  </thead>\n",
       "  <tbody>\n",
       "    <tr>\n",
       "      <th>4</th>\n",
       "      <td>loc_og_mou_avg67</td>\n",
       "      <td>75.04</td>\n",
       "    </tr>\n",
       "    <tr>\n",
       "      <th>6</th>\n",
       "      <td>total_og_mou_avg67</td>\n",
       "      <td>61.73</td>\n",
       "    </tr>\n",
       "    <tr>\n",
       "      <th>5</th>\n",
       "      <td>std_og_mou_avg67</td>\n",
       "      <td>49.57</td>\n",
       "    </tr>\n",
       "    <tr>\n",
       "      <th>21</th>\n",
       "      <td>avg67_diff8_count_rech_2g</td>\n",
       "      <td>28.66</td>\n",
       "    </tr>\n",
       "    <tr>\n",
       "      <th>23</th>\n",
       "      <td>avg67_diff8_sachet_2g</td>\n",
       "      <td>27.17</td>\n",
       "    </tr>\n",
       "    <tr>\n",
       "      <th>3</th>\n",
       "      <td>loc_og_t2m_mou_avg67</td>\n",
       "      <td>21.54</td>\n",
       "    </tr>\n",
       "    <tr>\n",
       "      <th>2</th>\n",
       "      <td>loc_og_t2t_mou_avg67</td>\n",
       "      <td>13.10</td>\n",
       "    </tr>\n",
       "    <tr>\n",
       "      <th>15</th>\n",
       "      <td>avg67_diff8_total_og_mou</td>\n",
       "      <td>6.73</td>\n",
       "    </tr>\n",
       "    <tr>\n",
       "      <th>7</th>\n",
       "      <td>loc_ic_t2m_mou_avg67</td>\n",
       "      <td>6.03</td>\n",
       "    </tr>\n",
       "    <tr>\n",
       "      <th>14</th>\n",
       "      <td>avg67_diff8_std_og_mou</td>\n",
       "      <td>5.80</td>\n",
       "    </tr>\n",
       "    <tr>\n",
       "      <th>8</th>\n",
       "      <td>loc_ic_mou_avg67</td>\n",
       "      <td>5.79</td>\n",
       "    </tr>\n",
       "    <tr>\n",
       "      <th>1</th>\n",
       "      <td>arpu_avg67</td>\n",
       "      <td>2.55</td>\n",
       "    </tr>\n",
       "    <tr>\n",
       "      <th>11</th>\n",
       "      <td>last_day_rch_amt_avg67</td>\n",
       "      <td>2.02</td>\n",
       "    </tr>\n",
       "    <tr>\n",
       "      <th>19</th>\n",
       "      <td>avg67_diff8_total_rech_num</td>\n",
       "      <td>1.85</td>\n",
       "    </tr>\n",
       "    <tr>\n",
       "      <th>10</th>\n",
       "      <td>total_rech_num_avg67</td>\n",
       "      <td>1.84</td>\n",
       "    </tr>\n",
       "    <tr>\n",
       "      <th>18</th>\n",
       "      <td>avg67_diff8_spl_ic_mou</td>\n",
       "      <td>1.54</td>\n",
       "    </tr>\n",
       "    <tr>\n",
       "      <th>9</th>\n",
       "      <td>spl_ic_mou_avg67</td>\n",
       "      <td>1.53</td>\n",
       "    </tr>\n",
       "    <tr>\n",
       "      <th>13</th>\n",
       "      <td>rech_data_days_avg67</td>\n",
       "      <td>1.52</td>\n",
       "    </tr>\n",
       "    <tr>\n",
       "      <th>24</th>\n",
       "      <td>avg67_diff8_rech_data_days</td>\n",
       "      <td>1.49</td>\n",
       "    </tr>\n",
       "    <tr>\n",
       "      <th>12</th>\n",
       "      <td>monthly_2g_avg67</td>\n",
       "      <td>1.38</td>\n",
       "    </tr>\n",
       "    <tr>\n",
       "      <th>20</th>\n",
       "      <td>avg67_diff8_last_day_rch_amt</td>\n",
       "      <td>1.34</td>\n",
       "    </tr>\n",
       "    <tr>\n",
       "      <th>17</th>\n",
       "      <td>avg67_diff8_loc_ic_t2m_mou</td>\n",
       "      <td>1.29</td>\n",
       "    </tr>\n",
       "    <tr>\n",
       "      <th>16</th>\n",
       "      <td>avg67_diff8_loc_ic_t2t_mou</td>\n",
       "      <td>1.21</td>\n",
       "    </tr>\n",
       "    <tr>\n",
       "      <th>22</th>\n",
       "      <td>avg67_diff8_vol_2g_mb</td>\n",
       "      <td>1.13</td>\n",
       "    </tr>\n",
       "    <tr>\n",
       "      <th>0</th>\n",
       "      <td>sep_vbc_3g</td>\n",
       "      <td>1.04</td>\n",
       "    </tr>\n",
       "  </tbody>\n",
       "</table>\n",
       "</div>"
      ],
      "text/plain": [
       "                        Features    VIF\n",
       "4               loc_og_mou_avg67  75.04\n",
       "6             total_og_mou_avg67  61.73\n",
       "5               std_og_mou_avg67  49.57\n",
       "21     avg67_diff8_count_rech_2g  28.66\n",
       "23         avg67_diff8_sachet_2g  27.17\n",
       "3           loc_og_t2m_mou_avg67  21.54\n",
       "2           loc_og_t2t_mou_avg67  13.10\n",
       "15      avg67_diff8_total_og_mou   6.73\n",
       "7           loc_ic_t2m_mou_avg67   6.03\n",
       "14        avg67_diff8_std_og_mou   5.80\n",
       "8               loc_ic_mou_avg67   5.79\n",
       "1                     arpu_avg67   2.55\n",
       "11        last_day_rch_amt_avg67   2.02\n",
       "19    avg67_diff8_total_rech_num   1.85\n",
       "10          total_rech_num_avg67   1.84\n",
       "18        avg67_diff8_spl_ic_mou   1.54\n",
       "9               spl_ic_mou_avg67   1.53\n",
       "13          rech_data_days_avg67   1.52\n",
       "24    avg67_diff8_rech_data_days   1.49\n",
       "12              monthly_2g_avg67   1.38\n",
       "20  avg67_diff8_last_day_rch_amt   1.34\n",
       "17    avg67_diff8_loc_ic_t2m_mou   1.29\n",
       "16    avg67_diff8_loc_ic_t2t_mou   1.21\n",
       "22         avg67_diff8_vol_2g_mb   1.13\n",
       "0                     sep_vbc_3g   1.04"
      ]
     },
     "execution_count": 90,
     "metadata": {},
     "output_type": "execute_result"
    }
   ],
   "source": [
    "# Check for the VIF values of the feature variables. \n",
    "from statsmodels.stats.outliers_influence import variance_inflation_factor\n",
    "vif = pd.DataFrame()\n",
    "vif['Features'] = X_train[col].columns\n",
    "vif['VIF'] = [variance_inflation_factor(X_train[col].values, i) for i in range(X_train[col].shape[1])]\n",
    "vif['VIF'] = round(vif['VIF'], 2)\n",
    "vif = vif.sort_values(by = \"VIF\", ascending = False)\n",
    "vif"
   ]
  },
  {
   "cell_type": "markdown",
   "metadata": {},
   "source": [
    "Not very high VIF's, lets keep all of them"
   ]
  },
  {
   "cell_type": "code",
   "execution_count": 91,
   "metadata": {},
   "outputs": [],
   "source": [
    "# Getting the predicted values on the train set\n",
    "y_train_pred = res.predict(X_train_sm)\n",
    "y_train_pred = y_train_pred.values.reshape(-1)"
   ]
  },
  {
   "cell_type": "code",
   "execution_count": 92,
   "metadata": {},
   "outputs": [
    {
     "data": {
      "text/html": [
       "<div>\n",
       "<style scoped>\n",
       "    .dataframe tbody tr th:only-of-type {\n",
       "        vertical-align: middle;\n",
       "    }\n",
       "\n",
       "    .dataframe tbody tr th {\n",
       "        vertical-align: top;\n",
       "    }\n",
       "\n",
       "    .dataframe thead th {\n",
       "        text-align: right;\n",
       "    }\n",
       "</style>\n",
       "<table border=\"1\" class=\"dataframe\">\n",
       "  <thead>\n",
       "    <tr style=\"text-align: right;\">\n",
       "      <th></th>\n",
       "      <th>Churn</th>\n",
       "      <th>Churn_Prob</th>\n",
       "      <th>CustID</th>\n",
       "    </tr>\n",
       "  </thead>\n",
       "  <tbody>\n",
       "    <tr>\n",
       "      <th>0</th>\n",
       "      <td>0</td>\n",
       "      <td>0.196565</td>\n",
       "      <td>39186</td>\n",
       "    </tr>\n",
       "    <tr>\n",
       "      <th>1</th>\n",
       "      <td>0</td>\n",
       "      <td>0.003750</td>\n",
       "      <td>39833</td>\n",
       "    </tr>\n",
       "    <tr>\n",
       "      <th>2</th>\n",
       "      <td>0</td>\n",
       "      <td>0.037319</td>\n",
       "      <td>38778</td>\n",
       "    </tr>\n",
       "    <tr>\n",
       "      <th>3</th>\n",
       "      <td>0</td>\n",
       "      <td>0.001525</td>\n",
       "      <td>43026</td>\n",
       "    </tr>\n",
       "    <tr>\n",
       "      <th>4</th>\n",
       "      <td>0</td>\n",
       "      <td>0.008405</td>\n",
       "      <td>12271</td>\n",
       "    </tr>\n",
       "  </tbody>\n",
       "</table>\n",
       "</div>"
      ],
      "text/plain": [
       "   Churn  Churn_Prob  CustID\n",
       "0      0    0.196565   39186\n",
       "1      0    0.003750   39833\n",
       "2      0    0.037319   38778\n",
       "3      0    0.001525   43026\n",
       "4      0    0.008405   12271"
      ]
     },
     "execution_count": 92,
     "metadata": {},
     "output_type": "execute_result"
    }
   ],
   "source": [
    "y_train_pred_final = pd.DataFrame({'Churn':y_train.values, 'Churn_Prob':y_train_pred})\n",
    "y_train_pred_final['CustID'] = y_train.index\n",
    "y_train_pred_final.head()"
   ]
  },
  {
   "cell_type": "code",
   "execution_count": 93,
   "metadata": {},
   "outputs": [],
   "source": [
    "y_train_pred_final['predicted'] = y_train_pred_final.Churn_Prob.map(lambda x: 1 if x > 0.5 else 0)"
   ]
  },
  {
   "cell_type": "code",
   "execution_count": 94,
   "metadata": {},
   "outputs": [
    {
     "name": "stdout",
     "output_type": "stream",
     "text": [
      "[[19063   246]\n",
      " [ 1189   502]]\n"
     ]
    }
   ],
   "source": [
    "from sklearn import metrics\n",
    "# Confusion matrix \n",
    "confusion = metrics.confusion_matrix(y_train_pred_final.Churn, y_train_pred_final.predicted )\n",
    "print(confusion)"
   ]
  },
  {
   "cell_type": "markdown",
   "metadata": {},
   "source": [
    "##### Plotting the ROC Curve"
   ]
  },
  {
   "cell_type": "code",
   "execution_count": 95,
   "metadata": {},
   "outputs": [],
   "source": [
    "def draw_roc( actual, probs ):\n",
    "    fpr, tpr, thresholds = metrics.roc_curve( actual, probs,\n",
    "                                              drop_intermediate = False )\n",
    "    auc_score = metrics.roc_auc_score( actual, probs )\n",
    "    plt.figure(figsize=(5, 5))\n",
    "    plt.plot( fpr, tpr, label='ROC curve (area = %0.2f)' % auc_score )\n",
    "    plt.plot([0, 1], [0, 1], 'k--')\n",
    "    plt.xlim([0.0, 1.0])\n",
    "    plt.ylim([0.0, 1.05])\n",
    "    plt.xlabel('False Positive Rate or [1 - True Negative Rate]')\n",
    "    plt.ylabel('True Positive Rate')\n",
    "    plt.title('Receiver operating characteristic example')\n",
    "    plt.legend(loc=\"lower right\")\n",
    "    plt.show()\n",
    "\n",
    "    return None"
   ]
  },
  {
   "cell_type": "code",
   "execution_count": 96,
   "metadata": {},
   "outputs": [],
   "source": [
    "fpr, tpr, thresholds = metrics.roc_curve( y_train_pred_final.Churn, y_train_pred_final.Churn_Prob, drop_intermediate = False )"
   ]
  },
  {
   "cell_type": "code",
   "execution_count": 97,
   "metadata": {},
   "outputs": [
    {
     "data": {
      "image/png": "[encoded data removed]",
      "text/plain": [
       "<Figure size 360x360 with 1 Axes>"
      ]
     },
     "metadata": {},
     "output_type": "display_data"
    }
   ],
   "source": [
    "draw_roc(y_train_pred_final.Churn, y_train_pred_final.Churn_Prob)"
   ]
  },
  {
   "cell_type": "code",
   "execution_count": 98,
   "metadata": {},
   "outputs": [
    {
     "data": {
      "text/plain": [
       "'0.90'"
      ]
     },
     "execution_count": 98,
     "metadata": {},
     "output_type": "execute_result"
    }
   ],
   "source": [
    "#draw_roc(y_pred_final.Churn, y_pred_final.predicted)\n",
    "\"{:2.2f}\".format(metrics.roc_auc_score(y_train_pred_final.Churn, y_train_pred_final.Churn_Prob))"
   ]
  },
  {
   "cell_type": "code",
   "execution_count": 99,
   "metadata": {},
   "outputs": [
    {
     "data": {
      "text/html": [
       "<div>\n",
       "<style scoped>\n",
       "    .dataframe tbody tr th:only-of-type {\n",
       "        vertical-align: middle;\n",
       "    }\n",
       "\n",
       "    .dataframe tbody tr th {\n",
       "        vertical-align: top;\n",
       "    }\n",
       "\n",
       "    .dataframe thead th {\n",
       "        text-align: right;\n",
       "    }\n",
       "</style>\n",
       "<table border=\"1\" class=\"dataframe\">\n",
       "  <thead>\n",
       "    <tr style=\"text-align: right;\">\n",
       "      <th></th>\n",
       "      <th>Churn</th>\n",
       "      <th>Churn_Prob</th>\n",
       "      <th>CustID</th>\n",
       "      <th>predicted</th>\n",
       "      <th>0.0</th>\n",
       "      <th>0.1</th>\n",
       "      <th>0.2</th>\n",
       "      <th>0.3</th>\n",
       "      <th>0.4</th>\n",
       "      <th>0.5</th>\n",
       "      <th>0.6</th>\n",
       "      <th>0.7</th>\n",
       "      <th>0.8</th>\n",
       "      <th>0.9</th>\n",
       "    </tr>\n",
       "  </thead>\n",
       "  <tbody>\n",
       "    <tr>\n",
       "      <th>0</th>\n",
       "      <td>0</td>\n",
       "      <td>0.196565</td>\n",
       "      <td>39186</td>\n",
       "      <td>0</td>\n",
       "      <td>1</td>\n",
       "      <td>1</td>\n",
       "      <td>0</td>\n",
       "      <td>0</td>\n",
       "      <td>0</td>\n",
       "      <td>0</td>\n",
       "      <td>0</td>\n",
       "      <td>0</td>\n",
       "      <td>0</td>\n",
       "      <td>0</td>\n",
       "    </tr>\n",
       "    <tr>\n",
       "      <th>1</th>\n",
       "      <td>0</td>\n",
       "      <td>0.003750</td>\n",
       "      <td>39833</td>\n",
       "      <td>0</td>\n",
       "      <td>1</td>\n",
       "      <td>0</td>\n",
       "      <td>0</td>\n",
       "      <td>0</td>\n",
       "      <td>0</td>\n",
       "      <td>0</td>\n",
       "      <td>0</td>\n",
       "      <td>0</td>\n",
       "      <td>0</td>\n",
       "      <td>0</td>\n",
       "    </tr>\n",
       "    <tr>\n",
       "      <th>2</th>\n",
       "      <td>0</td>\n",
       "      <td>0.037319</td>\n",
       "      <td>38778</td>\n",
       "      <td>0</td>\n",
       "      <td>1</td>\n",
       "      <td>0</td>\n",
       "      <td>0</td>\n",
       "      <td>0</td>\n",
       "      <td>0</td>\n",
       "      <td>0</td>\n",
       "      <td>0</td>\n",
       "      <td>0</td>\n",
       "      <td>0</td>\n",
       "      <td>0</td>\n",
       "    </tr>\n",
       "    <tr>\n",
       "      <th>3</th>\n",
       "      <td>0</td>\n",
       "      <td>0.001525</td>\n",
       "      <td>43026</td>\n",
       "      <td>0</td>\n",
       "      <td>1</td>\n",
       "      <td>0</td>\n",
       "      <td>0</td>\n",
       "      <td>0</td>\n",
       "      <td>0</td>\n",
       "      <td>0</td>\n",
       "      <td>0</td>\n",
       "      <td>0</td>\n",
       "      <td>0</td>\n",
       "      <td>0</td>\n",
       "    </tr>\n",
       "    <tr>\n",
       "      <th>4</th>\n",
       "      <td>0</td>\n",
       "      <td>0.008405</td>\n",
       "      <td>12271</td>\n",
       "      <td>0</td>\n",
       "      <td>1</td>\n",
       "      <td>0</td>\n",
       "      <td>0</td>\n",
       "      <td>0</td>\n",
       "      <td>0</td>\n",
       "      <td>0</td>\n",
       "      <td>0</td>\n",
       "      <td>0</td>\n",
       "      <td>0</td>\n",
       "      <td>0</td>\n",
       "    </tr>\n",
       "  </tbody>\n",
       "</table>\n",
       "</div>"
      ],
      "text/plain": [
       "   Churn  Churn_Prob  CustID  predicted  0.0  0.1  0.2  0.3  0.4  0.5  0.6  \\\n",
       "0      0    0.196565   39186          0    1    1    0    0    0    0    0   \n",
       "1      0    0.003750   39833          0    1    0    0    0    0    0    0   \n",
       "2      0    0.037319   38778          0    1    0    0    0    0    0    0   \n",
       "3      0    0.001525   43026          0    1    0    0    0    0    0    0   \n",
       "4      0    0.008405   12271          0    1    0    0    0    0    0    0   \n",
       "\n",
       "   0.7  0.8  0.9  \n",
       "0    0    0    0  \n",
       "1    0    0    0  \n",
       "2    0    0    0  \n",
       "3    0    0    0  \n",
       "4    0    0    0  "
      ]
     },
     "execution_count": 99,
     "metadata": {},
     "output_type": "execute_result"
    }
   ],
   "source": [
    "# Let's create columns with different probability cutoffs \n",
    "numbers = [float(x)/10 for x in range(10)]\n",
    "for i in numbers:\n",
    "    y_train_pred_final[i]= y_train_pred_final.Churn_Prob.map(lambda x: 1 if x > i else 0)\n",
    "y_train_pred_final.head()"
   ]
  },
  {
   "cell_type": "code",
   "execution_count": 100,
   "metadata": {},
   "outputs": [
    {
     "name": "stdout",
     "output_type": "stream",
     "text": [
      "     prob  accuracy     sensi     speci\n",
      "0.0   0.0  0.080524  1.000000  0.000000\n",
      "0.1   0.1  0.840905  0.808989  0.843700\n",
      "0.2   0.2  0.904524  0.678297  0.924336\n",
      "0.3   0.3  0.925810  0.578947  0.956186\n",
      "0.4   0.4  0.930952  0.441159  0.973846\n",
      "0.5   0.5  0.931667  0.296866  0.987260\n",
      "0.6   0.6  0.927095  0.157895  0.994459\n",
      "0.7   0.7  0.923667  0.075695  0.997928\n",
      "0.8   0.8  0.921048  0.028386  0.999223\n",
      "0.9   0.9  0.919619  0.002957  0.999896\n"
     ]
    }
   ],
   "source": [
    "# Now let's calculate accuracy sensitivity and specificity for various probability cutoffs.\n",
    "cutoff_df = pd.DataFrame( columns = ['prob','accuracy','sensi','speci'])\n",
    "from sklearn.metrics import confusion_matrix\n",
    "\n",
    "# TP = confusion[1,1] # true positive \n",
    "# TN = confusion[0,0] # true negatives\n",
    "# FP = confusion[0,1] # false positives\n",
    "# FN = confusion[1,0] # false negatives\n",
    "\n",
    "num = [0.0,0.1,0.2,0.3,0.4,0.5,0.6,0.7,0.8,0.9]\n",
    "for i in num:\n",
    "    cm1 = metrics.confusion_matrix(y_train_pred_final.Churn, y_train_pred_final[i] )\n",
    "    total1=sum(sum(cm1))\n",
    "    accuracy = (cm1[0,0]+cm1[1,1])/total1\n",
    "    \n",
    "    speci = cm1[0,0]/(cm1[0,0]+cm1[0,1])\n",
    "    sensi = cm1[1,1]/(cm1[1,0]+cm1[1,1])\n",
    "    cutoff_df.loc[i] =[ i ,accuracy,sensi,speci]\n",
    "print(cutoff_df)"
   ]
  },
  {
   "cell_type": "markdown",
   "metadata": {},
   "source": [
    " Making predictions on the test set"
   ]
  },
  {
   "cell_type": "code",
   "execution_count": 102,
   "metadata": {},
   "outputs": [
    {
     "name": "stderr",
     "output_type": "stream",
     "text": [
      "C:\\Users\\Ajit Shalini\\Anaconda3\\lib\\site-packages\\ipykernel_launcher.py:1: SettingWithCopyWarning: \n",
      "A value is trying to be set on a copy of a slice from a DataFrame.\n",
      "Try using .loc[row_indexer,col_indexer] = value instead\n",
      "\n",
      "See the caveats in the documentation: http://pandas.pydata.org/pandas-docs/stable/indexing.html#indexing-view-versus-copy\n",
      "  \"\"\"Entry point for launching an IPython kernel.\n",
      "C:\\Users\\Ajit Shalini\\Anaconda3\\lib\\site-packages\\pandas\\core\\frame.py:3144: SettingWithCopyWarning: \n",
      "A value is trying to be set on a copy of a slice from a DataFrame\n",
      "\n",
      "See the caveats in the documentation: http://pandas.pydata.org/pandas-docs/stable/indexing.html#indexing-view-versus-copy\n",
      "  self.loc._setitem_with_indexer((slice(None), indexer), value)\n",
      "C:\\Users\\Ajit Shalini\\Anaconda3\\lib\\site-packages\\pandas\\core\\frame.py:3116: SettingWithCopyWarning: \n",
      "A value is trying to be set on a copy of a slice from a DataFrame\n",
      "\n",
      "See the caveats in the documentation: http://pandas.pydata.org/pandas-docs/stable/indexing.html#indexing-view-versus-copy\n",
      "  self._setitem_array(key, value)\n"
     ]
    }
   ],
   "source": [
    "X_test[num_cols] = scaler.transform(X_test[num_cols])"
   ]
  },
  {
   "cell_type": "code",
   "execution_count": 103,
   "metadata": {},
   "outputs": [
    {
     "data": {
      "text/html": [
       "<div>\n",
       "<style scoped>\n",
       "    .dataframe tbody tr th:only-of-type {\n",
       "        vertical-align: middle;\n",
       "    }\n",
       "\n",
       "    .dataframe tbody tr th {\n",
       "        vertical-align: top;\n",
       "    }\n",
       "\n",
       "    .dataframe thead th {\n",
       "        text-align: right;\n",
       "    }\n",
       "</style>\n",
       "<table border=\"1\" class=\"dataframe\">\n",
       "  <thead>\n",
       "    <tr style=\"text-align: right;\">\n",
       "      <th></th>\n",
       "      <th>sep_vbc_3g</th>\n",
       "      <th>arpu_avg67</th>\n",
       "      <th>loc_og_t2t_mou_avg67</th>\n",
       "      <th>loc_og_t2m_mou_avg67</th>\n",
       "      <th>loc_og_mou_avg67</th>\n",
       "      <th>std_og_mou_avg67</th>\n",
       "      <th>total_og_mou_avg67</th>\n",
       "      <th>loc_ic_t2m_mou_avg67</th>\n",
       "      <th>loc_ic_mou_avg67</th>\n",
       "      <th>spl_ic_mou_avg67</th>\n",
       "      <th>...</th>\n",
       "      <th>avg67_diff8_total_og_mou</th>\n",
       "      <th>avg67_diff8_loc_ic_t2t_mou</th>\n",
       "      <th>avg67_diff8_loc_ic_t2m_mou</th>\n",
       "      <th>avg67_diff8_spl_ic_mou</th>\n",
       "      <th>avg67_diff8_total_rech_num</th>\n",
       "      <th>avg67_diff8_last_day_rch_amt</th>\n",
       "      <th>avg67_diff8_count_rech_2g</th>\n",
       "      <th>avg67_diff8_vol_2g_mb</th>\n",
       "      <th>avg67_diff8_sachet_2g</th>\n",
       "      <th>avg67_diff8_rech_data_days</th>\n",
       "    </tr>\n",
       "  </thead>\n",
       "  <tbody>\n",
       "    <tr>\n",
       "      <th>20296</th>\n",
       "      <td>-0.218528</td>\n",
       "      <td>-0.040555</td>\n",
       "      <td>-0.501956</td>\n",
       "      <td>-0.657077</td>\n",
       "      <td>-0.696688</td>\n",
       "      <td>-0.621275</td>\n",
       "      <td>-0.937061</td>\n",
       "      <td>-0.600105</td>\n",
       "      <td>-0.638943</td>\n",
       "      <td>-0.449742</td>\n",
       "      <td>...</td>\n",
       "      <td>-0.129402</td>\n",
       "      <td>0.003017</td>\n",
       "      <td>0.160669</td>\n",
       "      <td>-0.116509</td>\n",
       "      <td>0.979809</td>\n",
       "      <td>-0.580394</td>\n",
       "      <td>-0.069592</td>\n",
       "      <td>-0.105691</td>\n",
       "      <td>-0.054578</td>\n",
       "      <td>-0.722024</td>\n",
       "    </tr>\n",
       "    <tr>\n",
       "      <th>8279</th>\n",
       "      <td>-0.218528</td>\n",
       "      <td>-1.264926</td>\n",
       "      <td>-0.494770</td>\n",
       "      <td>-0.764948</td>\n",
       "      <td>-0.771978</td>\n",
       "      <td>-0.637355</td>\n",
       "      <td>-0.967234</td>\n",
       "      <td>-0.802040</td>\n",
       "      <td>-0.714282</td>\n",
       "      <td>-0.449742</td>\n",
       "      <td>...</td>\n",
       "      <td>-0.112087</td>\n",
       "      <td>0.486077</td>\n",
       "      <td>-0.011107</td>\n",
       "      <td>-0.116509</td>\n",
       "      <td>0.376875</td>\n",
       "      <td>0.057269</td>\n",
       "      <td>2.103774</td>\n",
       "      <td>0.198328</td>\n",
       "      <td>2.144080</td>\n",
       "      <td>0.147881</td>\n",
       "    </tr>\n",
       "    <tr>\n",
       "      <th>72269</th>\n",
       "      <td>-0.218528</td>\n",
       "      <td>0.520917</td>\n",
       "      <td>1.081313</td>\n",
       "      <td>2.755570</td>\n",
       "      <td>2.282273</td>\n",
       "      <td>-0.404076</td>\n",
       "      <td>0.821546</td>\n",
       "      <td>1.173069</td>\n",
       "      <td>0.795284</td>\n",
       "      <td>-0.449742</td>\n",
       "      <td>...</td>\n",
       "      <td>-0.167310</td>\n",
       "      <td>0.743339</td>\n",
       "      <td>-0.177079</td>\n",
       "      <td>-0.116509</td>\n",
       "      <td>0.032341</td>\n",
       "      <td>0.084794</td>\n",
       "      <td>-0.069592</td>\n",
       "      <td>-0.100449</td>\n",
       "      <td>-0.054578</td>\n",
       "      <td>-1.483191</td>\n",
       "    </tr>\n",
       "    <tr>\n",
       "      <th>65602</th>\n",
       "      <td>-0.218528</td>\n",
       "      <td>-0.244417</td>\n",
       "      <td>-0.152869</td>\n",
       "      <td>0.209819</td>\n",
       "      <td>0.037157</td>\n",
       "      <td>-0.425501</td>\n",
       "      <td>-0.378427</td>\n",
       "      <td>0.365954</td>\n",
       "      <td>0.204241</td>\n",
       "      <td>-0.449742</td>\n",
       "      <td>...</td>\n",
       "      <td>-0.058280</td>\n",
       "      <td>0.650496</td>\n",
       "      <td>0.513005</td>\n",
       "      <td>-0.116509</td>\n",
       "      <td>-0.828993</td>\n",
       "      <td>-0.176694</td>\n",
       "      <td>-0.069592</td>\n",
       "      <td>-0.105691</td>\n",
       "      <td>-0.054578</td>\n",
       "      <td>-0.722024</td>\n",
       "    </tr>\n",
       "    <tr>\n",
       "      <th>42758</th>\n",
       "      <td>-0.218528</td>\n",
       "      <td>-0.148068</td>\n",
       "      <td>-0.473551</td>\n",
       "      <td>-0.254134</td>\n",
       "      <td>-0.427795</td>\n",
       "      <td>0.357192</td>\n",
       "      <td>0.090007</td>\n",
       "      <td>0.604184</td>\n",
       "      <td>0.203019</td>\n",
       "      <td>2.730788</td>\n",
       "      <td>...</td>\n",
       "      <td>1.361867</td>\n",
       "      <td>-0.006597</td>\n",
       "      <td>2.336330</td>\n",
       "      <td>2.249772</td>\n",
       "      <td>2.013410</td>\n",
       "      <td>-0.084944</td>\n",
       "      <td>1.172332</td>\n",
       "      <td>0.588732</td>\n",
       "      <td>0.573610</td>\n",
       "      <td>-1.778337</td>\n",
       "    </tr>\n",
       "  </tbody>\n",
       "</table>\n",
       "<p>5 rows × 25 columns</p>\n",
       "</div>"
      ],
      "text/plain": [
       "       sep_vbc_3g  arpu_avg67  loc_og_t2t_mou_avg67  loc_og_t2m_mou_avg67  \\\n",
       "20296   -0.218528   -0.040555             -0.501956             -0.657077   \n",
       "8279    -0.218528   -1.264926             -0.494770             -0.764948   \n",
       "72269   -0.218528    0.520917              1.081313              2.755570   \n",
       "65602   -0.218528   -0.244417             -0.152869              0.209819   \n",
       "42758   -0.218528   -0.148068             -0.473551             -0.254134   \n",
       "\n",
       "       loc_og_mou_avg67  std_og_mou_avg67  total_og_mou_avg67  \\\n",
       "20296         -0.696688         -0.621275           -0.937061   \n",
       "8279          -0.771978         -0.637355           -0.967234   \n",
       "72269          2.282273         -0.404076            0.821546   \n",
       "65602          0.037157         -0.425501           -0.378427   \n",
       "42758         -0.427795          0.357192            0.090007   \n",
       "\n",
       "       loc_ic_t2m_mou_avg67  loc_ic_mou_avg67  spl_ic_mou_avg67  \\\n",
       "20296             -0.600105         -0.638943         -0.449742   \n",
       "8279              -0.802040         -0.714282         -0.449742   \n",
       "72269              1.173069          0.795284         -0.449742   \n",
       "65602              0.365954          0.204241         -0.449742   \n",
       "42758              0.604184          0.203019          2.730788   \n",
       "\n",
       "                  ...              avg67_diff8_total_og_mou  \\\n",
       "20296             ...                             -0.129402   \n",
       "8279              ...                             -0.112087   \n",
       "72269             ...                             -0.167310   \n",
       "65602             ...                             -0.058280   \n",
       "42758             ...                              1.361867   \n",
       "\n",
       "       avg67_diff8_loc_ic_t2t_mou  avg67_diff8_loc_ic_t2m_mou  \\\n",
       "20296                    0.003017                    0.160669   \n",
       "8279                     0.486077                   -0.011107   \n",
       "72269                    0.743339                   -0.177079   \n",
       "65602                    0.650496                    0.513005   \n",
       "42758                   -0.006597                    2.336330   \n",
       "\n",
       "       avg67_diff8_spl_ic_mou  avg67_diff8_total_rech_num  \\\n",
       "20296               -0.116509                    0.979809   \n",
       "8279                -0.116509                    0.376875   \n",
       "72269               -0.116509                    0.032341   \n",
       "65602               -0.116509                   -0.828993   \n",
       "42758                2.249772                    2.013410   \n",
       "\n",
       "       avg67_diff8_last_day_rch_amt  avg67_diff8_count_rech_2g  \\\n",
       "20296                     -0.580394                  -0.069592   \n",
       "8279                       0.057269                   2.103774   \n",
       "72269                      0.084794                  -0.069592   \n",
       "65602                     -0.176694                  -0.069592   \n",
       "42758                     -0.084944                   1.172332   \n",
       "\n",
       "       avg67_diff8_vol_2g_mb  avg67_diff8_sachet_2g  \\\n",
       "20296              -0.105691              -0.054578   \n",
       "8279                0.198328               2.144080   \n",
       "72269              -0.100449              -0.054578   \n",
       "65602              -0.105691              -0.054578   \n",
       "42758               0.588732               0.573610   \n",
       "\n",
       "       avg67_diff8_rech_data_days  \n",
       "20296                   -0.722024  \n",
       "8279                     0.147881  \n",
       "72269                   -1.483191  \n",
       "65602                   -0.722024  \n",
       "42758                   -1.778337  \n",
       "\n",
       "[5 rows x 25 columns]"
      ]
     },
     "execution_count": 103,
     "metadata": {},
     "output_type": "execute_result"
    }
   ],
   "source": [
    "X_test_1 = X_test[col]\n",
    "X_test_1.head()"
   ]
  },
  {
   "cell_type": "code",
   "execution_count": 104,
   "metadata": {},
   "outputs": [],
   "source": [
    "X_test_sm = sm.add_constant(X_test_1)"
   ]
  },
  {
   "cell_type": "code",
   "execution_count": 105,
   "metadata": {},
   "outputs": [
    {
     "data": {
      "text/plain": [
       "20296    0.230839\n",
       "8279     0.117526\n",
       "72269    0.001919\n",
       "65602    0.034764\n",
       "42758    0.552230\n",
       "80210    0.005294\n",
       "67925    0.017237\n",
       "25034    0.017846\n",
       "10422    0.014498\n",
       "43140    0.022197\n",
       "dtype: float64"
      ]
     },
     "execution_count": 105,
     "metadata": {},
     "output_type": "execute_result"
    }
   ],
   "source": [
    "y_test_pred = res.predict(X_test_sm)\n",
    "y_test_pred[:10]"
   ]
  },
  {
   "cell_type": "code",
   "execution_count": 106,
   "metadata": {},
   "outputs": [
    {
     "data": {
      "text/html": [
       "<div>\n",
       "<style scoped>\n",
       "    .dataframe tbody tr th:only-of-type {\n",
       "        vertical-align: middle;\n",
       "    }\n",
       "\n",
       "    .dataframe tbody tr th {\n",
       "        vertical-align: top;\n",
       "    }\n",
       "\n",
       "    .dataframe thead th {\n",
       "        text-align: right;\n",
       "    }\n",
       "</style>\n",
       "<table border=\"1\" class=\"dataframe\">\n",
       "  <thead>\n",
       "    <tr style=\"text-align: right;\">\n",
       "      <th></th>\n",
       "      <th>0</th>\n",
       "    </tr>\n",
       "  </thead>\n",
       "  <tbody>\n",
       "    <tr>\n",
       "      <th>20296</th>\n",
       "      <td>0.230839</td>\n",
       "    </tr>\n",
       "    <tr>\n",
       "      <th>8279</th>\n",
       "      <td>0.117526</td>\n",
       "    </tr>\n",
       "    <tr>\n",
       "      <th>72269</th>\n",
       "      <td>0.001919</td>\n",
       "    </tr>\n",
       "    <tr>\n",
       "      <th>65602</th>\n",
       "      <td>0.034764</td>\n",
       "    </tr>\n",
       "    <tr>\n",
       "      <th>42758</th>\n",
       "      <td>0.552230</td>\n",
       "    </tr>\n",
       "  </tbody>\n",
       "</table>\n",
       "</div>"
      ],
      "text/plain": [
       "              0\n",
       "20296  0.230839\n",
       "8279   0.117526\n",
       "72269  0.001919\n",
       "65602  0.034764\n",
       "42758  0.552230"
      ]
     },
     "execution_count": 106,
     "metadata": {},
     "output_type": "execute_result"
    }
   ],
   "source": [
    "# Converting y_pred to a dataframe which is an array\n",
    "y_pred_1 = pd.DataFrame(y_test_pred)\n",
    "y_pred_1.head()"
   ]
  },
  {
   "cell_type": "code",
   "execution_count": 107,
   "metadata": {},
   "outputs": [],
   "source": [
    "# Converting y_test to dataframe\n",
    "y_test_df = pd.DataFrame(y_test)\n",
    "\n",
    "# Putting CustID to index\n",
    "y_test_df['CustID'] = y_test_df.index"
   ]
  },
  {
   "cell_type": "code",
   "execution_count": 108,
   "metadata": {},
   "outputs": [],
   "source": [
    "#Removing index for both dataframes to append them side by side \n",
    "y_pred_1.reset_index(drop=True, inplace=True)\n",
    "y_test_df.reset_index(drop=True, inplace=True)\n",
    "\n",
    "\n",
    "# Appending y_test_df and y_pred_1\n",
    "y_pred_final = pd.concat([y_test_df, y_pred_1],axis=1)"
   ]
  },
  {
   "cell_type": "code",
   "execution_count": 110,
   "metadata": {},
   "outputs": [
    {
     "data": {
      "text/html": [
       "<div>\n",
       "<style scoped>\n",
       "    .dataframe tbody tr th:only-of-type {\n",
       "        vertical-align: middle;\n",
       "    }\n",
       "\n",
       "    .dataframe tbody tr th {\n",
       "        vertical-align: top;\n",
       "    }\n",
       "\n",
       "    .dataframe thead th {\n",
       "        text-align: right;\n",
       "    }\n",
       "</style>\n",
       "<table border=\"1\" class=\"dataframe\">\n",
       "  <thead>\n",
       "    <tr style=\"text-align: right;\">\n",
       "      <th></th>\n",
       "      <th>churn</th>\n",
       "      <th>CustID</th>\n",
       "      <th>0</th>\n",
       "    </tr>\n",
       "  </thead>\n",
       "  <tbody>\n",
       "    <tr>\n",
       "      <th>0</th>\n",
       "      <td>1</td>\n",
       "      <td>20296</td>\n",
       "      <td>0.230839</td>\n",
       "    </tr>\n",
       "    <tr>\n",
       "      <th>1</th>\n",
       "      <td>1</td>\n",
       "      <td>8279</td>\n",
       "      <td>0.117526</td>\n",
       "    </tr>\n",
       "    <tr>\n",
       "      <th>2</th>\n",
       "      <td>0</td>\n",
       "      <td>72269</td>\n",
       "      <td>0.001919</td>\n",
       "    </tr>\n",
       "    <tr>\n",
       "      <th>3</th>\n",
       "      <td>0</td>\n",
       "      <td>65602</td>\n",
       "      <td>0.034764</td>\n",
       "    </tr>\n",
       "    <tr>\n",
       "      <th>4</th>\n",
       "      <td>1</td>\n",
       "      <td>42758</td>\n",
       "      <td>0.552230</td>\n",
       "    </tr>\n",
       "  </tbody>\n",
       "</table>\n",
       "</div>"
      ],
      "text/plain": [
       "   churn  CustID         0\n",
       "0      1   20296  0.230839\n",
       "1      1    8279  0.117526\n",
       "2      0   72269  0.001919\n",
       "3      0   65602  0.034764\n",
       "4      1   42758  0.552230"
      ]
     },
     "execution_count": 110,
     "metadata": {},
     "output_type": "execute_result"
    }
   ],
   "source": [
    "y_pred_final.head()"
   ]
  },
  {
   "cell_type": "code",
   "execution_count": 111,
   "metadata": {},
   "outputs": [
    {
     "name": "stderr",
     "output_type": "stream",
     "text": [
      "C:\\Users\\Ajit Shalini\\Anaconda3\\lib\\site-packages\\ipykernel_launcher.py:4: FutureWarning: '.reindex_axis' is deprecated and will be removed in a future version. Use '.reindex' instead.\n",
      "  after removing the cwd from sys.path.\n"
     ]
    }
   ],
   "source": [
    "# Renaming the column \n",
    "y_pred_final= y_pred_final.rename(columns={ 0 : 'Churn_Prob'})\n",
    "# Rearranging the columns\n",
    "y_pred_final = y_pred_final.reindex_axis(['CustID','churn','Churn_Prob'], axis=1)"
   ]
  },
  {
   "cell_type": "code",
   "execution_count": 112,
   "metadata": {},
   "outputs": [
    {
     "data": {
      "text/html": [
       "<div>\n",
       "<style scoped>\n",
       "    .dataframe tbody tr th:only-of-type {\n",
       "        vertical-align: middle;\n",
       "    }\n",
       "\n",
       "    .dataframe tbody tr th {\n",
       "        vertical-align: top;\n",
       "    }\n",
       "\n",
       "    .dataframe thead th {\n",
       "        text-align: right;\n",
       "    }\n",
       "</style>\n",
       "<table border=\"1\" class=\"dataframe\">\n",
       "  <thead>\n",
       "    <tr style=\"text-align: right;\">\n",
       "      <th></th>\n",
       "      <th>CustID</th>\n",
       "      <th>churn</th>\n",
       "      <th>Churn_Prob</th>\n",
       "    </tr>\n",
       "  </thead>\n",
       "  <tbody>\n",
       "    <tr>\n",
       "      <th>0</th>\n",
       "      <td>20296</td>\n",
       "      <td>1</td>\n",
       "      <td>0.230839</td>\n",
       "    </tr>\n",
       "    <tr>\n",
       "      <th>1</th>\n",
       "      <td>8279</td>\n",
       "      <td>1</td>\n",
       "      <td>0.117526</td>\n",
       "    </tr>\n",
       "    <tr>\n",
       "      <th>2</th>\n",
       "      <td>72269</td>\n",
       "      <td>0</td>\n",
       "      <td>0.001919</td>\n",
       "    </tr>\n",
       "    <tr>\n",
       "      <th>3</th>\n",
       "      <td>65602</td>\n",
       "      <td>0</td>\n",
       "      <td>0.034764</td>\n",
       "    </tr>\n",
       "    <tr>\n",
       "      <th>4</th>\n",
       "      <td>42758</td>\n",
       "      <td>1</td>\n",
       "      <td>0.552230</td>\n",
       "    </tr>\n",
       "  </tbody>\n",
       "</table>\n",
       "</div>"
      ],
      "text/plain": [
       "   CustID  churn  Churn_Prob\n",
       "0   20296      1    0.230839\n",
       "1    8279      1    0.117526\n",
       "2   72269      0    0.001919\n",
       "3   65602      0    0.034764\n",
       "4   42758      1    0.552230"
      ]
     },
     "execution_count": 112,
     "metadata": {},
     "output_type": "execute_result"
    }
   ],
   "source": [
    "# Let's see the head of y_pred_final\n",
    "y_pred_final.head()"
   ]
  },
  {
   "cell_type": "code",
   "execution_count": 113,
   "metadata": {},
   "outputs": [],
   "source": [
    "#with optimal cut-off\n",
    "y_pred_final['final_predicted'] = y_pred_final.Churn_Prob.map(lambda x: 1 if x > 0.15 else 0)"
   ]
  },
  {
   "cell_type": "code",
   "execution_count": 114,
   "metadata": {},
   "outputs": [
    {
     "data": {
      "text/plain": [
       "0.8896789245639374"
      ]
     },
     "execution_count": 114,
     "metadata": {},
     "output_type": "execute_result"
    }
   ],
   "source": [
    "# Let's check the overall accuracy.\n",
    "metrics.accuracy_score(y_pred_final.churn, y_pred_final.final_predicted)"
   ]
  },
  {
   "cell_type": "code",
   "execution_count": 115,
   "metadata": {},
   "outputs": [
    {
     "data": {
      "text/plain": [
       "array([[7435,  816],\n",
       "       [ 177,  573]], dtype=int64)"
      ]
     },
     "execution_count": 115,
     "metadata": {},
     "output_type": "execute_result"
    }
   ],
   "source": [
    "confusion2 = metrics.confusion_matrix(y_pred_final.churn, y_pred_final.final_predicted )\n",
    "confusion2"
   ]
  },
  {
   "cell_type": "code",
   "execution_count": 116,
   "metadata": {},
   "outputs": [],
   "source": [
    "TP = confusion2[1,1] # true positive \n",
    "TN = confusion2[0,0] # true negatives\n",
    "FP = confusion2[0,1] # false positives\n",
    "FN = confusion2[1,0] # false"
   ]
  },
  {
   "cell_type": "code",
   "execution_count": 117,
   "metadata": {},
   "outputs": [
    {
     "data": {
      "image/png": "[encoded data removed]",
      "text/plain": [
       "<Figure size 360x360 with 1 Axes>"
      ]
     },
     "metadata": {},
     "output_type": "display_data"
    }
   ],
   "source": [
    "draw_roc(y_pred_final.churn, y_pred_final.Churn_Prob)"
   ]
  },
  {
   "cell_type": "code",
   "execution_count": 118,
   "metadata": {},
   "outputs": [
    {
     "data": {
      "text/plain": [
       "'0.90'"
      ]
     },
     "execution_count": 118,
     "metadata": {},
     "output_type": "execute_result"
    }
   ],
   "source": [
    "#draw_roc(y_pred_final.Churn, y_pred_final.predicted)\n",
    "\"{:2.2f}\".format(metrics.roc_auc_score(y_pred_final.churn, y_pred_final.Churn_Prob))"
   ]
  },
  {
   "cell_type": "markdown",
   "metadata": {},
   "source": [
    "We see an overall AUC score of 0.89 looks like we did a decent job.\n",
    "Try PCA for feature selection"
   ]
  },
  {
   "cell_type": "markdown",
   "metadata": {},
   "source": [
    "### PCA on the data"
   ]
  },
  {
   "cell_type": "code",
   "execution_count": 119,
   "metadata": {},
   "outputs": [
    {
     "name": "stdout",
     "output_type": "stream",
     "text": [
      "(21000, 99)\n",
      "(9001, 99)\n"
     ]
    }
   ],
   "source": [
    "print(X_train.shape)\n",
    "print(X_test.shape)"
   ]
  },
  {
   "cell_type": "code",
   "execution_count": 120,
   "metadata": {},
   "outputs": [],
   "source": [
    "#Improting the PCA module\n",
    "from sklearn.decomposition import PCA\n",
    "pca = PCA(svd_solver='randomized', random_state=42)"
   ]
  },
  {
   "cell_type": "code",
   "execution_count": 121,
   "metadata": {},
   "outputs": [
    {
     "data": {
      "text/plain": [
       "PCA(copy=True, iterated_power='auto', n_components=None, random_state=42,\n",
       "  svd_solver='randomized', tol=0.0, whiten=False)"
      ]
     },
     "execution_count": 121,
     "metadata": {},
     "output_type": "execute_result"
    }
   ],
   "source": [
    "#Doing the PCA on the train data\n",
    "pca.fit(X_train)"
   ]
  },
  {
   "cell_type": "code",
   "execution_count": 122,
   "metadata": {},
   "outputs": [
    {
     "data": {
      "text/plain": [
       "array([[-9.91219685e-02, -9.78630464e-02, -9.01910806e-02, ...,\n",
       "        -1.10883268e-02, -5.18632142e-02, -9.40861887e-02],\n",
       "       [ 8.31531009e-02,  1.34803995e-01,  1.43211506e-01, ...,\n",
       "         9.70159250e-02, -8.74870194e-02, -4.81988946e-02],\n",
       "       [ 1.74239514e-01,  1.70225753e-01,  1.63777209e-01, ...,\n",
       "        -2.68500765e-02,  2.27152550e-02,  8.84873438e-02],\n",
       "       ...,\n",
       "       [ 1.59359185e-04,  3.40583888e-04,  1.08867415e-04, ...,\n",
       "        -4.65417456e-04,  4.27138293e-04,  9.12164918e-04],\n",
       "       [-2.07322035e-03, -3.52874244e-04,  1.60714207e-03, ...,\n",
       "         3.86746280e-03, -6.09184013e-04, -2.56699917e-03],\n",
       "       [ 6.96099286e-04, -2.60079287e-04, -3.40784124e-04, ...,\n",
       "         2.50332045e-04,  2.07825333e-05, -1.99599864e-04]])"
      ]
     },
     "execution_count": 122,
     "metadata": {},
     "output_type": "execute_result"
    }
   ],
   "source": [
    "pca.components_"
   ]
  },
  {
   "cell_type": "code",
   "execution_count": 123,
   "metadata": {},
   "outputs": [
    {
     "data": {
      "image/png": "[encoded data removed]",
      "text/plain": [
       "<Figure size 864x576 with 1 Axes>"
      ]
     },
     "metadata": {
      "needs_background": "light"
     },
     "output_type": "display_data"
    }
   ],
   "source": [
    "#Making the screeplot - plotting the cumulative variance against the number of components\n",
    "%matplotlib inline\n",
    "fig = plt.figure(figsize = (12,8))\n",
    "plt.plot(np.cumsum(pca.explained_variance_ratio_))\n",
    "plt.xlabel('number of components')\n",
    "plt.ylabel('cumulative explained variance')\n",
    "plt.show()"
   ]
  },
  {
   "cell_type": "code",
   "execution_count": 124,
   "metadata": {},
   "outputs": [],
   "source": [
    "#Using incremental PCA for efficiency - saves a lot of time on larger datasets\n",
    "from sklearn.decomposition import IncrementalPCA\n",
    "pca_final = IncrementalPCA(n_components=20)"
   ]
  },
  {
   "cell_type": "code",
   "execution_count": 125,
   "metadata": {},
   "outputs": [
    {
     "data": {
      "text/plain": [
       "(21000, 20)"
      ]
     },
     "execution_count": 125,
     "metadata": {},
     "output_type": "execute_result"
    }
   ],
   "source": [
    "df_train_pca = pca_final.fit_transform(X_train)\n",
    "df_train_pca.shape"
   ]
  },
  {
   "cell_type": "code",
   "execution_count": 126,
   "metadata": {},
   "outputs": [],
   "source": [
    "#creating correlation matrix for the principal components\n",
    "corrmat = np.corrcoef(df_train_pca.transpose())"
   ]
  },
  {
   "cell_type": "code",
   "execution_count": 127,
   "metadata": {},
   "outputs": [
    {
     "data": {
      "text/plain": [
       "<matplotlib.axes._subplots.AxesSubplot at 0x16c444bfcf8>"
      ]
     },
     "execution_count": 127,
     "metadata": {},
     "output_type": "execute_result"
    },
    {
     "data": {
      "image/png": "[encoded data removed]",
      "text/plain": [
       "<Figure size 1440x720 with 2 Axes>"
      ]
     },
     "metadata": {
      "needs_background": "light"
     },
     "output_type": "display_data"
    }
   ],
   "source": [
    "#plotting the correlation matrix\n",
    "%matplotlib inline\n",
    "plt.figure(figsize = (20,10))\n",
    "sns.heatmap(corrmat,annot = True)"
   ]
  },
  {
   "cell_type": "code",
   "execution_count": 128,
   "metadata": {},
   "outputs": [
    {
     "name": "stdout",
     "output_type": "stream",
     "text": [
      "max corr: 0.0027348047597243242 , min corr:  -0.00513053279676226\n"
     ]
    }
   ],
   "source": [
    "# 1s -> 0s in diagonals\n",
    "corrmat_nodiag = corrmat - np.diagflat(corrmat.diagonal())\n",
    "print(\"max corr:\",corrmat_nodiag.max(), \", min corr: \", corrmat_nodiag.min(),)\n",
    "# we see that correlations are indeed very close to 0"
   ]
  },
  {
   "cell_type": "code",
   "execution_count": 129,
   "metadata": {},
   "outputs": [
    {
     "data": {
      "text/plain": [
       "(9001, 20)"
      ]
     },
     "execution_count": 129,
     "metadata": {},
     "output_type": "execute_result"
    }
   ],
   "source": [
    "#Applying selected components to the test data - 16 components\n",
    "df_test_pca = pca_final.transform(X_test)\n",
    "df_test_pca.shape"
   ]
  },
  {
   "cell_type": "code",
   "execution_count": 130,
   "metadata": {},
   "outputs": [],
   "source": [
    "#Training the model on the train data\n",
    "from sklearn.linear_model import LogisticRegression\n",
    "from sklearn import metrics\n",
    "\n",
    "learner_pca = LogisticRegression()\n",
    "model_pca = learner_pca.fit(df_train_pca,y_train)"
   ]
  },
  {
   "cell_type": "code",
   "execution_count": 131,
   "metadata": {},
   "outputs": [
    {
     "data": {
      "text/plain": [
       "'0.89'"
      ]
     },
     "execution_count": 131,
     "metadata": {},
     "output_type": "execute_result"
    }
   ],
   "source": [
    "#Making prediction on the test data\n",
    "pred_probs_test = model_pca.predict_proba(df_test_pca)[:,1]\n",
    "\"{:2.2}\".format(metrics.roc_auc_score(y_test, pred_probs_test))"
   ]
  },
  {
   "cell_type": "markdown",
   "metadata": {},
   "source": [
    "Accuracy little less than Feature selection with RFE\n",
    "A similar result, without all the hassles. "
   ]
  },
  {
   "cell_type": "markdown",
   "metadata": {},
   "source": [
    "### Random Forest"
   ]
  },
  {
   "cell_type": "code",
   "execution_count": 132,
   "metadata": {},
   "outputs": [
    {
     "name": "stderr",
     "output_type": "stream",
     "text": [
      "C:\\Users\\Ajit Shalini\\Anaconda3\\lib\\site-packages\\sklearn\\ensemble\\weight_boosting.py:29: DeprecationWarning: numpy.core.umath_tests is an internal NumPy module and should not be imported. It will be removed in a future NumPy release.\n",
      "  from numpy.core.umath_tests import inner1d\n"
     ]
    }
   ],
   "source": [
    "# Importing random forest classifier from sklearn library\n",
    "from sklearn.ensemble import RandomForestClassifier\n",
    "\n",
    "# Running the random forest with default parameters.\n",
    "rfc = RandomForestClassifier()"
   ]
  },
  {
   "cell_type": "code",
   "execution_count": 133,
   "metadata": {},
   "outputs": [
    {
     "data": {
      "text/plain": [
       "RandomForestClassifier(bootstrap=True, class_weight=None, criterion='gini',\n",
       "            max_depth=None, max_features='auto', max_leaf_nodes=None,\n",
       "            min_impurity_decrease=0.0, min_impurity_split=None,\n",
       "            min_samples_leaf=1, min_samples_split=2,\n",
       "            min_weight_fraction_leaf=0.0, n_estimators=10, n_jobs=1,\n",
       "            oob_score=False, random_state=None, verbose=0,\n",
       "            warm_start=False)"
      ]
     },
     "execution_count": 133,
     "metadata": {},
     "output_type": "execute_result"
    }
   ],
   "source": [
    "# fit\n",
    "rfc.fit(X_train,y_train)"
   ]
  },
  {
   "cell_type": "code",
   "execution_count": 134,
   "metadata": {},
   "outputs": [],
   "source": [
    "# Making predictions\n",
    "predictions = rfc.predict(X_test)"
   ]
  },
  {
   "cell_type": "code",
   "execution_count": 135,
   "metadata": {},
   "outputs": [],
   "source": [
    "# Importing classification report and confusion matrix from sklearn metrics\n",
    "from sklearn.metrics import classification_report,confusion_matrix, accuracy_score"
   ]
  },
  {
   "cell_type": "code",
   "execution_count": 136,
   "metadata": {},
   "outputs": [
    {
     "name": "stdout",
     "output_type": "stream",
     "text": [
      "             precision    recall  f1-score   support\n",
      "\n",
      "          0       0.94      0.99      0.96      8251\n",
      "          1       0.72      0.33      0.45       750\n",
      "\n",
      "avg / total       0.92      0.93      0.92      9001\n",
      "\n"
     ]
    }
   ],
   "source": [
    "# Let's check the report of our default model\n",
    "print(classification_report(y_test,predictions))"
   ]
  },
  {
   "cell_type": "code",
   "execution_count": 137,
   "metadata": {},
   "outputs": [
    {
     "name": "stdout",
     "output_type": "stream",
     "text": [
      "[[8155   96]\n",
      " [ 505  245]]\n"
     ]
    }
   ],
   "source": [
    "# Printing confusion matrix\n",
    "print(confusion_matrix(y_test,predictions))"
   ]
  },
  {
   "cell_type": "code",
   "execution_count": 138,
   "metadata": {},
   "outputs": [
    {
     "name": "stdout",
     "output_type": "stream",
     "text": [
      "0.9332296411509832\n"
     ]
    }
   ],
   "source": [
    "print(accuracy_score(y_test,predictions))"
   ]
  },
  {
   "cell_type": "markdown",
   "metadata": {},
   "source": [
    "Tuning max_depth"
   ]
  },
  {
   "cell_type": "code",
   "execution_count": 141,
   "metadata": {},
   "outputs": [
    {
     "data": {
      "text/plain": [
       "GridSearchCV(cv=5, error_score='raise',\n",
       "       estimator=RandomForestClassifier(bootstrap=True, class_weight=None, criterion='gini',\n",
       "            max_depth=None, max_features='auto', max_leaf_nodes=None,\n",
       "            min_impurity_decrease=0.0, min_impurity_split=None,\n",
       "            min_samples_leaf=1, min_samples_split=2,\n",
       "            min_weight_fraction_leaf=0.0, n_estimators=10, n_jobs=1,\n",
       "            oob_score=False, random_state=None, verbose=0,\n",
       "            warm_start=False),\n",
       "       fit_params=None, iid=True, n_jobs=1,\n",
       "       param_grid={'max_depth': range(2, 20, 5)}, pre_dispatch='2*n_jobs',\n",
       "       refit=True, return_train_score='warn', scoring='accuracy',\n",
       "       verbose=0)"
      ]
     },
     "execution_count": 141,
     "metadata": {},
     "output_type": "execute_result"
    }
   ],
   "source": [
    "# GridSearchCV to find optimal n_estimators\n",
    "from sklearn.model_selection import KFold\n",
    "from sklearn.model_selection import GridSearchCV\n",
    "\n",
    "\n",
    "# specify number of folds for k-fold CV\n",
    "n_folds = 5\n",
    "\n",
    "# parameters to build the model on\n",
    "parameters = {'max_depth': range(2, 20, 5)}\n",
    "\n",
    "# instantiate the model\n",
    "rf = RandomForestClassifier()\n",
    "\n",
    "\n",
    "# fit tree on training data\n",
    "rf = GridSearchCV(rf, parameters, \n",
    "                    cv=n_folds, \n",
    "                   scoring=\"accuracy\")\n",
    "rf.fit(X_train, y_train)"
   ]
  },
  {
   "cell_type": "code",
   "execution_count": 142,
   "metadata": {},
   "outputs": [
    {
     "name": "stderr",
     "output_type": "stream",
     "text": [
      "C:\\Users\\Ajit Shalini\\Anaconda3\\lib\\site-packages\\sklearn\\utils\\deprecation.py:122: FutureWarning: You are accessing a training score ('split0_train_score'), which will not be available by default any more in 0.21. If you need training scores, please set return_train_score=True\n",
      "  warnings.warn(*warn_args, **warn_kwargs)\n",
      "C:\\Users\\Ajit Shalini\\Anaconda3\\lib\\site-packages\\sklearn\\utils\\deprecation.py:122: FutureWarning: You are accessing a training score ('split1_train_score'), which will not be available by default any more in 0.21. If you need training scores, please set return_train_score=True\n",
      "  warnings.warn(*warn_args, **warn_kwargs)\n",
      "C:\\Users\\Ajit Shalini\\Anaconda3\\lib\\site-packages\\sklearn\\utils\\deprecation.py:122: FutureWarning: You are accessing a training score ('split2_train_score'), which will not be available by default any more in 0.21. If you need training scores, please set return_train_score=True\n",
      "  warnings.warn(*warn_args, **warn_kwargs)\n",
      "C:\\Users\\Ajit Shalini\\Anaconda3\\lib\\site-packages\\sklearn\\utils\\deprecation.py:122: FutureWarning: You are accessing a training score ('split3_train_score'), which will not be available by default any more in 0.21. If you need training scores, please set return_train_score=True\n",
      "  warnings.warn(*warn_args, **warn_kwargs)\n",
      "C:\\Users\\Ajit Shalini\\Anaconda3\\lib\\site-packages\\sklearn\\utils\\deprecation.py:122: FutureWarning: You are accessing a training score ('split4_train_score'), which will not be available by default any more in 0.21. If you need training scores, please set return_train_score=True\n",
      "  warnings.warn(*warn_args, **warn_kwargs)\n",
      "C:\\Users\\Ajit Shalini\\Anaconda3\\lib\\site-packages\\sklearn\\utils\\deprecation.py:122: FutureWarning: You are accessing a training score ('mean_train_score'), which will not be available by default any more in 0.21. If you need training scores, please set return_train_score=True\n",
      "  warnings.warn(*warn_args, **warn_kwargs)\n",
      "C:\\Users\\Ajit Shalini\\Anaconda3\\lib\\site-packages\\sklearn\\utils\\deprecation.py:122: FutureWarning: You are accessing a training score ('std_train_score'), which will not be available by default any more in 0.21. If you need training scores, please set return_train_score=True\n",
      "  warnings.warn(*warn_args, **warn_kwargs)\n"
     ]
    },
    {
     "data": {
      "text/html": [
       "<div>\n",
       "<style scoped>\n",
       "    .dataframe tbody tr th:only-of-type {\n",
       "        vertical-align: middle;\n",
       "    }\n",
       "\n",
       "    .dataframe tbody tr th {\n",
       "        vertical-align: top;\n",
       "    }\n",
       "\n",
       "    .dataframe thead th {\n",
       "        text-align: right;\n",
       "    }\n",
       "</style>\n",
       "<table border=\"1\" class=\"dataframe\">\n",
       "  <thead>\n",
       "    <tr style=\"text-align: right;\">\n",
       "      <th></th>\n",
       "      <th>mean_fit_time</th>\n",
       "      <th>std_fit_time</th>\n",
       "      <th>mean_score_time</th>\n",
       "      <th>std_score_time</th>\n",
       "      <th>param_max_depth</th>\n",
       "      <th>params</th>\n",
       "      <th>split0_test_score</th>\n",
       "      <th>split1_test_score</th>\n",
       "      <th>split2_test_score</th>\n",
       "      <th>split3_test_score</th>\n",
       "      <th>...</th>\n",
       "      <th>mean_test_score</th>\n",
       "      <th>std_test_score</th>\n",
       "      <th>rank_test_score</th>\n",
       "      <th>split0_train_score</th>\n",
       "      <th>split1_train_score</th>\n",
       "      <th>split2_train_score</th>\n",
       "      <th>split3_train_score</th>\n",
       "      <th>split4_train_score</th>\n",
       "      <th>mean_train_score</th>\n",
       "      <th>std_train_score</th>\n",
       "    </tr>\n",
       "  </thead>\n",
       "  <tbody>\n",
       "    <tr>\n",
       "      <th>0</th>\n",
       "      <td>0.294812</td>\n",
       "      <td>0.044399</td>\n",
       "      <td>0.008377</td>\n",
       "      <td>0.002054</td>\n",
       "      <td>2</td>\n",
       "      <td>{'max_depth': 2}</td>\n",
       "      <td>0.919305</td>\n",
       "      <td>0.919524</td>\n",
       "      <td>0.919524</td>\n",
       "      <td>0.919524</td>\n",
       "      <td>...</td>\n",
       "      <td>0.919476</td>\n",
       "      <td>0.000086</td>\n",
       "      <td>4</td>\n",
       "      <td>0.919519</td>\n",
       "      <td>0.919464</td>\n",
       "      <td>0.919464</td>\n",
       "      <td>0.919464</td>\n",
       "      <td>0.919469</td>\n",
       "      <td>0.919476</td>\n",
       "      <td>0.000021</td>\n",
       "    </tr>\n",
       "    <tr>\n",
       "      <th>1</th>\n",
       "      <td>0.719150</td>\n",
       "      <td>0.048911</td>\n",
       "      <td>0.011103</td>\n",
       "      <td>0.003205</td>\n",
       "      <td>7</td>\n",
       "      <td>{'max_depth': 7}</td>\n",
       "      <td>0.928350</td>\n",
       "      <td>0.924286</td>\n",
       "      <td>0.930714</td>\n",
       "      <td>0.930714</td>\n",
       "      <td>...</td>\n",
       "      <td>0.928381</td>\n",
       "      <td>0.002364</td>\n",
       "      <td>3</td>\n",
       "      <td>0.938925</td>\n",
       "      <td>0.941012</td>\n",
       "      <td>0.941012</td>\n",
       "      <td>0.939940</td>\n",
       "      <td>0.938337</td>\n",
       "      <td>0.939845</td>\n",
       "      <td>0.001082</td>\n",
       "    </tr>\n",
       "    <tr>\n",
       "      <th>2</th>\n",
       "      <td>1.263201</td>\n",
       "      <td>0.151622</td>\n",
       "      <td>0.017147</td>\n",
       "      <td>0.004649</td>\n",
       "      <td>12</td>\n",
       "      <td>{'max_depth': 12}</td>\n",
       "      <td>0.933111</td>\n",
       "      <td>0.927619</td>\n",
       "      <td>0.933810</td>\n",
       "      <td>0.934762</td>\n",
       "      <td>...</td>\n",
       "      <td>0.932476</td>\n",
       "      <td>0.002504</td>\n",
       "      <td>2</td>\n",
       "      <td>0.974939</td>\n",
       "      <td>0.974940</td>\n",
       "      <td>0.973393</td>\n",
       "      <td>0.975179</td>\n",
       "      <td>0.976549</td>\n",
       "      <td>0.975000</td>\n",
       "      <td>0.001002</td>\n",
       "    </tr>\n",
       "    <tr>\n",
       "      <th>3</th>\n",
       "      <td>1.530447</td>\n",
       "      <td>0.081625</td>\n",
       "      <td>0.016755</td>\n",
       "      <td>0.001466</td>\n",
       "      <td>17</td>\n",
       "      <td>{'max_depth': 17}</td>\n",
       "      <td>0.932635</td>\n",
       "      <td>0.930476</td>\n",
       "      <td>0.932381</td>\n",
       "      <td>0.937381</td>\n",
       "      <td>...</td>\n",
       "      <td>0.933000</td>\n",
       "      <td>0.002317</td>\n",
       "      <td>1</td>\n",
       "      <td>0.991904</td>\n",
       "      <td>0.990774</td>\n",
       "      <td>0.991250</td>\n",
       "      <td>0.991607</td>\n",
       "      <td>0.990477</td>\n",
       "      <td>0.991202</td>\n",
       "      <td>0.000523</td>\n",
       "    </tr>\n",
       "  </tbody>\n",
       "</table>\n",
       "<p>4 rows × 21 columns</p>\n",
       "</div>"
      ],
      "text/plain": [
       "   mean_fit_time  std_fit_time  mean_score_time  std_score_time  \\\n",
       "0       0.294812      0.044399         0.008377        0.002054   \n",
       "1       0.719150      0.048911         0.011103        0.003205   \n",
       "2       1.263201      0.151622         0.017147        0.004649   \n",
       "3       1.530447      0.081625         0.016755        0.001466   \n",
       "\n",
       "  param_max_depth             params  split0_test_score  split1_test_score  \\\n",
       "0               2   {'max_depth': 2}           0.919305           0.919524   \n",
       "1               7   {'max_depth': 7}           0.928350           0.924286   \n",
       "2              12  {'max_depth': 12}           0.933111           0.927619   \n",
       "3              17  {'max_depth': 17}           0.932635           0.930476   \n",
       "\n",
       "   split2_test_score  split3_test_score       ...         mean_test_score  \\\n",
       "0           0.919524           0.919524       ...                0.919476   \n",
       "1           0.930714           0.930714       ...                0.928381   \n",
       "2           0.933810           0.934762       ...                0.932476   \n",
       "3           0.932381           0.937381       ...                0.933000   \n",
       "\n",
       "   std_test_score  rank_test_score  split0_train_score  split1_train_score  \\\n",
       "0        0.000086                4            0.919519            0.919464   \n",
       "1        0.002364                3            0.938925            0.941012   \n",
       "2        0.002504                2            0.974939            0.974940   \n",
       "3        0.002317                1            0.991904            0.990774   \n",
       "\n",
       "   split2_train_score  split3_train_score  split4_train_score  \\\n",
       "0            0.919464            0.919464            0.919469   \n",
       "1            0.941012            0.939940            0.938337   \n",
       "2            0.973393            0.975179            0.976549   \n",
       "3            0.991250            0.991607            0.990477   \n",
       "\n",
       "   mean_train_score  std_train_score  \n",
       "0          0.919476         0.000021  \n",
       "1          0.939845         0.001082  \n",
       "2          0.975000         0.001002  \n",
       "3          0.991202         0.000523  \n",
       "\n",
       "[4 rows x 21 columns]"
      ]
     },
     "execution_count": 142,
     "metadata": {},
     "output_type": "execute_result"
    }
   ],
   "source": [
    "# scores of GridSearch CV\n",
    "scores = rf.cv_results_\n",
    "pd.DataFrame(scores).head()"
   ]
  },
  {
   "cell_type": "code",
   "execution_count": 143,
   "metadata": {},
   "outputs": [
    {
     "name": "stderr",
     "output_type": "stream",
     "text": [
      "C:\\Users\\Ajit Shalini\\Anaconda3\\lib\\site-packages\\sklearn\\utils\\deprecation.py:122: FutureWarning: You are accessing a training score ('mean_train_score'), which will not be available by default any more in 0.21. If you need training scores, please set return_train_score=True\n",
      "  warnings.warn(*warn_args, **warn_kwargs)\n"
     ]
    },
    {
     "data": {
      "image/png": "[encoded data removed]",
      "text/plain": [
       "<Figure size 432x288 with 1 Axes>"
      ]
     },
     "metadata": {
      "needs_background": "light"
     },
     "output_type": "display_data"
    }
   ],
   "source": [
    "# plotting accuracies with max_depth\n",
    "plt.figure()\n",
    "plt.plot(scores[\"param_max_depth\"], \n",
    "         scores[\"mean_train_score\"], \n",
    "         label=\"training accuracy\")\n",
    "plt.plot(scores[\"param_max_depth\"], \n",
    "         scores[\"mean_test_score\"], \n",
    "         label=\"test accuracy\")\n",
    "plt.xlabel(\"max_depth\")\n",
    "plt.ylabel(\"Accuracy\")\n",
    "plt.legend()\n",
    "plt.show()"
   ]
  },
  {
   "cell_type": "code",
   "execution_count": 144,
   "metadata": {},
   "outputs": [],
   "source": [
    "max_depth = 7"
   ]
  },
  {
   "cell_type": "code",
   "execution_count": null,
   "metadata": {},
   "outputs": [],
   "source": [
    ",,. Tuning n_estimators,,."
   ]
  },
  {
   "cell_type": "code",
   "execution_count": null,
   "metadata": {},
   "outputs": [],
   "source": [
    "# GridSearchCV to find optimal n_estimators\n",
    "from sklearn.model_selection import KFold\n",
    "from sklearn.model_selection import GridSearchCV\n",
    "\n",
    "\n",
    "# specify number of folds for k-fold CV\n",
    "n_folds = 5\n",
    "\n",
    "# parameters to build the model on\n",
    "parameters = {'n_estimators': range(100, 400)}\n",
    "\n",
    "# instantiate the model (note we are specifying a max_depth)\n",
    "rf = RandomForestClassifier(max_depth=4)\n",
    "\n",
    "\n",
    "# fit tree on training data\n",
    "rf = GridSearchCV(rf, parameters, \n",
    "                    cv=n_folds, \n",
    "                   scoring=\"accuracy\")\n",
    "rf.fit(X_train, y_train)"
   ]
  },
  {
   "cell_type": "code",
   "execution_count": null,
   "metadata": {},
   "outputs": [],
   "source": [
    "# scores of GridSearch CV\n",
    "scores = rf.cv_results_\n",
    "pd.DataFrame(scores).head()"
   ]
  },
  {
   "cell_type": "code",
   "execution_count": null,
   "metadata": {},
   "outputs": [],
   "source": [
    "# plotting accuracies with n_estimators\n",
    "plt.figure()\n",
    "plt.plot(scores[\"param_n_estimators\"], \n",
    "         scores[\"mean_train_score\"], \n",
    "         label=\"training accuracy\")\n",
    "plt.plot(scores[\"param_n_estimators\"], \n",
    "         scores[\"mean_test_score\"], \n",
    "         label=\"test accuracy\")\n",
    "plt.xlabel(\"n_estimators\")\n",
    "plt.ylabel(\"Accuracy\")\n",
    "plt.legend()\n",
    "plt.show()\n"
   ]
  },
  {
   "cell_type": "code",
   "execution_count": 145,
   "metadata": {},
   "outputs": [],
   "source": [
    "n_estimators = 100"
   ]
  },
  {
   "cell_type": "code",
   "execution_count": null,
   "metadata": {},
   "outputs": [],
   "source": [
    "#Tuning max_features\n",
    "\n",
    "# GridSearchCV to find optimal max_features\n",
    "from sklearn.model_selection import KFold\n",
    "from sklearn.model_selection import GridSearchCV\n",
    "# specify number of folds for k-fold CV\n",
    "n_folds = 5\n",
    "\n",
    "# parameters to build the model on\n",
    "parameters = {'max_features': [4, 8, 14, 20, 24]}\n",
    "\n",
    "# instantiate the model\n",
    "rf = RandomForestClassifier(max_depth=4)\n",
    "\n",
    "\n",
    "# fit tree on training data\n",
    "rf = GridSearchCV(rf, parameters, \n",
    "                    cv=n_folds, \n",
    "                   scoring=\"accuracy\")\n",
    "rf.fit(X_train, y_train)"
   ]
  },
  {
   "cell_type": "code",
   "execution_count": null,
   "metadata": {},
   "outputs": [],
   "source": [
    "# scores of GridSearch CV\n",
    "scores = rf.cv_results_\n",
    "pd.DataFrame(scores).head()"
   ]
  },
  {
   "cell_type": "code",
   "execution_count": null,
   "metadata": {},
   "outputs": [],
   "source": [
    "# plotting accuracies with max_features\n",
    "plt.figure()\n",
    "plt.plot(scores[\"param_max_features\"], \n",
    "         scores[\"mean_train_score\"], \n",
    "         label=\"training accuracy\")\n",
    "plt.plot(scores[\"param_max_features\"], \n",
    "         scores[\"mean_test_score\"], \n",
    "         label=\"test accuracy\")\n",
    "plt.xlabel(\"max_features\")\n",
    "plt.ylabel(\"Accuracy\")\n",
    "plt.legend()\n",
    "plt.show()\n"
   ]
  },
  {
   "cell_type": "code",
   "execution_count": 146,
   "metadata": {},
   "outputs": [],
   "source": [
    "max_features = 14"
   ]
  },
  {
   "cell_type": "markdown",
   "metadata": {},
   "source": [
    "Tuning min_samples_leaf"
   ]
  },
  {
   "cell_type": "code",
   "execution_count": null,
   "metadata": {},
   "outputs": [],
   "source": [
    "# GridSearchCV to find optimal min_samples_leaf\n",
    "from sklearn.model_selection import KFold\n",
    "from sklearn.model_selection import GridSearchCV\n",
    "\n",
    "\n",
    "# specify number of folds for k-fold CV\n",
    "n_folds = 5\n",
    "\n",
    "# parameters to build the model on\n",
    "parameters = {'min_samples_leaf': range(100, 400, 50)}\n",
    "\n",
    "# instantiate the model\n",
    "rf = RandomForestClassifier()\n",
    "\n",
    "\n",
    "# fit tree on training data\n",
    "rf = GridSearchCV(rf, parameters, \n",
    "                    cv=n_folds, \n",
    "                   scoring=\"accuracy\")\n",
    "rf.fit(X_train, y_train)"
   ]
  },
  {
   "cell_type": "code",
   "execution_count": null,
   "metadata": {},
   "outputs": [],
   "source": [
    "# scores of GridSearch CV\n",
    "scores = rf.cv_results_\n",
    "pd.DataFrame(scores).head()"
   ]
  },
  {
   "cell_type": "code",
   "execution_count": null,
   "metadata": {},
   "outputs": [],
   "source": [
    "# plotting accuracies with min_samples_leaf\n",
    "plt.figure()\n",
    "plt.plot(scores[\"param_min_samples_leaf\"], \n",
    "         scores[\"mean_train_score\"], \n",
    "         label=\"training accuracy\")\n",
    "plt.plot(scores[\"param_min_samples_leaf\"], \n",
    "         scores[\"mean_test_score\"], \n",
    "         label=\"test accuracy\")\n",
    "plt.xlabel(\"min_samples_leaf\")\n",
    "plt.ylabel(\"Accuracy\")\n",
    "plt.legend()\n",
    "plt.show()"
   ]
  },
  {
   "cell_type": "code",
   "execution_count": 147,
   "metadata": {},
   "outputs": [],
   "source": [
    "min_samples_leaf = 100"
   ]
  },
  {
   "cell_type": "markdown",
   "metadata": {},
   "source": [
    "Tuning min_samples_split"
   ]
  },
  {
   "cell_type": "code",
   "execution_count": null,
   "metadata": {},
   "outputs": [],
   "source": [
    "# GridSearchCV to find optimal min_samples_split\n",
    "from sklearn.model_selection import KFold\n",
    "from sklearn.model_selection import GridSearchCV\n",
    "\n",
    "\n",
    "# specify number of folds for k-fold CV\n",
    "n_folds = 5\n",
    "\n",
    "# parameters to build the model on\n",
    "parameters = {'min_samples_split': range(200, 500, 50)}\n",
    "\n",
    "# instantiate the model\n",
    "rf = RandomForestClassifier()\n",
    "\n",
    "\n",
    "# fit tree on training data\n",
    "rf = GridSearchCV(rf, parameters, \n",
    "                    cv=n_folds, \n",
    "                   scoring=\"accuracy\")\n",
    "rf.fit(X_train, y_train)"
   ]
  },
  {
   "cell_type": "code",
   "execution_count": null,
   "metadata": {},
   "outputs": [],
   "source": [
    "# scores of GridSearch CV\n",
    "scores = rf.cv_results_\n",
    "pd.DataFrame(scores).head()"
   ]
  },
  {
   "cell_type": "code",
   "execution_count": null,
   "metadata": {},
   "outputs": [],
   "source": [
    "# plotting accuracies with min_samples_split\n",
    "plt.figure()\n",
    "plt.plot(scores[\"param_min_samples_split\"], \n",
    "         scores[\"mean_train_score\"], \n",
    "         label=\"training accuracy\")\n",
    "plt.plot(scores[\"param_min_samples_split\"], \n",
    "         scores[\"mean_test_score\"], \n",
    "         label=\"test accuracy\")\n",
    "plt.xlabel(\"min_samples_split\")\n",
    "plt.ylabel(\"Accuracy\")\n",
    "plt.legend()\n",
    "plt.show()"
   ]
  },
  {
   "cell_type": "code",
   "execution_count": 148,
   "metadata": {},
   "outputs": [],
   "source": [
    "min_samples_split = 200"
   ]
  },
  {
   "cell_type": "markdown",
   "metadata": {},
   "source": [
    "Fitting the final model with the best parameters obtained from grid search."
   ]
  },
  {
   "cell_type": "code",
   "execution_count": 149,
   "metadata": {},
   "outputs": [
    {
     "name": "stdout",
     "output_type": "stream",
     "text": [
      "7\n",
      "100\n",
      "200\n",
      "14\n",
      "100\n"
     ]
    }
   ],
   "source": [
    "# model with the best hyperparameters\n",
    "print(max_depth)\n",
    "    \n",
    "print(min_samples_leaf) \n",
    "print(min_samples_split)\n",
    "print(max_features)\n",
    "print(n_estimators)  "
   ]
  },
  {
   "cell_type": "code",
   "execution_count": 150,
   "metadata": {},
   "outputs": [],
   "source": [
    "# model with the best hyperparameters\n",
    "from sklearn.ensemble import RandomForestClassifier\n",
    "rfc = RandomForestClassifier(bootstrap=True,\n",
    "                             max_depth=7,\n",
    "                             min_samples_leaf=100, \n",
    "                             min_samples_split=200,\n",
    "                             max_features=14,\n",
    "                             n_estimators=100)"
   ]
  },
  {
   "cell_type": "code",
   "execution_count": 151,
   "metadata": {},
   "outputs": [
    {
     "data": {
      "text/plain": [
       "RandomForestClassifier(bootstrap=True, class_weight=None, criterion='gini',\n",
       "            max_depth=7, max_features=14, max_leaf_nodes=None,\n",
       "            min_impurity_decrease=0.0, min_impurity_split=None,\n",
       "            min_samples_leaf=100, min_samples_split=200,\n",
       "            min_weight_fraction_leaf=0.0, n_estimators=100, n_jobs=1,\n",
       "            oob_score=False, random_state=None, verbose=0,\n",
       "            warm_start=False)"
      ]
     },
     "execution_count": 151,
     "metadata": {},
     "output_type": "execute_result"
    }
   ],
   "source": [
    "# fit\n",
    "rfc.fit(X_train,y_train)"
   ]
  },
  {
   "cell_type": "code",
   "execution_count": 152,
   "metadata": {},
   "outputs": [],
   "source": [
    "# predict\n",
    "predictions = rfc.predict(X_test)"
   ]
  },
  {
   "cell_type": "code",
   "execution_count": 153,
   "metadata": {},
   "outputs": [
    {
     "name": "stdout",
     "output_type": "stream",
     "text": [
      "             precision    recall  f1-score   support\n",
      "\n",
      "          0       0.93      0.99      0.96      8251\n",
      "          1       0.69      0.17      0.27       750\n",
      "\n",
      "avg / total       0.91      0.92      0.90      9001\n",
      "\n"
     ]
    }
   ],
   "source": [
    "# evaluation metrics\n",
    "from sklearn.metrics import classification_report,confusion_matrix\n",
    "print(classification_report(y_test,predictions))"
   ]
  },
  {
   "cell_type": "code",
   "execution_count": 154,
   "metadata": {},
   "outputs": [
    {
     "name": "stdout",
     "output_type": "stream",
     "text": [
      "[[8194   57]\n",
      " [ 622  128]]\n"
     ]
    }
   ],
   "source": [
    "# Printing confusion matrix\n",
    "print(confusion_matrix(y_test,predictions))"
   ]
  },
  {
   "cell_type": "code",
   "execution_count": 155,
   "metadata": {},
   "outputs": [
    {
     "name": "stdout",
     "output_type": "stream",
     "text": [
      "0.9245639373402955\n"
     ]
    }
   ],
   "source": [
    "print(accuracy_score(y_test,predictions))"
   ]
  },
  {
   "cell_type": "markdown",
   "metadata": {},
   "source": [
    "Random Forest(default)  : 0.9336\n",
    "Random Forest(parameter Tuning) : 0.9243\n",
    "logistic regression(AUC) : 0.89"
   ]
  },
  {
   "cell_type": "code",
   "execution_count": 156,
   "metadata": {},
   "outputs": [],
   "source": [
    "#Feature importance\n",
    "\n",
    "feat_importances = pd.Series(rfc.feature_importances_, index=X_train.columns)"
   ]
  },
  {
   "cell_type": "code",
   "execution_count": 157,
   "metadata": {},
   "outputs": [
    {
     "data": {
      "text/plain": [
       "avg67_diff8_arpu                0.139563\n",
       "avg67_diff8_total_rech_amt      0.121185\n",
       "avg67_diff8_rech_days           0.078464\n",
       "avg67_diff8_total_og_mou        0.059675\n",
       "avg67_diff8_max_rech_amt        0.055492\n",
       "avg67_diff8_rech_data_days      0.048933\n",
       "avg67_diff8_total_rech_num      0.045267\n",
       "avg67_diff8_total_ic_mou        0.030647\n",
       "avg67_diff8_last_day_rch_amt    0.029839\n",
       "avg67_diff8_loc_ic_t2m_mou      0.029597\n",
       "avg67_diff8_std_og_mou          0.028377\n",
       "loc_ic_mou_avg67                0.021191\n",
       "loc_ic_t2m_mou_avg67            0.020817\n",
       "avg67_diff8_loc_ic_mou          0.019915\n",
       "avg67_diff8_loc_ic_t2t_mou      0.019644\n",
       "total_ic_mou_avg67              0.017476\n",
       "avg67_diff8_roam_og_mou         0.012876\n",
       "avg67_diff8_offnet_mou          0.011673\n",
       "loc_og_mou_avg67                0.010922\n",
       "aug_vbc_3g                      0.010039\n",
       "loc_og_t2m_mou_avg67            0.009836\n",
       "avg67_diff8_std_ic_mou          0.009714\n",
       "loc_ic_t2t_mou_avg67            0.009606\n",
       "avg67_diff8_onnet_mou           0.009586\n",
       "avg67_diff8_roam_ic_mou         0.008466\n",
       "avg67_diff8_std_og_t2t_mou      0.007902\n",
       "total_rech_amt_avg67            0.007397\n",
       "max_rech_amt_avg67              0.006646\n",
       "total_og_mou_avg67              0.006470\n",
       "avg67_diff8_loc_og_t2t_mou      0.005807\n",
       "dtype: float64"
      ]
     },
     "execution_count": 157,
     "metadata": {},
     "output_type": "execute_result"
    }
   ],
   "source": [
    "#list of important variables\n",
    "feat_importances.nlargest(30)"
   ]
  },
  {
   "cell_type": "code",
   "execution_count": 162,
   "metadata": {},
   "outputs": [
    {
     "data": {
      "text/plain": [
       "<matplotlib.axes._subplots.AxesSubplot at 0x16c473e8f98>"
      ]
     },
     "execution_count": 162,
     "metadata": {},
     "output_type": "execute_result"
    },
    {
     "data": {
      "image/png": "[encoded data removed]",
      "text/plain": [
       "<Figure size 432x288 with 1 Axes>"
      ]
     },
     "metadata": {
      "needs_background": "light"
     },
     "output_type": "display_data"
    }
   ],
   "source": [
    "feat_importances.nlargest(10).plot(kind='barh')"
   ]
  },
  {
   "cell_type": "markdown",
   "metadata": {},
   "source": [
    "Observations:\n",
    "Difference between 8th and average 6,7 months plays high role in churn prediction\n",
    "Average revenue per person and recharge amounts are also good indicators for churn\n",
    "\n",
    "The accuracies of random forest are almost same as logistic regression\n",
    "Random Forest(default)  : 0.9336\n",
    "logistic regression(AUC) : 0.89"
   ]
  },
  {
   "cell_type": "markdown",
   "metadata": {},
   "source": [
    "##Recommondations\n",
    "\n",
    "High Difference rate of 8th month and avg 67 months are good indicators for churn\n",
    "\n",
    "Revenue Per Customer are strong indicators of Churn\n",
    "\n",
    "Churning rate of High Value customers is low which indicates good customer service\n",
    "\n",
    "Max Recharge Amount could be a good Churn Indicator\n",
    "\n",
    "Tenure range shows there are customers < 5years\n",
    "\n",
    "The most number of days from recharge date is alarming for churn rate\n"
   ]
  },
  {
   "cell_type": "code",
   "execution_count": null,
   "metadata": {},
   "outputs": [],
   "source": []
  }
 ],
 "metadata": {
  "kernelspec": {
   "display_name": "Python 3",
   "language": "python",
   "name": "python3"
  },
  "language_info": {
   "codemirror_mode": {
    "name": "ipython",
    "version": 3
   },
   "file_extension": ".py",
   "mimetype": "text/x-python",
   "name": "python",
   "nbconvert_exporter": "python",
   "pygments_lexer": "ipython3",
   "version": "3.7.0"
  }
 },
 "nbformat": 4,
 "nbformat_minor": 2
}
